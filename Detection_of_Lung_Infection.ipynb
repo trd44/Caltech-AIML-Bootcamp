{
  "nbformat": 4,
  "nbformat_minor": 0,
  "metadata": {
    "colab": {
      "provenance": [],
      "authorship_tag": "ABX9TyMxBEJDk4G0YwBxKEWXY3Uq",
      "include_colab_link": true
    },
    "kernelspec": {
      "name": "python3",
      "display_name": "Python 3"
    },
    "language_info": {
      "name": "python"
    },
    "accelerator": "GPU",
    "gpuClass": "standard"
  },
  "cells": [
    {
      "cell_type": "markdown",
      "metadata": {
        "id": "view-in-github",
        "colab_type": "text"
      },
      "source": [
        "<a href=\"https://colab.research.google.com/github/trd44/Caltech-AIML-Bootcamp/blob/main/Detection_of_Lung_Infection.ipynb\" target=\"_parent\"><img src=\"https://colab.research.google.com/assets/colab-badge.svg\" alt=\"Open In Colab\"/></a>"
      ]
    },
    {
      "cell_type": "markdown",
      "source": [
        "# Advanced Deep Learning and Computer Vision Project\n",
        "## Detection of Lung Infection"
      ],
      "metadata": {
        "id": "ccxQjSB79V5r"
      }
    },
    {
      "cell_type": "code",
      "source": [
        "# Mounting the drive\n",
        "from google.colab import drive\n",
        "\n",
        "drive.mount('/content/drive')"
      ],
      "metadata": {
        "colab": {
          "base_uri": "https://localhost:8080/"
        },
        "id": "03tfiNm49ePk",
        "outputId": "fdebc4e4-28e8-440f-e88c-081af5a9ecc8"
      },
      "execution_count": null,
      "outputs": [
        {
          "output_type": "stream",
          "name": "stdout",
          "text": [
            "Mounted at /content/drive\n"
          ]
        }
      ]
    },
    {
      "cell_type": "markdown",
      "source": [
        "## Import the Necessary Libraries"
      ],
      "metadata": {
        "id": "rsEcgKq_93Zj"
      }
    },
    {
      "cell_type": "code",
      "source": [
        "import os\n",
        "import random\n",
        "import zipfile\n",
        "\n",
        "import numpy as np\n",
        "import pandas as pd\n",
        "import tensorflow as tf\n",
        "import matplotlib.pyplot as plt\n",
        "\n",
        "from PIL import Image"
      ],
      "metadata": {
        "id": "qAcUDasb9jX4"
      },
      "execution_count": null,
      "outputs": []
    },
    {
      "cell_type": "markdown",
      "source": [
        "### Loading the Images"
      ],
      "metadata": {
        "id": "mqnWsW9Y-72J"
      }
    },
    {
      "cell_type": "code",
      "source": [
        "path = '/content/drive/MyDrive/Datasets/Dataset_Detection_of_Lung_Infection.zip'\n",
        "\n",
        "with zipfile.ZipFile(path, 'r') as zip:\n",
        "  zip.extractall()"
      ],
      "metadata": {
        "id": "QA5as0ES-Irw"
      },
      "execution_count": null,
      "outputs": []
    },
    {
      "cell_type": "code",
      "source": [
        "train_dir = \"/content/data/train/\"\n",
        "train_images = []\n",
        "train_labels = []\n",
        "train_image_name = []\n",
        "\n",
        "test_dir = \"/content/data/test/\"\n",
        "test_images = []\n",
        "test_labels = []\n",
        "test_image_name = []"
      ],
      "metadata": {
        "id": "YH6ebaXe_Omb"
      },
      "execution_count": null,
      "outputs": []
    },
    {
      "cell_type": "code",
      "source": [
        "folders = os.listdir(train_dir)\n",
        "\n",
        "for folder_name in folders:\n",
        "  \n",
        "  images_path = os.listdir(train_dir + folder_name +\"/\")\n",
        "  \n",
        "  for i, image_name in enumerate(images_path):\n",
        "    \n",
        "    image_path = train_dir + folder_name +\"/\" + image_name\n",
        "    image = Image.open(image_path)\n",
        "\n",
        "    if image.mode != \"L\":\n",
        "      image = image.convert('L')\n",
        "\n",
        "    train_images.append(np.array(image))\n",
        "    train_labels.append(folder_name)\n",
        "    train_image_name.append(image_path)\n",
        "\n",
        "\n",
        "train_images = np.array(train_images)\n",
        "train_labels = np.array(train_labels)"
      ],
      "metadata": {
        "colab": {
          "base_uri": "https://localhost:8080/"
        },
        "id": "R16tVKHQ_rNU",
        "outputId": "e933473e-da5d-4063-ea23-dbb5fbcac589"
      },
      "execution_count": null,
      "outputs": [
        {
          "output_type": "stream",
          "name": "stderr",
          "text": [
            "/usr/local/lib/python3.7/dist-packages/ipykernel_launcher.py:20: VisibleDeprecationWarning: Creating an ndarray from ragged nested sequences (which is a list-or-tuple of lists-or-tuples-or ndarrays with different lengths or shapes) is deprecated. If you meant to do this, you must specify 'dtype=object' when creating the ndarray.\n"
          ]
        }
      ]
    },
    {
      "cell_type": "code",
      "source": [
        "folders = os.listdir(test_dir)\n",
        "\n",
        "for folder_name in folders:\n",
        "  \n",
        "  images_path = os.listdir(test_dir + folder_name +\"/\")\n",
        "  \n",
        "  for i, image_name in enumerate(images_path):\n",
        "    \n",
        "    image_path = test_dir + folder_name +\"/\" + image_name\n",
        "    image = Image.open(image_path)\n",
        "\n",
        "    if image.mode != \"L\":\n",
        "      image = image.convert('L')\n",
        "\n",
        "    test_images.append(np.array(image))\n",
        "    test_labels.append(folder_name)\n",
        "    test_image_name.append(image_path)\n",
        "\n",
        "\n",
        "test_images = np.array(test_images)\n",
        "test_labels = np.array(test_labels)"
      ],
      "metadata": {
        "colab": {
          "base_uri": "https://localhost:8080/"
        },
        "id": "vkgH2RV4BAUm",
        "outputId": "c65d2a94-6fdb-44dd-a765-0a49b31a3449"
      },
      "execution_count": null,
      "outputs": [
        {
          "output_type": "stream",
          "name": "stderr",
          "text": [
            "/usr/local/lib/python3.7/dist-packages/ipykernel_launcher.py:20: VisibleDeprecationWarning: Creating an ndarray from ragged nested sequences (which is a list-or-tuple of lists-or-tuples-or ndarrays with different lengths or shapes) is deprecated. If you meant to do this, you must specify 'dtype=object' when creating the ndarray.\n"
          ]
        }
      ]
    },
    {
      "cell_type": "markdown",
      "source": [
        "## Plot the sample images for all the classes "
      ],
      "metadata": {
        "id": "i39dAyv5B7ZQ"
      }
    },
    {
      "cell_type": "code",
      "source": [
        "plt.figure(1, figsize = (12, 12))\n",
        "\n",
        "plt.subplot(1, 3, 1)\n",
        "plt.title(train_labels[0])\n",
        "plt.imshow(train_images[0], cmap=\"gray\")\n",
        "# print(train_image_name[0])\n",
        "# print(train_images[0].shape)\n",
        "\n",
        "plt.subplot(1, 3, 2)\n",
        "halfway = int(train_labels.shape[0]/2)\n",
        "plt.title(train_labels[halfway])\n",
        "plt.imshow(train_images[halfway], cmap=\"gray\")\n",
        "# print(train_image_name[halfway])\n",
        "# print(train_images[halfway].shape)\n",
        "\n",
        "plt.subplot(1, 3, 3)\n",
        "plt.title(train_labels[-1])\n",
        "plt.imshow(train_images[-1], cmap=\"gray\")\n",
        "# print(train_image_name[-1])\n",
        "# print(train_images[-1].shape)\n",
        "\n",
        "plt.axis('off')"
      ],
      "metadata": {
        "colab": {
          "base_uri": "https://localhost:8080/",
          "height": 239
        },
        "id": "xIn5SLUGBXmJ",
        "outputId": "bea7b5a2-8265-44e7-b45a-688a16694ec2"
      },
      "execution_count": null,
      "outputs": [
        {
          "output_type": "execute_result",
          "data": {
            "text/plain": [
              "(-0.5, 2380.5, 1964.5, -0.5)"
            ]
          },
          "metadata": {},
          "execution_count": 7
        },
        {
          "output_type": "display_data",
          "data": {
            "text/plain": [
              "<Figure size 864x864 with 3 Axes>"
            ],
            "image/png": "[encoded data removed]"
          },
          "metadata": {
            "needs_background": "light"
          }
        }
      ]
    },
    {
      "cell_type": "markdown",
      "source": [
        "**Observations:** In the healthy image, the lungs look pretty transparent. In the type 1 disease image, the lungs look very opaque. In the type 2 disease image they seem somewhere in between."
      ],
      "metadata": {
        "id": "62BtMV_OJJ15"
      }
    },
    {
      "cell_type": "markdown",
      "source": [
        "## Plot the distribution of images across the classes"
      ],
      "metadata": {
        "id": "8GUv36uMImA9"
      }
    },
    {
      "cell_type": "code",
      "source": [
        "train_labels_df = pd.DataFrame({'Labels': train_labels})\n",
        "train_labels_df['Labels'].value_counts().plot(kind='bar',figsize=(10,10))"
      ],
      "metadata": {
        "colab": {
          "base_uri": "https://localhost:8080/",
          "height": 673
        },
        "id": "_cr8vPUgDFoD",
        "outputId": "c28a6756-3940-4103-fdd6-dfe9083e552d"
      },
      "execution_count": null,
      "outputs": [
        {
          "output_type": "execute_result",
          "data": {
            "text/plain": [
              "<matplotlib.axes._subplots.AxesSubplot at 0x7f4d6423fb50>"
            ]
          },
          "metadata": {},
          "execution_count": 8
        },
        {
          "output_type": "display_data",
          "data": {
            "text/plain": [
              "<Figure size 720x720 with 1 Axes>"
            ],
            "image/png": "[encoded data removed]"
          },
          "metadata": {
            "needs_background": "light"
          }
        }
      ]
    },
    {
      "cell_type": "markdown",
      "source": [
        "**Observations:** The data is relatively even. There are about an equal number of Type 2 disease images as healthy images. There are a a good amount more type 1 disease images though. "
      ],
      "metadata": {
        "id": "OA7HzOtWJzT6"
      }
    },
    {
      "cell_type": "markdown",
      "source": [
        "## Build a data augmentation for train data to create new data with translation, rescale and flip, and rotation transformations. Rescale the image at 48x48\n",
        "\n"
      ],
      "metadata": {
        "id": "LtyGTBXiKRiF"
      }
    },
    {
      "cell_type": "code",
      "source": [
        "import cv2\n",
        "import copy\n",
        "\n",
        "from sklearn.utils import shuffle\n",
        "\n",
        "from tensorflow.keras.models import Sequential\n",
        "from tensorflow.keras.layers import Conv2D, MaxPooling2D, Dense, Flatten, \\\n",
        "                                    Dropout, RandomTranslation, RandomHeight, \\\n",
        "                                    RandomWidth, RandomFlip, RandomRotation, \\\n",
        "                                    Resizing, Rescaling, BatchNormalization\n",
        "from tensorflow.keras.callbacks import EarlyStopping, ModelCheckpoint\n",
        "from tensorflow.keras.utils import to_categorical"
      ],
      "metadata": {
        "id": "DHAxb2ldSnUf"
      },
      "execution_count": null,
      "outputs": []
    },
    {
      "cell_type": "code",
      "source": [
        "tf.keras.backend.clear_session()"
      ],
      "metadata": {
        "id": "HvTX5Tg3Z593"
      },
      "execution_count": null,
      "outputs": []
    },
    {
      "cell_type": "code",
      "source": [
        "data_augmentation = tf.keras.Sequential([\n",
        "    Rescaling(1./255),\n",
        "    RandomTranslation(height_factor=0.2, width_factor=0.2),\n",
        "    RandomHeight(factor=0.2),\n",
        "    RandomWidth(factor=0.2),\n",
        "    RandomFlip(mode=\"horizontal_and_vertical\"),\n",
        "    RandomRotation(factor=1.0),\n",
        "    Resizing(48,48)\n",
        "    ])"
      ],
      "metadata": {
        "id": "DTPyCPGlI-PT"
      },
      "execution_count": null,
      "outputs": []
    },
    {
      "cell_type": "code",
      "source": [
        "augmented_train_images = []\n",
        "augmented_train_labels = []\n",
        "\n",
        "number_of_augments = 9"
      ],
      "metadata": {
        "id": "65wR8cop20YO"
      },
      "execution_count": null,
      "outputs": []
    },
    {
      "cell_type": "code",
      "source": [
        "for i, im in enumerate(train_images):\n",
        "  augmented_train_images.append(np.array(cv2.resize(im, dsize=(48, 48), interpolation=cv2.INTER_CUBIC)))\n",
        "  augmented_train_labels.append(train_labels[i])"
      ],
      "metadata": {
        "id": "TQPMSpVL_mfq"
      },
      "execution_count": null,
      "outputs": []
    },
    {
      "cell_type": "code",
      "source": [
        "for i, im in enumerate(train_images):\n",
        "  \n",
        "  im = tf.expand_dims(im, 2)\n",
        "\n",
        "  for j in range(number_of_augments):\n",
        "    \n",
        "    augmented_im = np.squeeze(data_augmentation(im))\n",
        "    augmented_train_images.append(augmented_im)\n",
        "    augmented_train_labels.append(train_labels[i])\n"
      ],
      "metadata": {
        "id": "uQWr0Ga73m4a"
      },
      "execution_count": null,
      "outputs": []
    },
    {
      "cell_type": "code",
      "source": [
        "# print(train_images[0].shape)\n",
        "# im = tf.expand_dims(train_images[0], 2)\n",
        "# print(im.shape)\n",
        "# augmented_im = np.squeeze(data_augmentation(im))\n",
        "# print(augmented_im.shape)\n"
      ],
      "metadata": {
        "colab": {
          "base_uri": "https://localhost:8080/"
        },
        "id": "0D4iePlJRlgI",
        "outputId": "c19ca849-3393-4984-9beb-3124c6d204e0"
      },
      "execution_count": null,
      "outputs": [
        {
          "output_type": "stream",
          "name": "stdout",
          "text": [
            "(1648, 2150)\n",
            "(1648, 2150, 1)\n",
            "(48, 48)\n"
          ]
        }
      ]
    },
    {
      "cell_type": "code",
      "source": [
        "augmented_train_images = np.array(augmented_train_images)"
      ],
      "metadata": {
        "id": "4l0QKQ-QCy31"
      },
      "execution_count": null,
      "outputs": []
    },
    {
      "cell_type": "code",
      "source": [
        "augmented_train_images = (augmented_train_images/255.0).astype('float32')"
      ],
      "metadata": {
        "id": "pYl41eErA0E-"
      },
      "execution_count": null,
      "outputs": []
    },
    {
      "cell_type": "markdown",
      "source": [
        "## Build a data augmentation for test data to create new data and rescale the image at 48x48"
      ],
      "metadata": {
        "id": "vpym_1r0I9o8"
      }
    },
    {
      "cell_type": "code",
      "source": [
        "resized_test_images = []\n",
        "\n",
        "for i, im in enumerate(test_images):\n",
        "  resized_test_images.append(np.array(cv2.resize(im, dsize=(48, 48), interpolation=cv2.INTER_CUBIC)))\n",
        "\n",
        "resized_test_images = np.array(resized_test_images)\n",
        "resized_test_images = (resized_test_images/255.0).astype('float32')"
      ],
      "metadata": {
        "id": "R0KetMGl3UNH"
      },
      "execution_count": null,
      "outputs": []
    },
    {
      "cell_type": "code",
      "source": [
        "key = {'Type 1 disease': 0, 'Type 2 disease': 1, 'Healthy': 2}"
      ],
      "metadata": {
        "id": "oEKfHQRcOIF0"
      },
      "execution_count": null,
      "outputs": []
    },
    {
      "cell_type": "code",
      "source": [
        "augmented_train_labels = [key[atl] for atl in augmented_train_labels]"
      ],
      "metadata": {
        "id": "puZGQE-dOULo"
      },
      "execution_count": null,
      "outputs": []
    },
    {
      "cell_type": "code",
      "source": [
        "key2 = {'Type 1 disease': 0, 'Type 2 disease': 1, 'healthy': 2}"
      ],
      "metadata": {
        "id": "Jv1IDay5OtPB"
      },
      "execution_count": null,
      "outputs": []
    },
    {
      "cell_type": "code",
      "source": [
        "test_labels_oh = [key2[tl] for tl in test_labels]"
      ],
      "metadata": {
        "id": "4kkdkqUyOj39"
      },
      "execution_count": null,
      "outputs": []
    },
    {
      "cell_type": "code",
      "source": [
        "train_labels_oh = to_categorical(augmented_train_labels)\n",
        "test_labels_oh = to_categorical(test_labels_oh)"
      ],
      "metadata": {
        "id": "9xCaG9OmMfXe"
      },
      "execution_count": null,
      "outputs": []
    },
    {
      "cell_type": "markdown",
      "source": [
        "# Build a CNN Model\n",
        "\n",
        "Add convolutional layers with different filters, max pool layers, dropout layers, and batch normalization layers  \n",
        "\n",
        "Use Relu as an activation function\n",
        "\n",
        "Take the loss function as categorical cross-entropy\n",
        "\n",
        "Take rmsprop as an optimizer\n",
        "\n",
        "Use early stopping with the patience of two epochs and monitor the validation loss or accuracy\n",
        "\n",
        "Try with ten numbers epoch\n",
        "\n",
        "Train the model using a generator and test the accuracy of the test data at every epoch\n",
        "\n",
        "Plot the training and validation accuracy, and the loss\n",
        "\n",
        "Observe the precision, recall the F1-score for all classes for both grayscale and color models, and determine if the model’s classes are good"
      ],
      "metadata": {
        "id": "usvZXU1CKQcp"
      }
    },
    {
      "cell_type": "code",
      "source": [
        "cnn_model = Sequential()\n",
        "\n",
        "cnn_model.add(Conv2D(filters=32, kernel_size = 5, padding =\"same\", activation=\"relu\", input_shape=(48,48,1)))\n",
        "cnn_model.add(MaxPooling2D(pool_size=(2,2)))\n",
        "cnn_model.add(Dropout(0.2))\n",
        "\n",
        "cnn_model.add(Conv2D(filters=16, kernel_size = 3, padding =\"same\", activation=\"relu\"))\n",
        "cnn_model.add(MaxPooling2D(pool_size=(2,2)))\n",
        "cnn_model.add(Dropout(0.2))\n",
        "\n",
        "cnn_model.add(Flatten())\n",
        "cnn_model.add(Dense(units=512, activation=\"relu\"))\n",
        "cnn_model.add(BatchNormalization())\n",
        "\n",
        "cnn_model.add(Dense(units=3, activation=\"softmax\"))\n",
        "\n",
        "cnn_model.summary()"
      ],
      "metadata": {
        "colab": {
          "base_uri": "https://localhost:8080/"
        },
        "id": "mgqca4F8J-gd",
        "outputId": "fd082102-9d0c-4d07-8c31-e5744b578c21"
      },
      "execution_count": null,
      "outputs": [
        {
          "output_type": "stream",
          "name": "stdout",
          "text": [
            "Model: \"sequential_1\"\n",
            "_________________________________________________________________\n",
            " Layer (type)                Output Shape              Param #   \n",
            "=================================================================\n",
            " conv2d (Conv2D)             (None, 48, 48, 32)        832       \n",
            "                                                                 \n",
            " max_pooling2d (MaxPooling2D  (None, 24, 24, 32)       0         \n",
            " )                                                               \n",
            "                                                                 \n",
            " dropout (Dropout)           (None, 24, 24, 32)        0         \n",
            "                                                                 \n",
            " conv2d_1 (Conv2D)           (None, 24, 24, 16)        4624      \n",
            "                                                                 \n",
            " max_pooling2d_1 (MaxPooling  (None, 12, 12, 16)       0         \n",
            " 2D)                                                             \n",
            "                                                                 \n",
            " dropout_1 (Dropout)         (None, 12, 12, 16)        0         \n",
            "                                                                 \n",
            " flatten (Flatten)           (None, 2304)              0         \n",
            "                                                                 \n",
            " dense (Dense)               (None, 512)               1180160   \n",
            "                                                                 \n",
            " batch_normalization (BatchN  (None, 512)              2048      \n",
            " ormalization)                                                   \n",
            "                                                                 \n",
            " dense_1 (Dense)             (None, 3)                 1539      \n",
            "                                                                 \n",
            "=================================================================\n",
            "Total params: 1,189,203\n",
            "Trainable params: 1,188,179\n",
            "Non-trainable params: 1,024\n",
            "_________________________________________________________________\n"
          ]
        }
      ]
    },
    {
      "cell_type": "code",
      "source": [
        "cnn_model.compile(optimizer=\"rmsprop\", loss=\"categorical_crossentropy\",\n",
        "                    metrics=['accuracy'])"
      ],
      "metadata": {
        "id": "Di1dzK7QL2WO"
      },
      "execution_count": null,
      "outputs": []
    },
    {
      "cell_type": "code",
      "source": [
        "callbacks = [EarlyStopping(monitor = 'val_loss', patience = 2),\n",
        "             ModelCheckpoint('.mdl_wts.hdf5', monitor = 'val_loss', save_best_only = True)]"
      ],
      "metadata": {
        "id": "8e5yUMFoMNlC"
      },
      "execution_count": null,
      "outputs": []
    },
    {
      "cell_type": "code",
      "source": [
        "X, y = shuffle(augmented_train_images, train_labels_oh)"
      ],
      "metadata": {
        "id": "PqhsfpUhMQJ1"
      },
      "execution_count": null,
      "outputs": []
    },
    {
      "cell_type": "code",
      "source": [
        "history_cnn = cnn_model.fit(X, y,\n",
        "                            batch_size=32,\n",
        "                            validation_split=0.2,\n",
        "                            epochs=10,\n",
        "                            verbose=1,\n",
        "                            callbacks=callbacks)"
      ],
      "metadata": {
        "colab": {
          "base_uri": "https://localhost:8080/"
        },
        "id": "AIPYSHXSPfG5",
        "outputId": "35e8755e-7a6f-4fe1-b612-acffa22737d0"
      },
      "execution_count": null,
      "outputs": [
        {
          "output_type": "stream",
          "name": "stdout",
          "text": [
            "Epoch 1/10\n",
            "63/63 [==============================] - 9s 13ms/step - loss: 1.1091 - accuracy: 0.4158 - val_loss: 1.0488 - val_accuracy: 0.4741\n",
            "Epoch 2/10\n",
            "63/63 [==============================] - 0s 7ms/step - loss: 1.0375 - accuracy: 0.4701 - val_loss: 1.0307 - val_accuracy: 0.4641\n",
            "Epoch 3/10\n",
            "63/63 [==============================] - 0s 6ms/step - loss: 0.9965 - accuracy: 0.5005 - val_loss: 1.0534 - val_accuracy: 0.4542\n",
            "Epoch 4/10\n",
            "63/63 [==============================] - 0s 7ms/step - loss: 0.9156 - accuracy: 0.5613 - val_loss: 0.9847 - val_accuracy: 0.4701\n",
            "Epoch 5/10\n",
            "63/63 [==============================] - 0s 6ms/step - loss: 0.8476 - accuracy: 0.6056 - val_loss: 1.0179 - val_accuracy: 0.4482\n",
            "Epoch 6/10\n",
            "63/63 [==============================] - 0s 7ms/step - loss: 0.7917 - accuracy: 0.6340 - val_loss: 0.8845 - val_accuracy: 0.6275\n",
            "Epoch 7/10\n",
            "63/63 [==============================] - 0s 7ms/step - loss: 0.7047 - accuracy: 0.6873 - val_loss: 0.8582 - val_accuracy: 0.6175\n",
            "Epoch 8/10\n",
            "63/63 [==============================] - 0s 7ms/step - loss: 0.6536 - accuracy: 0.7171 - val_loss: 0.8004 - val_accuracy: 0.6713\n",
            "Epoch 9/10\n",
            "63/63 [==============================] - 0s 7ms/step - loss: 0.6286 - accuracy: 0.7291 - val_loss: 0.7126 - val_accuracy: 0.7131\n",
            "Epoch 10/10\n",
            "63/63 [==============================] - 0s 7ms/step - loss: 0.5829 - accuracy: 0.7654 - val_loss: 0.6423 - val_accuracy: 0.7072\n"
          ]
        }
      ]
    },
    {
      "cell_type": "code",
      "source": [
        "# Function to plot train and validation accuracy \n",
        "def plot_accuracy(history):\n",
        "\n",
        "    N = len(history.history[\"accuracy\"])\n",
        "\n",
        "    plt.figure(figsize = (7, 7))\n",
        "\n",
        "    plt.plot(np.arange(0, N), history.history[\"accuracy\"], label = \"train_accuracy\", ls = '--')\n",
        "\n",
        "    plt.plot(np.arange(0, N), history.history[\"val_accuracy\"], label = \"val_accuracy\", ls = '--')\n",
        "\n",
        "    plt.title(\"Accuracy vs Epoch\")\n",
        "    \n",
        "    plt.xlabel(\"Epochs\")\n",
        "    \n",
        "    plt.ylabel(\"Accuracy\")\n",
        "    \n",
        "    plt.legend(loc=\"upper left\")"
      ],
      "metadata": {
        "id": "ABTKyt2iXMtl"
      },
      "execution_count": null,
      "outputs": []
    },
    {
      "cell_type": "code",
      "source": [
        "plot_accuracy(history_cnn)"
      ],
      "metadata": {
        "colab": {
          "base_uri": "https://localhost:8080/",
          "height": 458
        },
        "id": "_xJ9U4xDXgMM",
        "outputId": "e07eb388-e0c0-4e41-d41f-6f51bdedf229"
      },
      "execution_count": null,
      "outputs": [
        {
          "output_type": "display_data",
          "data": {
            "text/plain": [
              "<Figure size 504x504 with 1 Axes>"
            ],
            "image/png": "[encoded data removed]"
          },
          "metadata": {
            "needs_background": "light"
          }
        }
      ]
    },
    {
      "cell_type": "code",
      "source": [
        "from sklearn.metrics import classification_report\n",
        "\n",
        "from sklearn.metrics import confusion_matrix"
      ],
      "metadata": {
        "id": "O5PLGvq8XrF0"
      },
      "execution_count": null,
      "outputs": []
    },
    {
      "cell_type": "code",
      "source": [
        "def evaluate_model(model, images, labels_oh):\n",
        "  accuracy = model.evaluate(images, labels_oh)\n",
        "  print('\\n', 'Test_Accuracy: ', accuracy[1],'\\n')\n",
        "  \n",
        "  pred = model.predict(images)\n",
        "  pred = np.argmax(pred, axis=1)\n",
        "  y_true = np.argmax(labels_oh, axis=1)\n",
        "  \n",
        "  print(classification_report(y_true, pred))"
      ],
      "metadata": {
        "id": "PtwJ40tIX6eF"
      },
      "execution_count": null,
      "outputs": []
    },
    {
      "cell_type": "code",
      "source": [
        "evaluate_model(cnn_model, resized_test_images, test_labels_oh)"
      ],
      "metadata": {
        "colab": {
          "base_uri": "https://localhost:8080/"
        },
        "id": "pl1TPaGzX8-P",
        "outputId": "3c8c02b5-3255-451d-8cc7-2789aaff4b74"
      },
      "execution_count": null,
      "outputs": [
        {
          "output_type": "stream",
          "name": "stdout",
          "text": [
            "3/3 [==============================] - 0s 28ms/step - loss: 0.2329 - accuracy: 0.8939\n",
            "\n",
            " Test_Accuracy:  0.8939393758773804 \n",
            "\n",
            "3/3 [==============================] - 0s 3ms/step\n",
            "              precision    recall  f1-score   support\n",
            "\n",
            "           0       1.00      0.96      0.98        26\n",
            "           1       0.78      0.90      0.84        20\n",
            "           2       0.89      0.80      0.84        20\n",
            "\n",
            "    accuracy                           0.89        66\n",
            "   macro avg       0.89      0.89      0.89        66\n",
            "weighted avg       0.90      0.89      0.90        66\n",
            "\n"
          ]
        }
      ]
    },
    {
      "cell_type": "markdown",
      "source": [
        "## Transfer learning using mobile net\n",
        "\n",
        "Prepare data for the pre-trained mobile net model, with color mode as RGB\n",
        "\n",
        "Create an instance of a mobile net pre-trained model \n",
        "\n",
        "Add dense layer, dropout layer, batch normalization layer on the pre-trained model\n",
        "\n",
        "Create a final output layer with a SoftMax activation function\n",
        "\n",
        "Change the batch size activation function and optimize as rmsprop and observe if the accuracy increases\n",
        "\n",
        "Take the loss function as categorical cross-entropy\n",
        "\n",
        "Use early stopping with the patience of two epoch and call back function for preventing overfitting\n",
        "\n",
        "Try with ten numbers epoch\n",
        "\n",
        "Train the model using a generator and test the accuracy of the test data at every epoch\n",
        "\n",
        " Plot the training and validation accuracy, and the loss\n",
        "\n",
        " Observe the precision, recall the F1-score for all classes for both grayscale\n",
        "\n",
        "and color models, and determine if the model’s classes are good\n",
        "\n"
      ],
      "metadata": {
        "id": "bPMAlQfaZyJr"
      }
    },
    {
      "cell_type": "code",
      "source": [
        "folders = os.listdir(train_dir)\n",
        "\n",
        "train_images2 = []\n",
        "train_labels2 = []\n",
        "train_image_name2 = []\n",
        "\n",
        "for folder_name in folders:\n",
        "  \n",
        "  images_path = os.listdir(train_dir + folder_name +\"/\")\n",
        "  \n",
        "  for i, image_name in enumerate(images_path):\n",
        "    \n",
        "    image_path = train_dir + folder_name +\"/\" + image_name\n",
        "    image = Image.open(image_path)\n",
        "    image = image.resize((224,224))\n",
        "\n",
        "    if image.mode != \"RGB\":\n",
        "      image = image.convert('RGB')\n",
        "\n",
        "    train_images2.append(np.array(image))\n",
        "    train_labels2.append(folder_name)\n",
        "    train_image_name2.append(image_path)\n",
        "\n",
        "\n",
        "train_images2 = np.array(train_images2)\n",
        "train_labels2 = np.array(train_labels2)"
      ],
      "metadata": {
        "id": "C_zQDT9Xc96l"
      },
      "execution_count": null,
      "outputs": []
    },
    {
      "cell_type": "code",
      "source": [
        "folders = os.listdir(test_dir)\n",
        "\n",
        "test_images2 = []\n",
        "test_labels2 = []\n",
        "test_image_name2 = []\n",
        "\n",
        "for folder_name in folders:\n",
        "  \n",
        "  images_path = os.listdir(test_dir + folder_name +\"/\")\n",
        "  \n",
        "  for i, image_name in enumerate(images_path):\n",
        "    \n",
        "    image_path = test_dir + folder_name +\"/\" + image_name\n",
        "    image = Image.open(image_path)\n",
        "    image = image.resize((224,224))\n",
        "\n",
        "    if image.mode != \"RGB\":\n",
        "      image = image.convert('RGB')\n",
        "\n",
        "    test_images2.append(np.array(image))\n",
        "    test_labels2.append(folder_name)\n",
        "    test_image_name2.append(image_path)\n",
        "\n",
        "\n",
        "test_images2 = np.array(test_images2)\n",
        "test_labels2 = np.array(test_labels2)"
      ],
      "metadata": {
        "id": "cNDgZ-ujdowk"
      },
      "execution_count": null,
      "outputs": []
    },
    {
      "cell_type": "code",
      "source": [
        "data_augmentation2 = tf.keras.Sequential([\n",
        "    Rescaling(1./255),\n",
        "    RandomTranslation(height_factor=0.2, width_factor=0.2),\n",
        "    RandomHeight(factor=0.2),\n",
        "    RandomWidth(factor=0.2),\n",
        "    RandomFlip(mode=\"horizontal_and_vertical\"),\n",
        "    RandomRotation(factor=1.0),\n",
        "    Resizing(224,224)\n",
        "    ])"
      ],
      "metadata": {
        "id": "44ylNdhccuhT"
      },
      "execution_count": null,
      "outputs": []
    },
    {
      "cell_type": "code",
      "source": [
        "from tensorflow.keras.applications.mobilenet import MobileNet\n",
        "\n",
        "from tensorflow.keras import Model"
      ],
      "metadata": {
        "id": "uzsrlhhYlX1G"
      },
      "execution_count": null,
      "outputs": []
    },
    {
      "cell_type": "code",
      "source": [
        "mobilenet = MobileNet(include_top=False, weights='imagenet', input_shape=(224,224,3))\n",
        "\n",
        "mobilenet.summary()\n"
      ],
      "metadata": {
        "id": "1qsVK1QsbBbD",
        "outputId": "971fcb6c-5351-49a3-ff58-785e336ab622",
        "colab": {
          "base_uri": "https://localhost:8080/"
        }
      },
      "execution_count": null,
      "outputs": [
        {
          "output_type": "stream",
          "name": "stdout",
          "text": [
            "Downloading data from https://storage.googleapis.com/tensorflow/keras-applications/mobilenet/mobilenet_1_0_224_tf_no_top.h5\n",
            "17225924/17225924 [==============================] - 3s 0us/step\n",
            "Model: \"mobilenet_1.00_224\"\n",
            "_________________________________________________________________\n",
            " Layer (type)                Output Shape              Param #   \n",
            "=================================================================\n",
            " input_1 (InputLayer)        [(None, 224, 224, 3)]     0         \n",
            "                                                                 \n",
            " conv1 (Conv2D)              (None, 112, 112, 32)      864       \n",
            "                                                                 \n",
            " conv1_bn (BatchNormalizatio  (None, 112, 112, 32)     128       \n",
            " n)                                                              \n",
            "                                                                 \n",
            " conv1_relu (ReLU)           (None, 112, 112, 32)      0         \n",
            "                                                                 \n",
            " conv_dw_1 (DepthwiseConv2D)  (None, 112, 112, 32)     288       \n",
            "                                                                 \n",
            " conv_dw_1_bn (BatchNormaliz  (None, 112, 112, 32)     128       \n",
            " ation)                                                          \n",
            "                                                                 \n",
            " conv_dw_1_relu (ReLU)       (None, 112, 112, 32)      0         \n",
            "                                                                 \n",
            " conv_pw_1 (Conv2D)          (None, 112, 112, 64)      2048      \n",
            "                                                                 \n",
            " conv_pw_1_bn (BatchNormaliz  (None, 112, 112, 64)     256       \n",
            " ation)                                                          \n",
            "                                                                 \n",
            " conv_pw_1_relu (ReLU)       (None, 112, 112, 64)      0         \n",
            "                                                                 \n",
            " conv_pad_2 (ZeroPadding2D)  (None, 113, 113, 64)      0         \n",
            "                                                                 \n",
            " conv_dw_2 (DepthwiseConv2D)  (None, 56, 56, 64)       576       \n",
            "                                                                 \n",
            " conv_dw_2_bn (BatchNormaliz  (None, 56, 56, 64)       256       \n",
            " ation)                                                          \n",
            "                                                                 \n",
            " conv_dw_2_relu (ReLU)       (None, 56, 56, 64)        0         \n",
            "                                                                 \n",
            " conv_pw_2 (Conv2D)          (None, 56, 56, 128)       8192      \n",
            "                                                                 \n",
            " conv_pw_2_bn (BatchNormaliz  (None, 56, 56, 128)      512       \n",
            " ation)                                                          \n",
            "                                                                 \n",
            " conv_pw_2_relu (ReLU)       (None, 56, 56, 128)       0         \n",
            "                                                                 \n",
            " conv_dw_3 (DepthwiseConv2D)  (None, 56, 56, 128)      1152      \n",
            "                                                                 \n",
            " conv_dw_3_bn (BatchNormaliz  (None, 56, 56, 128)      512       \n",
            " ation)                                                          \n",
            "                                                                 \n",
            " conv_dw_3_relu (ReLU)       (None, 56, 56, 128)       0         \n",
            "                                                                 \n",
            " conv_pw_3 (Conv2D)          (None, 56, 56, 128)       16384     \n",
            "                                                                 \n",
            " conv_pw_3_bn (BatchNormaliz  (None, 56, 56, 128)      512       \n",
            " ation)                                                          \n",
            "                                                                 \n",
            " conv_pw_3_relu (ReLU)       (None, 56, 56, 128)       0         \n",
            "                                                                 \n",
            " conv_pad_4 (ZeroPadding2D)  (None, 57, 57, 128)       0         \n",
            "                                                                 \n",
            " conv_dw_4 (DepthwiseConv2D)  (None, 28, 28, 128)      1152      \n",
            "                                                                 \n",
            " conv_dw_4_bn (BatchNormaliz  (None, 28, 28, 128)      512       \n",
            " ation)                                                          \n",
            "                                                                 \n",
            " conv_dw_4_relu (ReLU)       (None, 28, 28, 128)       0         \n",
            "                                                                 \n",
            " conv_pw_4 (Conv2D)          (None, 28, 28, 256)       32768     \n",
            "                                                                 \n",
            " conv_pw_4_bn (BatchNormaliz  (None, 28, 28, 256)      1024      \n",
            " ation)                                                          \n",
            "                                                                 \n",
            " conv_pw_4_relu (ReLU)       (None, 28, 28, 256)       0         \n",
            "                                                                 \n",
            " conv_dw_5 (DepthwiseConv2D)  (None, 28, 28, 256)      2304      \n",
            "                                                                 \n",
            " conv_dw_5_bn (BatchNormaliz  (None, 28, 28, 256)      1024      \n",
            " ation)                                                          \n",
            "                                                                 \n",
            " conv_dw_5_relu (ReLU)       (None, 28, 28, 256)       0         \n",
            "                                                                 \n",
            " conv_pw_5 (Conv2D)          (None, 28, 28, 256)       65536     \n",
            "                                                                 \n",
            " conv_pw_5_bn (BatchNormaliz  (None, 28, 28, 256)      1024      \n",
            " ation)                                                          \n",
            "                                                                 \n",
            " conv_pw_5_relu (ReLU)       (None, 28, 28, 256)       0         \n",
            "                                                                 \n",
            " conv_pad_6 (ZeroPadding2D)  (None, 29, 29, 256)       0         \n",
            "                                                                 \n",
            " conv_dw_6 (DepthwiseConv2D)  (None, 14, 14, 256)      2304      \n",
            "                                                                 \n",
            " conv_dw_6_bn (BatchNormaliz  (None, 14, 14, 256)      1024      \n",
            " ation)                                                          \n",
            "                                                                 \n",
            " conv_dw_6_relu (ReLU)       (None, 14, 14, 256)       0         \n",
            "                                                                 \n",
            " conv_pw_6 (Conv2D)          (None, 14, 14, 512)       131072    \n",
            "                                                                 \n",
            " conv_pw_6_bn (BatchNormaliz  (None, 14, 14, 512)      2048      \n",
            " ation)                                                          \n",
            "                                                                 \n",
            " conv_pw_6_relu (ReLU)       (None, 14, 14, 512)       0         \n",
            "                                                                 \n",
            " conv_dw_7 (DepthwiseConv2D)  (None, 14, 14, 512)      4608      \n",
            "                                                                 \n",
            " conv_dw_7_bn (BatchNormaliz  (None, 14, 14, 512)      2048      \n",
            " ation)                                                          \n",
            "                                                                 \n",
            " conv_dw_7_relu (ReLU)       (None, 14, 14, 512)       0         \n",
            "                                                                 \n",
            " conv_pw_7 (Conv2D)          (None, 14, 14, 512)       262144    \n",
            "                                                                 \n",
            " conv_pw_7_bn (BatchNormaliz  (None, 14, 14, 512)      2048      \n",
            " ation)                                                          \n",
            "                                                                 \n",
            " conv_pw_7_relu (ReLU)       (None, 14, 14, 512)       0         \n",
            "                                                                 \n",
            " conv_dw_8 (DepthwiseConv2D)  (None, 14, 14, 512)      4608      \n",
            "                                                                 \n",
            " conv_dw_8_bn (BatchNormaliz  (None, 14, 14, 512)      2048      \n",
            " ation)                                                          \n",
            "                                                                 \n",
            " conv_dw_8_relu (ReLU)       (None, 14, 14, 512)       0         \n",
            "                                                                 \n",
            " conv_pw_8 (Conv2D)          (None, 14, 14, 512)       262144    \n",
            "                                                                 \n",
            " conv_pw_8_bn (BatchNormaliz  (None, 14, 14, 512)      2048      \n",
            " ation)                                                          \n",
            "                                                                 \n",
            " conv_pw_8_relu (ReLU)       (None, 14, 14, 512)       0         \n",
            "                                                                 \n",
            " conv_dw_9 (DepthwiseConv2D)  (None, 14, 14, 512)      4608      \n",
            "                                                                 \n",
            " conv_dw_9_bn (BatchNormaliz  (None, 14, 14, 512)      2048      \n",
            " ation)                                                          \n",
            "                                                                 \n",
            " conv_dw_9_relu (ReLU)       (None, 14, 14, 512)       0         \n",
            "                                                                 \n",
            " conv_pw_9 (Conv2D)          (None, 14, 14, 512)       262144    \n",
            "                                                                 \n",
            " conv_pw_9_bn (BatchNormaliz  (None, 14, 14, 512)      2048      \n",
            " ation)                                                          \n",
            "                                                                 \n",
            " conv_pw_9_relu (ReLU)       (None, 14, 14, 512)       0         \n",
            "                                                                 \n",
            " conv_dw_10 (DepthwiseConv2D  (None, 14, 14, 512)      4608      \n",
            " )                                                               \n",
            "                                                                 \n",
            " conv_dw_10_bn (BatchNormali  (None, 14, 14, 512)      2048      \n",
            " zation)                                                         \n",
            "                                                                 \n",
            " conv_dw_10_relu (ReLU)      (None, 14, 14, 512)       0         \n",
            "                                                                 \n",
            " conv_pw_10 (Conv2D)         (None, 14, 14, 512)       262144    \n",
            "                                                                 \n",
            " conv_pw_10_bn (BatchNormali  (None, 14, 14, 512)      2048      \n",
            " zation)                                                         \n",
            "                                                                 \n",
            " conv_pw_10_relu (ReLU)      (None, 14, 14, 512)       0         \n",
            "                                                                 \n",
            " conv_dw_11 (DepthwiseConv2D  (None, 14, 14, 512)      4608      \n",
            " )                                                               \n",
            "                                                                 \n",
            " conv_dw_11_bn (BatchNormali  (None, 14, 14, 512)      2048      \n",
            " zation)                                                         \n",
            "                                                                 \n",
            " conv_dw_11_relu (ReLU)      (None, 14, 14, 512)       0         \n",
            "                                                                 \n",
            " conv_pw_11 (Conv2D)         (None, 14, 14, 512)       262144    \n",
            "                                                                 \n",
            " conv_pw_11_bn (BatchNormali  (None, 14, 14, 512)      2048      \n",
            " zation)                                                         \n",
            "                                                                 \n",
            " conv_pw_11_relu (ReLU)      (None, 14, 14, 512)       0         \n",
            "                                                                 \n",
            " conv_pad_12 (ZeroPadding2D)  (None, 15, 15, 512)      0         \n",
            "                                                                 \n",
            " conv_dw_12 (DepthwiseConv2D  (None, 7, 7, 512)        4608      \n",
            " )                                                               \n",
            "                                                                 \n",
            " conv_dw_12_bn (BatchNormali  (None, 7, 7, 512)        2048      \n",
            " zation)                                                         \n",
            "                                                                 \n",
            " conv_dw_12_relu (ReLU)      (None, 7, 7, 512)         0         \n",
            "                                                                 \n",
            " conv_pw_12 (Conv2D)         (None, 7, 7, 1024)        524288    \n",
            "                                                                 \n",
            " conv_pw_12_bn (BatchNormali  (None, 7, 7, 1024)       4096      \n",
            " zation)                                                         \n",
            "                                                                 \n",
            " conv_pw_12_relu (ReLU)      (None, 7, 7, 1024)        0         \n",
            "                                                                 \n",
            " conv_dw_13 (DepthwiseConv2D  (None, 7, 7, 1024)       9216      \n",
            " )                                                               \n",
            "                                                                 \n",
            " conv_dw_13_bn (BatchNormali  (None, 7, 7, 1024)       4096      \n",
            " zation)                                                         \n",
            "                                                                 \n",
            " conv_dw_13_relu (ReLU)      (None, 7, 7, 1024)        0         \n",
            "                                                                 \n",
            " conv_pw_13 (Conv2D)         (None, 7, 7, 1024)        1048576   \n",
            "                                                                 \n",
            " conv_pw_13_bn (BatchNormali  (None, 7, 7, 1024)       4096      \n",
            " zation)                                                         \n",
            "                                                                 \n",
            " conv_pw_13_relu (ReLU)      (None, 7, 7, 1024)        0         \n",
            "                                                                 \n",
            "=================================================================\n",
            "Total params: 3,228,864\n",
            "Trainable params: 3,206,976\n",
            "Non-trainable params: 21,888\n",
            "_________________________________________________________________\n"
          ]
        }
      ]
    },
    {
      "cell_type": "code",
      "source": [
        "transfer_layer = mobilenet.get_layer('conv_pw_13_relu')\n",
        "\n",
        "mobilenet.trainable = False\n",
        "\n",
        "x = Flatten()(transfer_layer.output)\n",
        "x = Dense(512, activation='relu')(x)\n",
        "x = Dropout(0.2)(x)\n",
        "\n",
        "x = Dense(256, activation='relu')(x)\n",
        "x = BatchNormalization()(x)\n",
        "\n",
        "pred = Dense(3, activation='softmax')(x)\n",
        "\n",
        "mn_model = Model(inputs=mobilenet.input, outputs=pred)"
      ],
      "metadata": {
        "id": "qlSubwA6l_TA"
      },
      "execution_count": null,
      "outputs": []
    },
    {
      "cell_type": "code",
      "source": [
        "mn_model.compile(optimizer=\"rmsprop\", loss=\"categorical_crossentropy\",\n",
        "                    metrics=['accuracy'])"
      ],
      "metadata": {
        "id": "Ug54HUXIhDzF"
      },
      "execution_count": null,
      "outputs": []
    },
    {
      "cell_type": "code",
      "source": [
        "key = {'Type 1 disease': 0, 'Type 2 disease': 1, 'Healthy': 2}"
      ],
      "metadata": {
        "id": "_ESwr_2cimEr"
      },
      "execution_count": null,
      "outputs": []
    },
    {
      "cell_type": "code",
      "source": [
        "train_labels2_cvt = [key[tl] for tl in train_labels2]"
      ],
      "metadata": {
        "id": "LlPFEPXLimEs"
      },
      "execution_count": null,
      "outputs": []
    },
    {
      "cell_type": "code",
      "source": [
        "key2 = {'Type 1 disease': 0, 'Type 2 disease': 1, 'healthy': 2}"
      ],
      "metadata": {
        "id": "uj-lZ_7OimEs"
      },
      "execution_count": null,
      "outputs": []
    },
    {
      "cell_type": "code",
      "source": [
        "test_labels2_cvt = [key2[tl] for tl in test_labels2]"
      ],
      "metadata": {
        "id": "GZd9RxScimEs"
      },
      "execution_count": null,
      "outputs": []
    },
    {
      "cell_type": "code",
      "source": [
        "train_labels2_oh = to_categorical(train_labels2_cvt)\n",
        "test_labels2_oh = to_categorical(test_labels2_cvt)"
      ],
      "metadata": {
        "id": "aOp2E90RiXIs"
      },
      "execution_count": null,
      "outputs": []
    },
    {
      "cell_type": "code",
      "source": [
        "X, y = shuffle(train_images2, train_labels2_oh)"
      ],
      "metadata": {
        "id": "jTttvd3_iBXU"
      },
      "execution_count": null,
      "outputs": []
    },
    {
      "cell_type": "code",
      "source": [
        "tf.keras.backend.clear_session()"
      ],
      "metadata": {
        "id": "Y0umg8uZoc2c"
      },
      "execution_count": null,
      "outputs": []
    },
    {
      "cell_type": "code",
      "source": [
        "history2 = mn_model.fit(X, y,\n",
        "                            batch_size=16,\n",
        "                            validation_split=0.2,\n",
        "                            epochs=10,\n",
        "                            verbose=1,\n",
        "                            callbacks=callbacks)"
      ],
      "metadata": {
        "colab": {
          "base_uri": "https://localhost:8080/"
        },
        "id": "H3ivth6oi_Oo",
        "outputId": "1f2ae0a4-1a27-4728-d1f9-2d2471301ae5"
      },
      "execution_count": null,
      "outputs": [
        {
          "output_type": "stream",
          "name": "stdout",
          "text": [
            "Epoch 1/10\n",
            "13/13 [==============================] - 1s 99ms/step - loss: 0.1148 - accuracy: 0.9650 - val_loss: 0.0595 - val_accuracy: 0.9608\n",
            "Epoch 2/10\n",
            "13/13 [==============================] - 1s 90ms/step - loss: 0.0795 - accuracy: 0.9700 - val_loss: 0.0412 - val_accuracy: 0.9608\n",
            "Epoch 3/10\n",
            "13/13 [==============================] - 1s 90ms/step - loss: 0.0839 - accuracy: 0.9650 - val_loss: 0.0339 - val_accuracy: 0.9804\n",
            "Epoch 4/10\n",
            "13/13 [==============================] - 0s 35ms/step - loss: 0.0119 - accuracy: 1.0000 - val_loss: 0.0489 - val_accuracy: 0.9804\n",
            "Epoch 5/10\n",
            "13/13 [==============================] - 1s 85ms/step - loss: 0.0016 - accuracy: 1.0000 - val_loss: 0.0193 - val_accuracy: 1.0000\n",
            "Epoch 6/10\n",
            "13/13 [==============================] - 0s 35ms/step - loss: 0.0026 - accuracy: 1.0000 - val_loss: 0.0220 - val_accuracy: 1.0000\n",
            "Epoch 7/10\n",
            "13/13 [==============================] - 0s 34ms/step - loss: 9.4209e-04 - accuracy: 1.0000 - val_loss: 0.0434 - val_accuracy: 0.9804\n"
          ]
        }
      ]
    },
    {
      "cell_type": "code",
      "source": [
        "plot_accuracy(history2)"
      ],
      "metadata": {
        "colab": {
          "base_uri": "https://localhost:8080/",
          "height": 458
        },
        "id": "Cjzf9tRPjQvl",
        "outputId": "dd18c310-abc2-49c5-8a21-21a888399d04"
      },
      "execution_count": null,
      "outputs": [
        {
          "output_type": "display_data",
          "data": {
            "text/plain": [
              "<Figure size 504x504 with 1 Axes>"
            ],
            "image/png": "[encoded data removed]"
          },
          "metadata": {
            "needs_background": "light"
          }
        }
      ]
    },
    {
      "cell_type": "code",
      "source": [
        "evaluate_model(mn_model, test_images2, test_labels2_oh)"
      ],
      "metadata": {
        "colab": {
          "base_uri": "https://localhost:8080/"
        },
        "id": "V3rklGiaoR3H",
        "outputId": "f6774154-2871-4cad-e95c-44a8941427f8"
      },
      "execution_count": null,
      "outputs": [
        {
          "output_type": "stream",
          "name": "stdout",
          "text": [
            "3/3 [==============================] - 0s 138ms/step - loss: 0.3419 - accuracy: 0.8939\n",
            "\n",
            " Test_Accuracy:  0.8939393758773804 \n",
            "\n",
            "3/3 [==============================] - 0s 28ms/step\n",
            "              precision    recall  f1-score   support\n",
            "\n",
            "           0       1.00      0.96      0.98        26\n",
            "           1       1.00      0.70      0.82        20\n",
            "           2       0.74      1.00      0.85        20\n",
            "\n",
            "    accuracy                           0.89        66\n",
            "   macro avg       0.91      0.89      0.88        66\n",
            "weighted avg       0.92      0.89      0.89        66\n",
            "\n"
          ]
        }
      ]
    },
    {
      "cell_type": "markdown",
      "source": [
        "# Transfer Learning using Densenet121\n",
        "\n",
        "Prepare the dataset for the transfer learning algorithm using Densenet121 with the image size as 224x224x3\n",
        "\n",
        "Freeze the top layers of the pre-trained model\n",
        "\n",
        "Add a dense layer at the end of the pre-trained model followed by a dropout layer and try various combinations to get an accuracy\n",
        "\n",
        "Add the final output layer with a SoftMax activation function\n",
        "\n",
        "Take loss function as categorical cross-entropy\n",
        "\n",
        "Take Adam as an optimizer\n",
        "\n",
        "Use early stopping to prevent overfitting\n",
        "\n",
        "Try with 15 number of epoch and batch size with seven, also try various values to see the impact on results\n",
        "\n",
        "Train the model using the generator and test the accuracy of the test data at every epoch \n",
        "\n",
        " Plot the training and validation accuracy, and the loss\n",
        "\n",
        "Observe the precision, recall the F1-score for all classes for both grayscale\n",
        "\n",
        "and color models, and determine if the model’s classes are good"
      ],
      "metadata": {
        "id": "FyxBqVrIqda3"
      }
    },
    {
      "cell_type": "code",
      "source": [
        "from tensorflow.keras.applications.densenet import DenseNet121\n",
        "\n",
        "densenet121 = DenseNet121(include_top=False, weights='imagenet', input_shape=(224,224,3))\n",
        "\n",
        "densenet121.summary()"
      ],
      "metadata": {
        "id": "lrlE6sxepLXf"
      },
      "execution_count": null,
      "outputs": []
    },
    {
      "cell_type": "code",
      "source": [
        "transfer_layer = densenet121.get_layer('relu')\n",
        "\n",
        "densenet121.trainable=False\n",
        "\n",
        "x = Flatten()(transfer_layer.output)\n",
        "x = Dense(512, activation='relu')(x)\n",
        "x = Dropout(0.2)(x)\n",
        "\n",
        "x = Dense(256, activation='relu')(x)\n",
        "x = BatchNormalization()(x)\n",
        "\n",
        "pred = Dense(3, activation='softmax')(x)\n",
        "\n",
        "dn_model = Model(inputs=densenet121.input, outputs=pred)"
      ],
      "metadata": {
        "id": "DmL4svYKrVyf"
      },
      "execution_count": null,
      "outputs": []
    },
    {
      "cell_type": "code",
      "source": [
        "dn_model.compile(optimizer=\"rmsprop\", loss=\"categorical_crossentropy\",\n",
        "                    metrics=['accuracy'])"
      ],
      "metadata": {
        "id": "D424JZuTr3rM"
      },
      "execution_count": null,
      "outputs": []
    },
    {
      "cell_type": "code",
      "source": [
        "tf.keras.backend.clear_session()"
      ],
      "metadata": {
        "id": "E2ARfZrjsBmw"
      },
      "execution_count": null,
      "outputs": []
    },
    {
      "cell_type": "code",
      "source": [
        "history3 = dn_model.fit(X, y,\n",
        "                        batch_size=32,\n",
        "                        validation_split=0.2,\n",
        "                        epochs=10,\n",
        "                        verbose=1,\n",
        "                        callbacks=callbacks)"
      ],
      "metadata": {
        "colab": {
          "base_uri": "https://localhost:8080/"
        },
        "id": "QRFpHXHfsIFl",
        "outputId": "e67d9b01-24aa-4e97-89e7-5457521cd737"
      },
      "execution_count": null,
      "outputs": [
        {
          "output_type": "stream",
          "name": "stdout",
          "text": [
            "Epoch 1/10\n",
            "7/7 [==============================] - 12s 757ms/step - loss: 0.7973 - accuracy: 0.6800 - val_loss: 5.5135 - val_accuracy: 0.6863\n",
            "Epoch 2/10\n",
            "7/7 [==============================] - 1s 119ms/step - loss: 0.2991 - accuracy: 0.8650 - val_loss: 2.3418 - val_accuracy: 0.6667\n",
            "Epoch 3/10\n",
            "7/7 [==============================] - 1s 118ms/step - loss: 0.2453 - accuracy: 0.8900 - val_loss: 1.0616 - val_accuracy: 0.6863\n",
            "Epoch 4/10\n",
            "7/7 [==============================] - 1s 117ms/step - loss: 0.2701 - accuracy: 0.9150 - val_loss: 0.6987 - val_accuracy: 0.8627\n",
            "Epoch 5/10\n",
            "7/7 [==============================] - 1s 119ms/step - loss: 0.1427 - accuracy: 0.9350 - val_loss: 1.1903 - val_accuracy: 0.8627\n",
            "Epoch 6/10\n",
            "7/7 [==============================] - 1s 118ms/step - loss: 0.1200 - accuracy: 0.9650 - val_loss: 1.4449 - val_accuracy: 0.8235\n"
          ]
        }
      ]
    },
    {
      "cell_type": "code",
      "source": [
        "plot_accuracy(history3)"
      ],
      "metadata": {
        "colab": {
          "base_uri": "https://localhost:8080/",
          "height": 458
        },
        "id": "xoDRGvoWsO6x",
        "outputId": "c00c5285-b58c-403d-c55f-bbab97d32f4b"
      },
      "execution_count": null,
      "outputs": [
        {
          "output_type": "display_data",
          "data": {
            "text/plain": [
              "<Figure size 504x504 with 1 Axes>"
            ],
            "image/png": "[encoded data removed]"
          },
          "metadata": {
            "needs_background": "light"
          }
        }
      ]
    },
    {
      "cell_type": "code",
      "source": [
        "evaluate_model(dn_model, test_images2, test_labels2_oh)"
      ],
      "metadata": {
        "colab": {
          "base_uri": "https://localhost:8080/"
        },
        "id": "0GmQ_GcesbX0",
        "outputId": "97cfbda0-e958-4bfe-854e-9355b0e59741"
      },
      "execution_count": null,
      "outputs": [
        {
          "output_type": "stream",
          "name": "stdout",
          "text": [
            "3/3 [==============================] - 1s 513ms/step - loss: 2.4511 - accuracy: 0.6970\n",
            "\n",
            " Test_Accuracy:  0.6969696879386902 \n",
            "\n",
            "3/3 [==============================] - 2s 85ms/step\n",
            "              precision    recall  f1-score   support\n",
            "\n",
            "           0       1.00      0.96      0.98        26\n",
            "           1       1.00      0.05      0.10        20\n",
            "           2       0.50      1.00      0.67        20\n",
            "\n",
            "    accuracy                           0.70        66\n",
            "   macro avg       0.83      0.67      0.58        66\n",
            "weighted avg       0.85      0.70      0.62        66\n",
            "\n"
          ]
        }
      ]
    },
    {
      "cell_type": "markdown",
      "source": [
        "#Conclusion"
      ],
      "metadata": {
        "id": "B9hawR_1s8qP"
      }
    },
    {
      "cell_type": "markdown",
      "source": [
        "## CNN Summary"
      ],
      "metadata": {
        "id": "yLzoq0IGs_sQ"
      }
    },
    {
      "cell_type": "code",
      "source": [
        "evaluate_model(cnn_model, resized_test_images, test_labels_oh)"
      ],
      "metadata": {
        "colab": {
          "base_uri": "https://localhost:8080/"
        },
        "id": "wR-Qe3Onssmk",
        "outputId": "f1371df2-0786-457f-b354-544f2fea1a73"
      },
      "execution_count": null,
      "outputs": [
        {
          "output_type": "stream",
          "name": "stdout",
          "text": [
            "3/3 [==============================] - 0s 5ms/step - loss: 0.2329 - accuracy: 0.8939\n",
            "\n",
            " Test_Accuracy:  0.8939393758773804 \n",
            "\n",
            "3/3 [==============================] - 0s 3ms/step\n",
            "              precision    recall  f1-score   support\n",
            "\n",
            "           0       1.00      0.96      0.98        26\n",
            "           1       0.78      0.90      0.84        20\n",
            "           2       0.89      0.80      0.84        20\n",
            "\n",
            "    accuracy                           0.89        66\n",
            "   macro avg       0.89      0.89      0.89        66\n",
            "weighted avg       0.90      0.89      0.90        66\n",
            "\n"
          ]
        }
      ]
    },
    {
      "cell_type": "markdown",
      "source": [
        "The CNN model had a decent accuracy of 0.89. \n",
        "* For Type 1 Disease, the model had a precision of 1.0  meaning there were no false positives. It also had a recall of 0.96 meaning very few false negatives too.\n",
        "* For Type 2 Disease, the model had a precision of 0.78 meaning there were a bunch of false positives and a recall of 0.90 meaning there were a handful of false negatives\n",
        "* For Healthy, the model had a precision of 0.89 and a recall of 0.80 which is okay. \n",
        "\n",
        "Overall, the model seems really good at identifying Type 1 Disease but seems to confuse Type 2 Disease and Healthy."
      ],
      "metadata": {
        "id": "DXfVFvwMuwgA"
      }
    },
    {
      "cell_type": "markdown",
      "source": [
        "## MobileNet Summary"
      ],
      "metadata": {
        "id": "y_NF43B6tZ6P"
      }
    },
    {
      "cell_type": "code",
      "source": [
        "evaluate_model(mn_model, test_images2, test_labels2_oh)"
      ],
      "metadata": {
        "colab": {
          "base_uri": "https://localhost:8080/"
        },
        "id": "8r1yI35WtMZf",
        "outputId": "e90e8eb7-6193-4e2c-edcc-69871b7c91e1"
      },
      "execution_count": null,
      "outputs": [
        {
          "output_type": "stream",
          "name": "stdout",
          "text": [
            "3/3 [==============================] - 0s 30ms/step - loss: 0.3419 - accuracy: 0.8939\n",
            "\n",
            " Test_Accuracy:  0.8939393758773804 \n",
            "\n",
            "3/3 [==============================] - 0s 40ms/step\n",
            "              precision    recall  f1-score   support\n",
            "\n",
            "           0       1.00      0.96      0.98        26\n",
            "           1       1.00      0.70      0.82        20\n",
            "           2       0.74      1.00      0.85        20\n",
            "\n",
            "    accuracy                           0.89        66\n",
            "   macro avg       0.91      0.89      0.88        66\n",
            "weighted avg       0.92      0.89      0.89        66\n",
            "\n"
          ]
        }
      ]
    },
    {
      "cell_type": "markdown",
      "source": [
        "The MobileNet model had a decent accuracy of 0.89. \n",
        "\n",
        "* For Type 1 Disease, the model had a precision of 1.0 meaning there were no false positives. It also had a recall of 0.96 meaning very few false negatives too.\n",
        "* For Type 2 Disease, the model had a precision of 1.0 meaning there were no false positives and a recall of 0.70 meaning there were a bunch of false negatives\n",
        "* For Healthy, the model had a precision of 0.74 meaning there were a bunch of false positives and a recall of 1.0 which means there were no false negatives. \n",
        "\n",
        "Overall, the model seems really good at identifying Type 1 Disease but seems to confuse Type 2 Disease and Healthy."
      ],
      "metadata": {
        "id": "zG7w7Kq6w7Eh"
      }
    },
    {
      "cell_type": "markdown",
      "source": [
        "## Densenet121 Summary"
      ],
      "metadata": {
        "id": "57DCnwDVto97"
      }
    },
    {
      "cell_type": "code",
      "source": [
        "evaluate_model(dn_model, test_images2, test_labels2_oh)"
      ],
      "metadata": {
        "colab": {
          "base_uri": "https://localhost:8080/"
        },
        "id": "-s4UV0HNtoox",
        "outputId": "1074fa2b-366b-4bf4-b11c-9dc59b19dd10"
      },
      "execution_count": null,
      "outputs": [
        {
          "output_type": "stream",
          "name": "stdout",
          "text": [
            "3/3 [==============================] - 0s 77ms/step - loss: 2.4511 - accuracy: 0.6970\n",
            "\n",
            " Test_Accuracy:  0.6969696879386902 \n",
            "\n",
            "3/3 [==============================] - 0s 83ms/step\n",
            "              precision    recall  f1-score   support\n",
            "\n",
            "           0       1.00      0.96      0.98        26\n",
            "           1       1.00      0.05      0.10        20\n",
            "           2       0.50      1.00      0.67        20\n",
            "\n",
            "    accuracy                           0.70        66\n",
            "   macro avg       0.83      0.67      0.58        66\n",
            "weighted avg       0.85      0.70      0.62        66\n",
            "\n"
          ]
        }
      ]
    },
    {
      "cell_type": "markdown",
      "source": [
        "The Densenet121 model had a poor accuracy of 0.697. \n",
        "\n",
        "* For Type 1 Disease, the model had a precision of 1.0 meaning there were no false positives. It also had a recall of 0.96 meaning very few false negatives too.\n",
        "* For Type 2 Disease, the model had a precision of 1.0 meaning there were no false positives and a recall of 0.05 meaning there were a ton of false negatives\n",
        "* For Healthy, the model had a precision of 0.50 meaning there were a lot of false positives and a recall of 1.0 which means there were no false negatives. \n",
        "\n",
        "Overall, the model seems really good at identifying Type 1 Disease but really seems to confuse Type 2 Disease and Healthy."
      ],
      "metadata": {
        "id": "ucGfIS-dx7VM"
      }
    },
    {
      "cell_type": "markdown",
      "source": [
        "# Closing Statement\n",
        " The CNN and MobileNet models both had the same test accuracy of 0.89 which is significantly better than the Densenet121 model which only had an accuracy of 0.697. When looking at the precision and recall, I think the CNN model is the better model because it has higher recall for both Type 1 Disease and Type 2 Disease and a high recall for those two classes is most important because you don't want false negatives to occur which would tell the patient they are healthy when they are actually sick.\n",
        "\n",
        "I think the models struggled to differentiate between Type 2 disease and Healthy because when looking at them with my human eyes they looked very similar. The models seemed to have no problem identifying Type 1 disease, which makes sense to me because the images with Type 1 disease had a lot white in the lungs area which the other two classes did not have."
      ],
      "metadata": {
        "id": "h3XBn5kgyZtc"
      }
    }
  ]
}