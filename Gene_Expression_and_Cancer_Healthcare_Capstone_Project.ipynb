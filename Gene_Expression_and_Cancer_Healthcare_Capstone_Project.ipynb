{
  "nbformat": 4,
  "nbformat_minor": 0,
  "metadata": {
    "colab": {
      "provenance": [],
      "authorship_tag": "ABX9TyNs+cLDlovMXppAnjbOxs4+",
      "include_colab_link": true
    },
    "kernelspec": {
      "name": "python3",
      "display_name": "Python 3"
    },
    "language_info": {
      "name": "python"
    }
  },
  "cells": [
    {
      "cell_type": "markdown",
      "metadata": {
        "id": "view-in-github",
        "colab_type": "text"
      },
      "source": [
        "<a href=\"https://colab.research.google.com/github/trd44/Caltech-AIML-Bootcamp/blob/main/Gene_Expression_and_Cancer_Healthcare_Capstone_Project.ipynb\" target=\"_parent\"><img src=\"https://colab.research.google.com/assets/colab-badge.svg\" alt=\"Open In Colab\"/></a>"
      ]
    },
    {
      "cell_type": "markdown",
      "source": [
        "# Healthcare Capstone Project"
      ],
      "metadata": {
        "id": "vhe8usLqaE6F"
      }
    },
    {
      "cell_type": "code",
      "source": [
        "# Mounting the drive\n",
        "from google.colab import drive\n",
        "\n",
        "drive.mount('/content/drive')"
      ],
      "metadata": {
        "colab": {
          "base_uri": "https://localhost:8080/"
        },
        "id": "0w5-65KeNovc",
        "outputId": "9c58be1d-8f09-4517-f02c-f4f613d02541"
      },
      "execution_count": null,
      "outputs": [
        {
          "output_type": "stream",
          "name": "stdout",
          "text": [
            "Drive already mounted at /content/drive; to attempt to forcibly remount, call drive.mount(\"/content/drive\", force_remount=True).\n"
          ]
        }
      ]
    },
    {
      "cell_type": "markdown",
      "source": [
        "## Week 1 Tasks: Exploratory Data Analysis"
      ],
      "metadata": {
        "id": "-zK6RYpvZ_5y"
      }
    },
    {
      "cell_type": "code",
      "execution_count": null,
      "metadata": {
        "id": "-U_JH9T7NP75"
      },
      "outputs": [],
      "source": [
        "import numpy as np\n",
        "import pandas as pd\n",
        "import seaborn as sns\n",
        "import matplotlib.pyplot as plt\n",
        "%matplotlib inline\n"
      ]
    },
    {
      "cell_type": "markdown",
      "source": [
        "Load the Data"
      ],
      "metadata": {
        "id": "v3oex-UkNsNK"
      }
    },
    {
      "cell_type": "code",
      "source": [
        "labels = pd.read_csv('/content/drive/MyDrive/Datasets/HealthcareCapstoneProject/labels.csv', index_col=0)\n",
        "data = pd.read_csv('/content/drive/MyDrive/Datasets/HealthcareCapstoneProject/data.csv', index_col=0)"
      ],
      "metadata": {
        "id": "fua-GixQNqME"
      },
      "execution_count": null,
      "outputs": []
    },
    {
      "cell_type": "markdown",
      "source": [
        "### Merge both of the Datasets"
      ],
      "metadata": {
        "id": "jnDZYHsHQzXS"
      }
    },
    {
      "cell_type": "code",
      "source": [
        "df = pd.concat([labels, data],axis=1)"
      ],
      "metadata": {
        "id": "5J0-u14JQyjl"
      },
      "execution_count": null,
      "outputs": []
    },
    {
      "cell_type": "code",
      "source": [
        "df.info()"
      ],
      "metadata": {
        "colab": {
          "base_uri": "https://localhost:8080/"
        },
        "id": "XLTpBynjOSwm",
        "outputId": "1b4b6cc1-7fa8-4347-beec-5d7d4235d69a"
      },
      "execution_count": null,
      "outputs": [
        {
          "output_type": "stream",
          "name": "stdout",
          "text": [
            "<class 'pandas.core.frame.DataFrame'>\n",
            "Index: 801 entries, sample_0 to sample_800\n",
            "Columns: 20532 entries, Class to gene_20530\n",
            "dtypes: float64(20531), object(1)\n",
            "memory usage: 125.5+ MB\n"
          ]
        }
      ]
    },
    {
      "cell_type": "code",
      "source": [
        "df.head()"
      ],
      "metadata": {
        "colab": {
          "base_uri": "https://localhost:8080/",
          "height": 300
        },
        "id": "KDVnU6SRQ_eZ",
        "outputId": "5f93e6c8-4374-4ee2-cadf-5cd7c7276fc6"
      },
      "execution_count": null,
      "outputs": [
        {
          "output_type": "execute_result",
          "data": {
            "text/plain": [
              "         Class  gene_0    gene_1    gene_2    gene_3     gene_4  gene_5  \\\n",
              "sample_0  PRAD     0.0  2.017209  3.265527  5.478487  10.431999     0.0   \n",
              "sample_1  LUAD     0.0  0.592732  1.588421  7.586157   9.623011     0.0   \n",
              "sample_2  PRAD     0.0  3.511759  4.327199  6.881787   9.870730     0.0   \n",
              "sample_3  PRAD     0.0  3.663618  4.507649  6.659068  10.196184     0.0   \n",
              "sample_4  BRCA     0.0  2.655741  2.821547  6.539454   9.738265     0.0   \n",
              "\n",
              "            gene_6    gene_7  gene_8  ...  gene_20521  gene_20522  gene_20523  \\\n",
              "sample_0  7.175175  0.591871     0.0  ...    4.926711    8.210257    9.723516   \n",
              "sample_1  6.816049  0.000000     0.0  ...    4.593372    7.323865    9.740931   \n",
              "sample_2  6.972130  0.452595     0.0  ...    5.125213    8.127123   10.908640   \n",
              "sample_3  7.843375  0.434882     0.0  ...    6.076566    8.792959   10.141520   \n",
              "sample_4  6.566967  0.360982     0.0  ...    5.996032    8.891425   10.373790   \n",
              "\n",
              "          gene_20524  gene_20525  gene_20526  gene_20527  gene_20528  \\\n",
              "sample_0    7.220030    9.119813   12.003135    9.650743    8.921326   \n",
              "sample_1    6.256586    8.381612   12.674552   10.517059    9.397854   \n",
              "sample_2    5.401607    9.911597    9.045255    9.788359   10.090470   \n",
              "sample_3    8.942805    9.601208   11.392682    9.694814    9.684365   \n",
              "sample_4    7.181162    9.846910   11.922439    9.217749    9.461191   \n",
              "\n",
              "          gene_20529  gene_20530  \n",
              "sample_0    5.286759         0.0  \n",
              "sample_1    2.094168         0.0  \n",
              "sample_2    1.683023         0.0  \n",
              "sample_3    3.292001         0.0  \n",
              "sample_4    5.110372         0.0  \n",
              "\n",
              "[5 rows x 20532 columns]"
            ],
            "text/html": [
              "\n",
              "  <div id=\"df-28b48d04-c4ae-47bc-b8f5-ae46307111ce\">\n",
              "    <div class=\"colab-df-container\">\n",
              "      <div>\n",
              "<style scoped>\n",
              "    .dataframe tbody tr th:only-of-type {\n",
              "        vertical-align: middle;\n",
              "    }\n",
              "\n",
              "    .dataframe tbody tr th {\n",
              "        vertical-align: top;\n",
              "    }\n",
              "\n",
              "    .dataframe thead th {\n",
              "        text-align: right;\n",
              "    }\n",
              "</style>\n",
              "<table border=\"1\" class=\"dataframe\">\n",
              "  <thead>\n",
              "    <tr style=\"text-align: right;\">\n",
              "      <th></th>\n",
              "      <th>Class</th>\n",
              "      <th>gene_0</th>\n",
              "      <th>gene_1</th>\n",
              "      <th>gene_2</th>\n",
              "      <th>gene_3</th>\n",
              "      <th>gene_4</th>\n",
              "      <th>gene_5</th>\n",
              "      <th>gene_6</th>\n",
              "      <th>gene_7</th>\n",
              "      <th>gene_8</th>\n",
              "      <th>...</th>\n",
              "      <th>gene_20521</th>\n",
              "      <th>gene_20522</th>\n",
              "      <th>gene_20523</th>\n",
              "      <th>gene_20524</th>\n",
              "      <th>gene_20525</th>\n",
              "      <th>gene_20526</th>\n",
              "      <th>gene_20527</th>\n",
              "      <th>gene_20528</th>\n",
              "      <th>gene_20529</th>\n",
              "      <th>gene_20530</th>\n",
              "    </tr>\n",
              "  </thead>\n",
              "  <tbody>\n",
              "    <tr>\n",
              "      <th>sample_0</th>\n",
              "      <td>PRAD</td>\n",
              "      <td>0.0</td>\n",
              "      <td>2.017209</td>\n",
              "      <td>3.265527</td>\n",
              "      <td>5.478487</td>\n",
              "      <td>10.431999</td>\n",
              "      <td>0.0</td>\n",
              "      <td>7.175175</td>\n",
              "      <td>0.591871</td>\n",
              "      <td>0.0</td>\n",
              "      <td>...</td>\n",
              "      <td>4.926711</td>\n",
              "      <td>8.210257</td>\n",
              "      <td>9.723516</td>\n",
              "      <td>7.220030</td>\n",
              "      <td>9.119813</td>\n",
              "      <td>12.003135</td>\n",
              "      <td>9.650743</td>\n",
              "      <td>8.921326</td>\n",
              "      <td>5.286759</td>\n",
              "      <td>0.0</td>\n",
              "    </tr>\n",
              "    <tr>\n",
              "      <th>sample_1</th>\n",
              "      <td>LUAD</td>\n",
              "      <td>0.0</td>\n",
              "      <td>0.592732</td>\n",
              "      <td>1.588421</td>\n",
              "      <td>7.586157</td>\n",
              "      <td>9.623011</td>\n",
              "      <td>0.0</td>\n",
              "      <td>6.816049</td>\n",
              "      <td>0.000000</td>\n",
              "      <td>0.0</td>\n",
              "      <td>...</td>\n",
              "      <td>4.593372</td>\n",
              "      <td>7.323865</td>\n",
              "      <td>9.740931</td>\n",
              "      <td>6.256586</td>\n",
              "      <td>8.381612</td>\n",
              "      <td>12.674552</td>\n",
              "      <td>10.517059</td>\n",
              "      <td>9.397854</td>\n",
              "      <td>2.094168</td>\n",
              "      <td>0.0</td>\n",
              "    </tr>\n",
              "    <tr>\n",
              "      <th>sample_2</th>\n",
              "      <td>PRAD</td>\n",
              "      <td>0.0</td>\n",
              "      <td>3.511759</td>\n",
              "      <td>4.327199</td>\n",
              "      <td>6.881787</td>\n",
              "      <td>9.870730</td>\n",
              "      <td>0.0</td>\n",
              "      <td>6.972130</td>\n",
              "      <td>0.452595</td>\n",
              "      <td>0.0</td>\n",
              "      <td>...</td>\n",
              "      <td>5.125213</td>\n",
              "      <td>8.127123</td>\n",
              "      <td>10.908640</td>\n",
              "      <td>5.401607</td>\n",
              "      <td>9.911597</td>\n",
              "      <td>9.045255</td>\n",
              "      <td>9.788359</td>\n",
              "      <td>10.090470</td>\n",
              "      <td>1.683023</td>\n",
              "      <td>0.0</td>\n",
              "    </tr>\n",
              "    <tr>\n",
              "      <th>sample_3</th>\n",
              "      <td>PRAD</td>\n",
              "      <td>0.0</td>\n",
              "      <td>3.663618</td>\n",
              "      <td>4.507649</td>\n",
              "      <td>6.659068</td>\n",
              "      <td>10.196184</td>\n",
              "      <td>0.0</td>\n",
              "      <td>7.843375</td>\n",
              "      <td>0.434882</td>\n",
              "      <td>0.0</td>\n",
              "      <td>...</td>\n",
              "      <td>6.076566</td>\n",
              "      <td>8.792959</td>\n",
              "      <td>10.141520</td>\n",
              "      <td>8.942805</td>\n",
              "      <td>9.601208</td>\n",
              "      <td>11.392682</td>\n",
              "      <td>9.694814</td>\n",
              "      <td>9.684365</td>\n",
              "      <td>3.292001</td>\n",
              "      <td>0.0</td>\n",
              "    </tr>\n",
              "    <tr>\n",
              "      <th>sample_4</th>\n",
              "      <td>BRCA</td>\n",
              "      <td>0.0</td>\n",
              "      <td>2.655741</td>\n",
              "      <td>2.821547</td>\n",
              "      <td>6.539454</td>\n",
              "      <td>9.738265</td>\n",
              "      <td>0.0</td>\n",
              "      <td>6.566967</td>\n",
              "      <td>0.360982</td>\n",
              "      <td>0.0</td>\n",
              "      <td>...</td>\n",
              "      <td>5.996032</td>\n",
              "      <td>8.891425</td>\n",
              "      <td>10.373790</td>\n",
              "      <td>7.181162</td>\n",
              "      <td>9.846910</td>\n",
              "      <td>11.922439</td>\n",
              "      <td>9.217749</td>\n",
              "      <td>9.461191</td>\n",
              "      <td>5.110372</td>\n",
              "      <td>0.0</td>\n",
              "    </tr>\n",
              "  </tbody>\n",
              "</table>\n",
              "<p>5 rows × 20532 columns</p>\n",
              "</div>\n",
              "      <button class=\"colab-df-convert\" onclick=\"convertToInteractive('df-28b48d04-c4ae-47bc-b8f5-ae46307111ce')\"\n",
              "              title=\"Convert this dataframe to an interactive table.\"\n",
              "              style=\"display:none;\">\n",
              "        \n",
              "  <svg xmlns=\"http://www.w3.org/2000/svg\" height=\"24px\"viewBox=\"0 0 24 24\"\n",
              "       width=\"24px\">\n",
              "    <path d=\"M0 0h24v24H0V0z\" fill=\"none\"/>\n",
              "    <path d=\"M18.56 5.44l.94 2.06.94-2.06 2.06-.94-2.06-.94-.94-2.06-.94 2.06-2.06.94zm-11 1L8.5 8.5l.94-2.06 2.06-.94-2.06-.94L8.5 2.5l-.94 2.06-2.06.94zm10 10l.94 2.06.94-2.06 2.06-.94-2.06-.94-.94-2.06-.94 2.06-2.06.94z\"/><path d=\"M17.41 7.96l-1.37-1.37c-.4-.4-.92-.59-1.43-.59-.52 0-1.04.2-1.43.59L10.3 9.45l-7.72 7.72c-.78.78-.78 2.05 0 2.83L4 21.41c.39.39.9.59 1.41.59.51 0 1.02-.2 1.41-.59l7.78-7.78 2.81-2.81c.8-.78.8-2.07 0-2.86zM5.41 20L4 18.59l7.72-7.72 1.47 1.35L5.41 20z\"/>\n",
              "  </svg>\n",
              "      </button>\n",
              "      \n",
              "  <style>\n",
              "    .colab-df-container {\n",
              "      display:flex;\n",
              "      flex-wrap:wrap;\n",
              "      gap: 12px;\n",
              "    }\n",
              "\n",
              "    .colab-df-convert {\n",
              "      background-color: #E8F0FE;\n",
              "      border: none;\n",
              "      border-radius: 50%;\n",
              "      cursor: pointer;\n",
              "      display: none;\n",
              "      fill: #1967D2;\n",
              "      height: 32px;\n",
              "      padding: 0 0 0 0;\n",
              "      width: 32px;\n",
              "    }\n",
              "\n",
              "    .colab-df-convert:hover {\n",
              "      background-color: #E2EBFA;\n",
              "      box-shadow: 0px 1px 2px rgba(60, 64, 67, 0.3), 0px 1px 3px 1px rgba(60, 64, 67, 0.15);\n",
              "      fill: #174EA6;\n",
              "    }\n",
              "\n",
              "    [theme=dark] .colab-df-convert {\n",
              "      background-color: #3B4455;\n",
              "      fill: #D2E3FC;\n",
              "    }\n",
              "\n",
              "    [theme=dark] .colab-df-convert:hover {\n",
              "      background-color: #434B5C;\n",
              "      box-shadow: 0px 1px 3px 1px rgba(0, 0, 0, 0.15);\n",
              "      filter: drop-shadow(0px 1px 2px rgba(0, 0, 0, 0.3));\n",
              "      fill: #FFFFFF;\n",
              "    }\n",
              "  </style>\n",
              "\n",
              "      <script>\n",
              "        const buttonEl =\n",
              "          document.querySelector('#df-28b48d04-c4ae-47bc-b8f5-ae46307111ce button.colab-df-convert');\n",
              "        buttonEl.style.display =\n",
              "          google.colab.kernel.accessAllowed ? 'block' : 'none';\n",
              "\n",
              "        async function convertToInteractive(key) {\n",
              "          const element = document.querySelector('#df-28b48d04-c4ae-47bc-b8f5-ae46307111ce');\n",
              "          const dataTable =\n",
              "            await google.colab.kernel.invokeFunction('convertToInteractive',\n",
              "                                                     [key], {});\n",
              "          if (!dataTable) return;\n",
              "\n",
              "          const docLinkHtml = 'Like what you see? Visit the ' +\n",
              "            '<a target=\"_blank\" href=https://colab.research.google.com/notebooks/data_table.ipynb>data table notebook</a>'\n",
              "            + ' to learn more about interactive tables.';\n",
              "          element.innerHTML = '';\n",
              "          dataTable['output_type'] = 'display_data';\n",
              "          await google.colab.output.renderOutput(dataTable, element);\n",
              "          const docLink = document.createElement('div');\n",
              "          docLink.innerHTML = docLinkHtml;\n",
              "          element.appendChild(docLink);\n",
              "        }\n",
              "      </script>\n",
              "    </div>\n",
              "  </div>\n",
              "  "
            ]
          },
          "metadata": {},
          "execution_count": 122
        }
      ]
    },
    {
      "cell_type": "code",
      "source": [
        "df.describe().transpose()"
      ],
      "metadata": {
        "colab": {
          "base_uri": "https://localhost:8080/",
          "height": 488
        },
        "id": "iR7RVB2XOzfj",
        "outputId": "79fb738a-7e15-4df1-af50-a355608bb05b"
      },
      "execution_count": null,
      "outputs": [
        {
          "output_type": "execute_result",
          "data": {
            "text/plain": [
              "            count       mean       std       min        25%        50%  \\\n",
              "gene_0      801.0   0.026642  0.136850  0.000000   0.000000   0.000000   \n",
              "gene_1      801.0   3.010909  1.200828  0.000000   2.299039   3.143687   \n",
              "gene_2      801.0   3.095350  1.065601  0.000000   2.390365   3.127006   \n",
              "gene_3      801.0   6.722305  0.638819  5.009284   6.303346   6.655893   \n",
              "gene_4      801.0   9.813612  0.506537  8.435999   9.464466   9.791599   \n",
              "...           ...        ...       ...       ...        ...        ...   \n",
              "gene_20526  801.0  11.742228  0.670371  9.045255  11.315857  11.749802   \n",
              "gene_20527  801.0  10.155271  0.580569  7.530141   9.836525  10.191207   \n",
              "gene_20528  801.0   9.590726  0.563849  7.864533   9.244219   9.566511   \n",
              "gene_20529  801.0   5.528177  2.073859  0.593975   4.092385   5.218618   \n",
              "gene_20530  801.0   0.095411  0.364529  0.000000   0.000000   0.000000   \n",
              "\n",
              "                  75%        max  \n",
              "gene_0       0.000000   1.482332  \n",
              "gene_1       3.883484   6.237034  \n",
              "gene_2       3.802534   6.063484  \n",
              "gene_3       7.038447  10.129528  \n",
              "gene_4      10.142324  11.355621  \n",
              "...               ...        ...  \n",
              "gene_20526  12.177852  13.715361  \n",
              "gene_20527  10.578561  11.675653  \n",
              "gene_20528   9.917888  12.813320  \n",
              "gene_20529   6.876382  11.205836  \n",
              "gene_20530   0.000000   5.254133  \n",
              "\n",
              "[20531 rows x 8 columns]"
            ],
            "text/html": [
              "\n",
              "  <div id=\"df-6cd6cd75-37b6-43c8-871a-c79845bb8c0b\">\n",
              "    <div class=\"colab-df-container\">\n",
              "      <div>\n",
              "<style scoped>\n",
              "    .dataframe tbody tr th:only-of-type {\n",
              "        vertical-align: middle;\n",
              "    }\n",
              "\n",
              "    .dataframe tbody tr th {\n",
              "        vertical-align: top;\n",
              "    }\n",
              "\n",
              "    .dataframe thead th {\n",
              "        text-align: right;\n",
              "    }\n",
              "</style>\n",
              "<table border=\"1\" class=\"dataframe\">\n",
              "  <thead>\n",
              "    <tr style=\"text-align: right;\">\n",
              "      <th></th>\n",
              "      <th>count</th>\n",
              "      <th>mean</th>\n",
              "      <th>std</th>\n",
              "      <th>min</th>\n",
              "      <th>25%</th>\n",
              "      <th>50%</th>\n",
              "      <th>75%</th>\n",
              "      <th>max</th>\n",
              "    </tr>\n",
              "  </thead>\n",
              "  <tbody>\n",
              "    <tr>\n",
              "      <th>gene_0</th>\n",
              "      <td>801.0</td>\n",
              "      <td>0.026642</td>\n",
              "      <td>0.136850</td>\n",
              "      <td>0.000000</td>\n",
              "      <td>0.000000</td>\n",
              "      <td>0.000000</td>\n",
              "      <td>0.000000</td>\n",
              "      <td>1.482332</td>\n",
              "    </tr>\n",
              "    <tr>\n",
              "      <th>gene_1</th>\n",
              "      <td>801.0</td>\n",
              "      <td>3.010909</td>\n",
              "      <td>1.200828</td>\n",
              "      <td>0.000000</td>\n",
              "      <td>2.299039</td>\n",
              "      <td>3.143687</td>\n",
              "      <td>3.883484</td>\n",
              "      <td>6.237034</td>\n",
              "    </tr>\n",
              "    <tr>\n",
              "      <th>gene_2</th>\n",
              "      <td>801.0</td>\n",
              "      <td>3.095350</td>\n",
              "      <td>1.065601</td>\n",
              "      <td>0.000000</td>\n",
              "      <td>2.390365</td>\n",
              "      <td>3.127006</td>\n",
              "      <td>3.802534</td>\n",
              "      <td>6.063484</td>\n",
              "    </tr>\n",
              "    <tr>\n",
              "      <th>gene_3</th>\n",
              "      <td>801.0</td>\n",
              "      <td>6.722305</td>\n",
              "      <td>0.638819</td>\n",
              "      <td>5.009284</td>\n",
              "      <td>6.303346</td>\n",
              "      <td>6.655893</td>\n",
              "      <td>7.038447</td>\n",
              "      <td>10.129528</td>\n",
              "    </tr>\n",
              "    <tr>\n",
              "      <th>gene_4</th>\n",
              "      <td>801.0</td>\n",
              "      <td>9.813612</td>\n",
              "      <td>0.506537</td>\n",
              "      <td>8.435999</td>\n",
              "      <td>9.464466</td>\n",
              "      <td>9.791599</td>\n",
              "      <td>10.142324</td>\n",
              "      <td>11.355621</td>\n",
              "    </tr>\n",
              "    <tr>\n",
              "      <th>...</th>\n",
              "      <td>...</td>\n",
              "      <td>...</td>\n",
              "      <td>...</td>\n",
              "      <td>...</td>\n",
              "      <td>...</td>\n",
              "      <td>...</td>\n",
              "      <td>...</td>\n",
              "      <td>...</td>\n",
              "    </tr>\n",
              "    <tr>\n",
              "      <th>gene_20526</th>\n",
              "      <td>801.0</td>\n",
              "      <td>11.742228</td>\n",
              "      <td>0.670371</td>\n",
              "      <td>9.045255</td>\n",
              "      <td>11.315857</td>\n",
              "      <td>11.749802</td>\n",
              "      <td>12.177852</td>\n",
              "      <td>13.715361</td>\n",
              "    </tr>\n",
              "    <tr>\n",
              "      <th>gene_20527</th>\n",
              "      <td>801.0</td>\n",
              "      <td>10.155271</td>\n",
              "      <td>0.580569</td>\n",
              "      <td>7.530141</td>\n",
              "      <td>9.836525</td>\n",
              "      <td>10.191207</td>\n",
              "      <td>10.578561</td>\n",
              "      <td>11.675653</td>\n",
              "    </tr>\n",
              "    <tr>\n",
              "      <th>gene_20528</th>\n",
              "      <td>801.0</td>\n",
              "      <td>9.590726</td>\n",
              "      <td>0.563849</td>\n",
              "      <td>7.864533</td>\n",
              "      <td>9.244219</td>\n",
              "      <td>9.566511</td>\n",
              "      <td>9.917888</td>\n",
              "      <td>12.813320</td>\n",
              "    </tr>\n",
              "    <tr>\n",
              "      <th>gene_20529</th>\n",
              "      <td>801.0</td>\n",
              "      <td>5.528177</td>\n",
              "      <td>2.073859</td>\n",
              "      <td>0.593975</td>\n",
              "      <td>4.092385</td>\n",
              "      <td>5.218618</td>\n",
              "      <td>6.876382</td>\n",
              "      <td>11.205836</td>\n",
              "    </tr>\n",
              "    <tr>\n",
              "      <th>gene_20530</th>\n",
              "      <td>801.0</td>\n",
              "      <td>0.095411</td>\n",
              "      <td>0.364529</td>\n",
              "      <td>0.000000</td>\n",
              "      <td>0.000000</td>\n",
              "      <td>0.000000</td>\n",
              "      <td>0.000000</td>\n",
              "      <td>5.254133</td>\n",
              "    </tr>\n",
              "  </tbody>\n",
              "</table>\n",
              "<p>20531 rows × 8 columns</p>\n",
              "</div>\n",
              "      <button class=\"colab-df-convert\" onclick=\"convertToInteractive('df-6cd6cd75-37b6-43c8-871a-c79845bb8c0b')\"\n",
              "              title=\"Convert this dataframe to an interactive table.\"\n",
              "              style=\"display:none;\">\n",
              "        \n",
              "  <svg xmlns=\"http://www.w3.org/2000/svg\" height=\"24px\"viewBox=\"0 0 24 24\"\n",
              "       width=\"24px\">\n",
              "    <path d=\"M0 0h24v24H0V0z\" fill=\"none\"/>\n",
              "    <path d=\"M18.56 5.44l.94 2.06.94-2.06 2.06-.94-2.06-.94-.94-2.06-.94 2.06-2.06.94zm-11 1L8.5 8.5l.94-2.06 2.06-.94-2.06-.94L8.5 2.5l-.94 2.06-2.06.94zm10 10l.94 2.06.94-2.06 2.06-.94-2.06-.94-.94-2.06-.94 2.06-2.06.94z\"/><path d=\"M17.41 7.96l-1.37-1.37c-.4-.4-.92-.59-1.43-.59-.52 0-1.04.2-1.43.59L10.3 9.45l-7.72 7.72c-.78.78-.78 2.05 0 2.83L4 21.41c.39.39.9.59 1.41.59.51 0 1.02-.2 1.41-.59l7.78-7.78 2.81-2.81c.8-.78.8-2.07 0-2.86zM5.41 20L4 18.59l7.72-7.72 1.47 1.35L5.41 20z\"/>\n",
              "  </svg>\n",
              "      </button>\n",
              "      \n",
              "  <style>\n",
              "    .colab-df-container {\n",
              "      display:flex;\n",
              "      flex-wrap:wrap;\n",
              "      gap: 12px;\n",
              "    }\n",
              "\n",
              "    .colab-df-convert {\n",
              "      background-color: #E8F0FE;\n",
              "      border: none;\n",
              "      border-radius: 50%;\n",
              "      cursor: pointer;\n",
              "      display: none;\n",
              "      fill: #1967D2;\n",
              "      height: 32px;\n",
              "      padding: 0 0 0 0;\n",
              "      width: 32px;\n",
              "    }\n",
              "\n",
              "    .colab-df-convert:hover {\n",
              "      background-color: #E2EBFA;\n",
              "      box-shadow: 0px 1px 2px rgba(60, 64, 67, 0.3), 0px 1px 3px 1px rgba(60, 64, 67, 0.15);\n",
              "      fill: #174EA6;\n",
              "    }\n",
              "\n",
              "    [theme=dark] .colab-df-convert {\n",
              "      background-color: #3B4455;\n",
              "      fill: #D2E3FC;\n",
              "    }\n",
              "\n",
              "    [theme=dark] .colab-df-convert:hover {\n",
              "      background-color: #434B5C;\n",
              "      box-shadow: 0px 1px 3px 1px rgba(0, 0, 0, 0.15);\n",
              "      filter: drop-shadow(0px 1px 2px rgba(0, 0, 0, 0.3));\n",
              "      fill: #FFFFFF;\n",
              "    }\n",
              "  </style>\n",
              "\n",
              "      <script>\n",
              "        const buttonEl =\n",
              "          document.querySelector('#df-6cd6cd75-37b6-43c8-871a-c79845bb8c0b button.colab-df-convert');\n",
              "        buttonEl.style.display =\n",
              "          google.colab.kernel.accessAllowed ? 'block' : 'none';\n",
              "\n",
              "        async function convertToInteractive(key) {\n",
              "          const element = document.querySelector('#df-6cd6cd75-37b6-43c8-871a-c79845bb8c0b');\n",
              "          const dataTable =\n",
              "            await google.colab.kernel.invokeFunction('convertToInteractive',\n",
              "                                                     [key], {});\n",
              "          if (!dataTable) return;\n",
              "\n",
              "          const docLinkHtml = 'Like what you see? Visit the ' +\n",
              "            '<a target=\"_blank\" href=https://colab.research.google.com/notebooks/data_table.ipynb>data table notebook</a>'\n",
              "            + ' to learn more about interactive tables.';\n",
              "          element.innerHTML = '';\n",
              "          dataTable['output_type'] = 'display_data';\n",
              "          await google.colab.output.renderOutput(dataTable, element);\n",
              "          const docLink = document.createElement('div');\n",
              "          docLink.innerHTML = docLinkHtml;\n",
              "          element.appendChild(docLink);\n",
              "        }\n",
              "      </script>\n",
              "    </div>\n",
              "  </div>\n",
              "  "
            ]
          },
          "metadata": {},
          "execution_count": 123
        }
      ]
    },
    {
      "cell_type": "code",
      "source": [
        "df['Class'].nunique()"
      ],
      "metadata": {
        "colab": {
          "base_uri": "https://localhost:8080/"
        },
        "id": "7f_Y-SC5WVQh",
        "outputId": "eebdac0d-0662-4fb0-ce5b-9ada00794208"
      },
      "execution_count": null,
      "outputs": [
        {
          "output_type": "execute_result",
          "data": {
            "text/plain": [
              "5"
            ]
          },
          "metadata": {},
          "execution_count": 124
        }
      ]
    },
    {
      "cell_type": "code",
      "source": [
        "df['Class'].value_counts()"
      ],
      "metadata": {
        "colab": {
          "base_uri": "https://localhost:8080/"
        },
        "id": "gxpltrTWWcCB",
        "outputId": "576d2f30-b6ff-4b2b-91ad-888ef650b6bc"
      },
      "execution_count": null,
      "outputs": [
        {
          "output_type": "execute_result",
          "data": {
            "text/plain": [
              "BRCA    300\n",
              "KIRC    146\n",
              "LUAD    141\n",
              "PRAD    136\n",
              "COAD     78\n",
              "Name: Class, dtype: int64"
            ]
          },
          "metadata": {},
          "execution_count": 125
        }
      ]
    },
    {
      "cell_type": "code",
      "source": [
        "df.isnull().sum().sort_values(ascending=True)"
      ],
      "metadata": {
        "colab": {
          "base_uri": "https://localhost:8080/"
        },
        "id": "YvMy1P7wW3S1",
        "outputId": "bd6ae8be-cecb-466b-ae2f-0d5ffb3992e8"
      },
      "execution_count": null,
      "outputs": [
        {
          "output_type": "execute_result",
          "data": {
            "text/plain": [
              "Class         0\n",
              "gene_13691    0\n",
              "gene_13690    0\n",
              "gene_13689    0\n",
              "gene_13688    0\n",
              "             ..\n",
              "gene_6839     0\n",
              "gene_6838     0\n",
              "gene_6837     0\n",
              "gene_6735     0\n",
              "gene_20530    0\n",
              "Length: 20532, dtype: int64"
            ]
          },
          "metadata": {},
          "execution_count": 126
        }
      ]
    },
    {
      "cell_type": "code",
      "source": [
        "df.duplicated().sum()"
      ],
      "metadata": {
        "colab": {
          "base_uri": "https://localhost:8080/"
        },
        "id": "idjnJmK3NHIv",
        "outputId": "05c463d2-e791-40bd-e0cc-fe7fcfc28d8a"
      },
      "execution_count": null,
      "outputs": [
        {
          "output_type": "execute_result",
          "data": {
            "text/plain": [
              "0"
            ]
          },
          "metadata": {},
          "execution_count": 127
        }
      ]
    },
    {
      "cell_type": "markdown",
      "source": [
        "### Plot the merged data as a hierarchically-clustered heatmap"
      ],
      "metadata": {
        "id": "fPoQ20S6aj8p"
      }
    },
    {
      "cell_type": "code",
      "source": [
        "heatmap_data = pd.pivot_table(df,index=[\"Class\"])"
      ],
      "metadata": {
        "id": "ZtaUQSfhYCEV"
      },
      "execution_count": null,
      "outputs": []
    },
    {
      "cell_type": "code",
      "source": [
        "sns.clustermap(heatmap_data,method=\"complete\",metric=\"euclidean\", row_cluster=False)"
      ],
      "metadata": {
        "colab": {
          "base_uri": "https://localhost:8080/",
          "height": 442
        },
        "id": "7-BYp6bCO4Qs",
        "outputId": "82bd3c77-2883-46d6-bdbb-09a16e51ba0f"
      },
      "execution_count": null,
      "outputs": [
        {
          "output_type": "stream",
          "name": "stderr",
          "text": [
            "/usr/local/lib/python3.7/dist-packages/seaborn/matrix.py:654: UserWarning: Clustering large matrix with scipy. Installing `fastcluster` may give better performance.\n",
            "  warnings.warn(msg)\n"
          ]
        },
        {
          "output_type": "execute_result",
          "data": {
            "text/plain": [
              "<seaborn.matrix.ClusterGrid at 0x7f65eefbca10>"
            ]
          },
          "metadata": {},
          "execution_count": 129
        },
        {
          "output_type": "display_data",
          "data": {
            "text/plain": [
              "<Figure size 720x720 with 4 Axes>"
            ],
            "image/png": "[encoded data removed]"
          },
          "metadata": {
            "needs_background": "light"
          }
        }
      ]
    },
    {
      "cell_type": "markdown",
      "source": [
        "### Perform Null-hypothesis testing"
      ],
      "metadata": {
        "id": "X-Fw8BpXxMnP"
      }
    },
    {
      "cell_type": "code",
      "source": [
        "from scipy import stats\n",
        "from sklearn import preprocessing"
      ],
      "metadata": {
        "id": "KOWDsjD4Qq14"
      },
      "execution_count": null,
      "outputs": []
    },
    {
      "cell_type": "markdown",
      "source": [
        "Looking for the genes with the highest standard deviation to perform null hypothesis testing on. "
      ],
      "metadata": {
        "id": "lW6ZS8rRMynF"
      }
    },
    {
      "cell_type": "code",
      "source": [
        "vals = heatmap_data.values.T\n",
        "min_max_scaler = preprocessing.MinMaxScaler()\n",
        "vals_scaled = min_max_scaler.fit_transform(vals)\n",
        "heatmap_data_scaled = pd.DataFrame(vals_scaled.T, columns=heatmap_data.columns)"
      ],
      "metadata": {
        "id": "E_0iychfGNsF"
      },
      "execution_count": null,
      "outputs": []
    },
    {
      "cell_type": "code",
      "source": [
        "heatmap_data_scaled.describe()"
      ],
      "metadata": {
        "colab": {
          "base_uri": "https://localhost:8080/",
          "height": 394
        },
        "id": "8taOKylHwqH7",
        "outputId": "dd4c2174-2870-4bd8-fed7-4573955597c4"
      },
      "execution_count": null,
      "outputs": [
        {
          "output_type": "execute_result",
          "data": {
            "text/plain": [
              "         gene_0    gene_1   gene_10  gene_100  gene_1000  gene_10000  \\\n",
              "count  5.000000  5.000000  5.000000  5.000000   5.000000    5.000000   \n",
              "mean   0.001738  0.181712  0.040391  0.620780   0.610728    0.166530   \n",
              "std    0.000857  0.025163  0.017957  0.036446   0.043932    0.059156   \n",
              "min    0.000687  0.142909  0.021287  0.563838   0.546538    0.098433   \n",
              "25%    0.001323  0.171829  0.032921  0.610159   0.592897    0.106916   \n",
              "50%    0.001455  0.188680  0.036232  0.627252   0.623455    0.197139   \n",
              "75%    0.002450  0.200280  0.041980  0.646322   0.626418    0.206272   \n",
              "max    0.002774  0.204862  0.069533  0.656328   0.664334    0.223891   \n",
              "\n",
              "       gene_10001  gene_10002  gene_10003  gene_10004  ...  gene_9990  \\\n",
              "count    5.000000    5.000000    5.000000    5.000000  ...   5.000000   \n",
              "mean     0.410859    0.453980    0.358123    0.431184  ...   0.120919   \n",
              "std      0.047237    0.022380    0.092795    0.022686  ...   0.024984   \n",
              "min      0.329284    0.419966    0.225424    0.405571  ...   0.089020   \n",
              "25%      0.410929    0.446106    0.312345    0.414638  ...   0.108753   \n",
              "50%      0.434276    0.458077    0.366477    0.426332  ...   0.119158   \n",
              "75%      0.435706    0.467703    0.433208    0.454322  ...   0.132042   \n",
              "max      0.444101    0.478048    0.453158    0.455057  ...   0.155624   \n",
              "\n",
              "       gene_9991  gene_9992  gene_9993  gene_9994  gene_9995  gene_9996  \\\n",
              "count   5.000000   5.000000   5.000000   5.000000   5.000000   5.000000   \n",
              "mean    0.157367   0.122514   0.120292   0.126772   0.164623   0.009978   \n",
              "std     0.128530   0.029409   0.019820   0.060449   0.024782   0.012171   \n",
              "min     0.021141   0.092342   0.096503   0.076840   0.142768   0.002509   \n",
              "25%     0.035547   0.105053   0.111511   0.093422   0.146686   0.002815   \n",
              "50%     0.167088   0.109248   0.111609   0.102630   0.150896   0.005382   \n",
              "75%     0.251912   0.142621   0.139929   0.132226   0.187095   0.007772   \n",
              "max     0.311150   0.163308   0.141909   0.228743   0.195669   0.031413   \n",
              "\n",
              "       gene_9997  gene_9998  gene_9999  \n",
              "count   5.000000   5.000000   5.000000  \n",
              "mean    0.148189   0.006091   0.397738  \n",
              "std     0.028696   0.002740   0.014445  \n",
              "min     0.127051   0.003376   0.383135  \n",
              "25%     0.136083   0.003873   0.389541  \n",
              "50%     0.136932   0.005206   0.394334  \n",
              "75%     0.142302   0.008858   0.400857  \n",
              "max     0.198578   0.009141   0.420821  \n",
              "\n",
              "[8 rows x 20531 columns]"
            ],
            "text/html": [
              "\n",
              "  <div id=\"df-dc099b4c-6344-4929-9f9b-e0d030e8cb6d\">\n",
              "    <div class=\"colab-df-container\">\n",
              "      <div>\n",
              "<style scoped>\n",
              "    .dataframe tbody tr th:only-of-type {\n",
              "        vertical-align: middle;\n",
              "    }\n",
              "\n",
              "    .dataframe tbody tr th {\n",
              "        vertical-align: top;\n",
              "    }\n",
              "\n",
              "    .dataframe thead th {\n",
              "        text-align: right;\n",
              "    }\n",
              "</style>\n",
              "<table border=\"1\" class=\"dataframe\">\n",
              "  <thead>\n",
              "    <tr style=\"text-align: right;\">\n",
              "      <th></th>\n",
              "      <th>gene_0</th>\n",
              "      <th>gene_1</th>\n",
              "      <th>gene_10</th>\n",
              "      <th>gene_100</th>\n",
              "      <th>gene_1000</th>\n",
              "      <th>gene_10000</th>\n",
              "      <th>gene_10001</th>\n",
              "      <th>gene_10002</th>\n",
              "      <th>gene_10003</th>\n",
              "      <th>gene_10004</th>\n",
              "      <th>...</th>\n",
              "      <th>gene_9990</th>\n",
              "      <th>gene_9991</th>\n",
              "      <th>gene_9992</th>\n",
              "      <th>gene_9993</th>\n",
              "      <th>gene_9994</th>\n",
              "      <th>gene_9995</th>\n",
              "      <th>gene_9996</th>\n",
              "      <th>gene_9997</th>\n",
              "      <th>gene_9998</th>\n",
              "      <th>gene_9999</th>\n",
              "    </tr>\n",
              "  </thead>\n",
              "  <tbody>\n",
              "    <tr>\n",
              "      <th>count</th>\n",
              "      <td>5.000000</td>\n",
              "      <td>5.000000</td>\n",
              "      <td>5.000000</td>\n",
              "      <td>5.000000</td>\n",
              "      <td>5.000000</td>\n",
              "      <td>5.000000</td>\n",
              "      <td>5.000000</td>\n",
              "      <td>5.000000</td>\n",
              "      <td>5.000000</td>\n",
              "      <td>5.000000</td>\n",
              "      <td>...</td>\n",
              "      <td>5.000000</td>\n",
              "      <td>5.000000</td>\n",
              "      <td>5.000000</td>\n",
              "      <td>5.000000</td>\n",
              "      <td>5.000000</td>\n",
              "      <td>5.000000</td>\n",
              "      <td>5.000000</td>\n",
              "      <td>5.000000</td>\n",
              "      <td>5.000000</td>\n",
              "      <td>5.000000</td>\n",
              "    </tr>\n",
              "    <tr>\n",
              "      <th>mean</th>\n",
              "      <td>0.001738</td>\n",
              "      <td>0.181712</td>\n",
              "      <td>0.040391</td>\n",
              "      <td>0.620780</td>\n",
              "      <td>0.610728</td>\n",
              "      <td>0.166530</td>\n",
              "      <td>0.410859</td>\n",
              "      <td>0.453980</td>\n",
              "      <td>0.358123</td>\n",
              "      <td>0.431184</td>\n",
              "      <td>...</td>\n",
              "      <td>0.120919</td>\n",
              "      <td>0.157367</td>\n",
              "      <td>0.122514</td>\n",
              "      <td>0.120292</td>\n",
              "      <td>0.126772</td>\n",
              "      <td>0.164623</td>\n",
              "      <td>0.009978</td>\n",
              "      <td>0.148189</td>\n",
              "      <td>0.006091</td>\n",
              "      <td>0.397738</td>\n",
              "    </tr>\n",
              "    <tr>\n",
              "      <th>std</th>\n",
              "      <td>0.000857</td>\n",
              "      <td>0.025163</td>\n",
              "      <td>0.017957</td>\n",
              "      <td>0.036446</td>\n",
              "      <td>0.043932</td>\n",
              "      <td>0.059156</td>\n",
              "      <td>0.047237</td>\n",
              "      <td>0.022380</td>\n",
              "      <td>0.092795</td>\n",
              "      <td>0.022686</td>\n",
              "      <td>...</td>\n",
              "      <td>0.024984</td>\n",
              "      <td>0.128530</td>\n",
              "      <td>0.029409</td>\n",
              "      <td>0.019820</td>\n",
              "      <td>0.060449</td>\n",
              "      <td>0.024782</td>\n",
              "      <td>0.012171</td>\n",
              "      <td>0.028696</td>\n",
              "      <td>0.002740</td>\n",
              "      <td>0.014445</td>\n",
              "    </tr>\n",
              "    <tr>\n",
              "      <th>min</th>\n",
              "      <td>0.000687</td>\n",
              "      <td>0.142909</td>\n",
              "      <td>0.021287</td>\n",
              "      <td>0.563838</td>\n",
              "      <td>0.546538</td>\n",
              "      <td>0.098433</td>\n",
              "      <td>0.329284</td>\n",
              "      <td>0.419966</td>\n",
              "      <td>0.225424</td>\n",
              "      <td>0.405571</td>\n",
              "      <td>...</td>\n",
              "      <td>0.089020</td>\n",
              "      <td>0.021141</td>\n",
              "      <td>0.092342</td>\n",
              "      <td>0.096503</td>\n",
              "      <td>0.076840</td>\n",
              "      <td>0.142768</td>\n",
              "      <td>0.002509</td>\n",
              "      <td>0.127051</td>\n",
              "      <td>0.003376</td>\n",
              "      <td>0.383135</td>\n",
              "    </tr>\n",
              "    <tr>\n",
              "      <th>25%</th>\n",
              "      <td>0.001323</td>\n",
              "      <td>0.171829</td>\n",
              "      <td>0.032921</td>\n",
              "      <td>0.610159</td>\n",
              "      <td>0.592897</td>\n",
              "      <td>0.106916</td>\n",
              "      <td>0.410929</td>\n",
              "      <td>0.446106</td>\n",
              "      <td>0.312345</td>\n",
              "      <td>0.414638</td>\n",
              "      <td>...</td>\n",
              "      <td>0.108753</td>\n",
              "      <td>0.035547</td>\n",
              "      <td>0.105053</td>\n",
              "      <td>0.111511</td>\n",
              "      <td>0.093422</td>\n",
              "      <td>0.146686</td>\n",
              "      <td>0.002815</td>\n",
              "      <td>0.136083</td>\n",
              "      <td>0.003873</td>\n",
              "      <td>0.389541</td>\n",
              "    </tr>\n",
              "    <tr>\n",
              "      <th>50%</th>\n",
              "      <td>0.001455</td>\n",
              "      <td>0.188680</td>\n",
              "      <td>0.036232</td>\n",
              "      <td>0.627252</td>\n",
              "      <td>0.623455</td>\n",
              "      <td>0.197139</td>\n",
              "      <td>0.434276</td>\n",
              "      <td>0.458077</td>\n",
              "      <td>0.366477</td>\n",
              "      <td>0.426332</td>\n",
              "      <td>...</td>\n",
              "      <td>0.119158</td>\n",
              "      <td>0.167088</td>\n",
              "      <td>0.109248</td>\n",
              "      <td>0.111609</td>\n",
              "      <td>0.102630</td>\n",
              "      <td>0.150896</td>\n",
              "      <td>0.005382</td>\n",
              "      <td>0.136932</td>\n",
              "      <td>0.005206</td>\n",
              "      <td>0.394334</td>\n",
              "    </tr>\n",
              "    <tr>\n",
              "      <th>75%</th>\n",
              "      <td>0.002450</td>\n",
              "      <td>0.200280</td>\n",
              "      <td>0.041980</td>\n",
              "      <td>0.646322</td>\n",
              "      <td>0.626418</td>\n",
              "      <td>0.206272</td>\n",
              "      <td>0.435706</td>\n",
              "      <td>0.467703</td>\n",
              "      <td>0.433208</td>\n",
              "      <td>0.454322</td>\n",
              "      <td>...</td>\n",
              "      <td>0.132042</td>\n",
              "      <td>0.251912</td>\n",
              "      <td>0.142621</td>\n",
              "      <td>0.139929</td>\n",
              "      <td>0.132226</td>\n",
              "      <td>0.187095</td>\n",
              "      <td>0.007772</td>\n",
              "      <td>0.142302</td>\n",
              "      <td>0.008858</td>\n",
              "      <td>0.400857</td>\n",
              "    </tr>\n",
              "    <tr>\n",
              "      <th>max</th>\n",
              "      <td>0.002774</td>\n",
              "      <td>0.204862</td>\n",
              "      <td>0.069533</td>\n",
              "      <td>0.656328</td>\n",
              "      <td>0.664334</td>\n",
              "      <td>0.223891</td>\n",
              "      <td>0.444101</td>\n",
              "      <td>0.478048</td>\n",
              "      <td>0.453158</td>\n",
              "      <td>0.455057</td>\n",
              "      <td>...</td>\n",
              "      <td>0.155624</td>\n",
              "      <td>0.311150</td>\n",
              "      <td>0.163308</td>\n",
              "      <td>0.141909</td>\n",
              "      <td>0.228743</td>\n",
              "      <td>0.195669</td>\n",
              "      <td>0.031413</td>\n",
              "      <td>0.198578</td>\n",
              "      <td>0.009141</td>\n",
              "      <td>0.420821</td>\n",
              "    </tr>\n",
              "  </tbody>\n",
              "</table>\n",
              "<p>8 rows × 20531 columns</p>\n",
              "</div>\n",
              "      <button class=\"colab-df-convert\" onclick=\"convertToInteractive('df-dc099b4c-6344-4929-9f9b-e0d030e8cb6d')\"\n",
              "              title=\"Convert this dataframe to an interactive table.\"\n",
              "              style=\"display:none;\">\n",
              "        \n",
              "  <svg xmlns=\"http://www.w3.org/2000/svg\" height=\"24px\"viewBox=\"0 0 24 24\"\n",
              "       width=\"24px\">\n",
              "    <path d=\"M0 0h24v24H0V0z\" fill=\"none\"/>\n",
              "    <path d=\"M18.56 5.44l.94 2.06.94-2.06 2.06-.94-2.06-.94-.94-2.06-.94 2.06-2.06.94zm-11 1L8.5 8.5l.94-2.06 2.06-.94-2.06-.94L8.5 2.5l-.94 2.06-2.06.94zm10 10l.94 2.06.94-2.06 2.06-.94-2.06-.94-.94-2.06-.94 2.06-2.06.94z\"/><path d=\"M17.41 7.96l-1.37-1.37c-.4-.4-.92-.59-1.43-.59-.52 0-1.04.2-1.43.59L10.3 9.45l-7.72 7.72c-.78.78-.78 2.05 0 2.83L4 21.41c.39.39.9.59 1.41.59.51 0 1.02-.2 1.41-.59l7.78-7.78 2.81-2.81c.8-.78.8-2.07 0-2.86zM5.41 20L4 18.59l7.72-7.72 1.47 1.35L5.41 20z\"/>\n",
              "  </svg>\n",
              "      </button>\n",
              "      \n",
              "  <style>\n",
              "    .colab-df-container {\n",
              "      display:flex;\n",
              "      flex-wrap:wrap;\n",
              "      gap: 12px;\n",
              "    }\n",
              "\n",
              "    .colab-df-convert {\n",
              "      background-color: #E8F0FE;\n",
              "      border: none;\n",
              "      border-radius: 50%;\n",
              "      cursor: pointer;\n",
              "      display: none;\n",
              "      fill: #1967D2;\n",
              "      height: 32px;\n",
              "      padding: 0 0 0 0;\n",
              "      width: 32px;\n",
              "    }\n",
              "\n",
              "    .colab-df-convert:hover {\n",
              "      background-color: #E2EBFA;\n",
              "      box-shadow: 0px 1px 2px rgba(60, 64, 67, 0.3), 0px 1px 3px 1px rgba(60, 64, 67, 0.15);\n",
              "      fill: #174EA6;\n",
              "    }\n",
              "\n",
              "    [theme=dark] .colab-df-convert {\n",
              "      background-color: #3B4455;\n",
              "      fill: #D2E3FC;\n",
              "    }\n",
              "\n",
              "    [theme=dark] .colab-df-convert:hover {\n",
              "      background-color: #434B5C;\n",
              "      box-shadow: 0px 1px 3px 1px rgba(0, 0, 0, 0.15);\n",
              "      filter: drop-shadow(0px 1px 2px rgba(0, 0, 0, 0.3));\n",
              "      fill: #FFFFFF;\n",
              "    }\n",
              "  </style>\n",
              "\n",
              "      <script>\n",
              "        const buttonEl =\n",
              "          document.querySelector('#df-dc099b4c-6344-4929-9f9b-e0d030e8cb6d button.colab-df-convert');\n",
              "        buttonEl.style.display =\n",
              "          google.colab.kernel.accessAllowed ? 'block' : 'none';\n",
              "\n",
              "        async function convertToInteractive(key) {\n",
              "          const element = document.querySelector('#df-dc099b4c-6344-4929-9f9b-e0d030e8cb6d');\n",
              "          const dataTable =\n",
              "            await google.colab.kernel.invokeFunction('convertToInteractive',\n",
              "                                                     [key], {});\n",
              "          if (!dataTable) return;\n",
              "\n",
              "          const docLinkHtml = 'Like what you see? Visit the ' +\n",
              "            '<a target=\"_blank\" href=https://colab.research.google.com/notebooks/data_table.ipynb>data table notebook</a>'\n",
              "            + ' to learn more about interactive tables.';\n",
              "          element.innerHTML = '';\n",
              "          dataTable['output_type'] = 'display_data';\n",
              "          await google.colab.output.renderOutput(dataTable, element);\n",
              "          const docLink = document.createElement('div');\n",
              "          docLink.innerHTML = docLinkHtml;\n",
              "          element.appendChild(docLink);\n",
              "        }\n",
              "      </script>\n",
              "    </div>\n",
              "  </div>\n",
              "  "
            ]
          },
          "metadata": {},
          "execution_count": 132
        }
      ]
    },
    {
      "cell_type": "code",
      "source": [
        "heatmap_data_scaled.loc[:, heatmap_data_scaled.std() > 0.35].describe()"
      ],
      "metadata": {
        "colab": {
          "base_uri": "https://localhost:8080/",
          "height": 364
        },
        "id": "5NHjekt5EJtI",
        "outputId": "7e1767fe-4368-448b-c60c-5cedea0c511d"
      },
      "execution_count": null,
      "outputs": [
        {
          "output_type": "execute_result",
          "data": {
            "text/plain": [
              "       gene_15898  gene_3540  gene_3541  gene_9175  gene_9176\n",
              "count    5.000000   5.000000   5.000000   5.000000   5.000000\n",
              "mean     0.237668   0.475602   0.520155   0.230536   0.255510\n",
              "std      0.390868   0.372921   0.353788   0.385606   0.420582\n",
              "min      0.040724   0.036313   0.049171   0.021675   0.011263\n",
              "25%      0.064274   0.242109   0.293300   0.051736   0.024405\n",
              "50%      0.064604   0.407797   0.544638   0.062847   0.076183\n",
              "75%      0.082364   0.723516   0.850895   0.097817   0.165698\n",
              "max      0.936372   0.968277   0.862771   0.918606   1.000000"
            ],
            "text/html": [
              "\n",
              "  <div id=\"df-54464e0c-4d8f-403e-9b77-362abd1807d5\">\n",
              "    <div class=\"colab-df-container\">\n",
              "      <div>\n",
              "<style scoped>\n",
              "    .dataframe tbody tr th:only-of-type {\n",
              "        vertical-align: middle;\n",
              "    }\n",
              "\n",
              "    .dataframe tbody tr th {\n",
              "        vertical-align: top;\n",
              "    }\n",
              "\n",
              "    .dataframe thead th {\n",
              "        text-align: right;\n",
              "    }\n",
              "</style>\n",
              "<table border=\"1\" class=\"dataframe\">\n",
              "  <thead>\n",
              "    <tr style=\"text-align: right;\">\n",
              "      <th></th>\n",
              "      <th>gene_15898</th>\n",
              "      <th>gene_3540</th>\n",
              "      <th>gene_3541</th>\n",
              "      <th>gene_9175</th>\n",
              "      <th>gene_9176</th>\n",
              "    </tr>\n",
              "  </thead>\n",
              "  <tbody>\n",
              "    <tr>\n",
              "      <th>count</th>\n",
              "      <td>5.000000</td>\n",
              "      <td>5.000000</td>\n",
              "      <td>5.000000</td>\n",
              "      <td>5.000000</td>\n",
              "      <td>5.000000</td>\n",
              "    </tr>\n",
              "    <tr>\n",
              "      <th>mean</th>\n",
              "      <td>0.237668</td>\n",
              "      <td>0.475602</td>\n",
              "      <td>0.520155</td>\n",
              "      <td>0.230536</td>\n",
              "      <td>0.255510</td>\n",
              "    </tr>\n",
              "    <tr>\n",
              "      <th>std</th>\n",
              "      <td>0.390868</td>\n",
              "      <td>0.372921</td>\n",
              "      <td>0.353788</td>\n",
              "      <td>0.385606</td>\n",
              "      <td>0.420582</td>\n",
              "    </tr>\n",
              "    <tr>\n",
              "      <th>min</th>\n",
              "      <td>0.040724</td>\n",
              "      <td>0.036313</td>\n",
              "      <td>0.049171</td>\n",
              "      <td>0.021675</td>\n",
              "      <td>0.011263</td>\n",
              "    </tr>\n",
              "    <tr>\n",
              "      <th>25%</th>\n",
              "      <td>0.064274</td>\n",
              "      <td>0.242109</td>\n",
              "      <td>0.293300</td>\n",
              "      <td>0.051736</td>\n",
              "      <td>0.024405</td>\n",
              "    </tr>\n",
              "    <tr>\n",
              "      <th>50%</th>\n",
              "      <td>0.064604</td>\n",
              "      <td>0.407797</td>\n",
              "      <td>0.544638</td>\n",
              "      <td>0.062847</td>\n",
              "      <td>0.076183</td>\n",
              "    </tr>\n",
              "    <tr>\n",
              "      <th>75%</th>\n",
              "      <td>0.082364</td>\n",
              "      <td>0.723516</td>\n",
              "      <td>0.850895</td>\n",
              "      <td>0.097817</td>\n",
              "      <td>0.165698</td>\n",
              "    </tr>\n",
              "    <tr>\n",
              "      <th>max</th>\n",
              "      <td>0.936372</td>\n",
              "      <td>0.968277</td>\n",
              "      <td>0.862771</td>\n",
              "      <td>0.918606</td>\n",
              "      <td>1.000000</td>\n",
              "    </tr>\n",
              "  </tbody>\n",
              "</table>\n",
              "</div>\n",
              "      <button class=\"colab-df-convert\" onclick=\"convertToInteractive('df-54464e0c-4d8f-403e-9b77-362abd1807d5')\"\n",
              "              title=\"Convert this dataframe to an interactive table.\"\n",
              "              style=\"display:none;\">\n",
              "        \n",
              "  <svg xmlns=\"http://www.w3.org/2000/svg\" height=\"24px\"viewBox=\"0 0 24 24\"\n",
              "       width=\"24px\">\n",
              "    <path d=\"M0 0h24v24H0V0z\" fill=\"none\"/>\n",
              "    <path d=\"M18.56 5.44l.94 2.06.94-2.06 2.06-.94-2.06-.94-.94-2.06-.94 2.06-2.06.94zm-11 1L8.5 8.5l.94-2.06 2.06-.94-2.06-.94L8.5 2.5l-.94 2.06-2.06.94zm10 10l.94 2.06.94-2.06 2.06-.94-2.06-.94-.94-2.06-.94 2.06-2.06.94z\"/><path d=\"M17.41 7.96l-1.37-1.37c-.4-.4-.92-.59-1.43-.59-.52 0-1.04.2-1.43.59L10.3 9.45l-7.72 7.72c-.78.78-.78 2.05 0 2.83L4 21.41c.39.39.9.59 1.41.59.51 0 1.02-.2 1.41-.59l7.78-7.78 2.81-2.81c.8-.78.8-2.07 0-2.86zM5.41 20L4 18.59l7.72-7.72 1.47 1.35L5.41 20z\"/>\n",
              "  </svg>\n",
              "      </button>\n",
              "      \n",
              "  <style>\n",
              "    .colab-df-container {\n",
              "      display:flex;\n",
              "      flex-wrap:wrap;\n",
              "      gap: 12px;\n",
              "    }\n",
              "\n",
              "    .colab-df-convert {\n",
              "      background-color: #E8F0FE;\n",
              "      border: none;\n",
              "      border-radius: 50%;\n",
              "      cursor: pointer;\n",
              "      display: none;\n",
              "      fill: #1967D2;\n",
              "      height: 32px;\n",
              "      padding: 0 0 0 0;\n",
              "      width: 32px;\n",
              "    }\n",
              "\n",
              "    .colab-df-convert:hover {\n",
              "      background-color: #E2EBFA;\n",
              "      box-shadow: 0px 1px 2px rgba(60, 64, 67, 0.3), 0px 1px 3px 1px rgba(60, 64, 67, 0.15);\n",
              "      fill: #174EA6;\n",
              "    }\n",
              "\n",
              "    [theme=dark] .colab-df-convert {\n",
              "      background-color: #3B4455;\n",
              "      fill: #D2E3FC;\n",
              "    }\n",
              "\n",
              "    [theme=dark] .colab-df-convert:hover {\n",
              "      background-color: #434B5C;\n",
              "      box-shadow: 0px 1px 3px 1px rgba(0, 0, 0, 0.15);\n",
              "      filter: drop-shadow(0px 1px 2px rgba(0, 0, 0, 0.3));\n",
              "      fill: #FFFFFF;\n",
              "    }\n",
              "  </style>\n",
              "\n",
              "      <script>\n",
              "        const buttonEl =\n",
              "          document.querySelector('#df-54464e0c-4d8f-403e-9b77-362abd1807d5 button.colab-df-convert');\n",
              "        buttonEl.style.display =\n",
              "          google.colab.kernel.accessAllowed ? 'block' : 'none';\n",
              "\n",
              "        async function convertToInteractive(key) {\n",
              "          const element = document.querySelector('#df-54464e0c-4d8f-403e-9b77-362abd1807d5');\n",
              "          const dataTable =\n",
              "            await google.colab.kernel.invokeFunction('convertToInteractive',\n",
              "                                                     [key], {});\n",
              "          if (!dataTable) return;\n",
              "\n",
              "          const docLinkHtml = 'Like what you see? Visit the ' +\n",
              "            '<a target=\"_blank\" href=https://colab.research.google.com/notebooks/data_table.ipynb>data table notebook</a>'\n",
              "            + ' to learn more about interactive tables.';\n",
              "          element.innerHTML = '';\n",
              "          dataTable['output_type'] = 'display_data';\n",
              "          await google.colab.output.renderOutput(dataTable, element);\n",
              "          const docLink = document.createElement('div');\n",
              "          docLink.innerHTML = docLinkHtml;\n",
              "          element.appendChild(docLink);\n",
              "        }\n",
              "      </script>\n",
              "    </div>\n",
              "  </div>\n",
              "  "
            ]
          },
          "metadata": {},
          "execution_count": 133
        }
      ]
    },
    {
      "cell_type": "code",
      "source": [
        "for col in heatmap_data_scaled.loc[:, heatmap_data_scaled.std() > 0.35]:\n",
        "  print(df.groupby('Class')[col].mean())"
      ],
      "metadata": {
        "colab": {
          "base_uri": "https://localhost:8080/"
        },
        "id": "gRqmkquQJZMJ",
        "outputId": "52f3e328-4df5-49b9-b43b-6c1885efa280"
      },
      "execution_count": null,
      "outputs": [
        {
          "output_type": "stream",
          "name": "stdout",
          "text": [
            "Class\n",
            "BRCA     1.067688\n",
            "COAD     1.382390\n",
            "KIRC     1.078570\n",
            "LUAD    15.700952\n",
            "PRAD     0.742695\n",
            "Name: gene_15898, dtype: float64\n",
            "Class\n",
            "BRCA     6.739489\n",
            "COAD    16.251452\n",
            "KIRC     0.609368\n",
            "LUAD    12.131822\n",
            "PRAD     4.415432\n",
            "Name: gene_3540, dtype: float64\n",
            "Class\n",
            "BRCA     9.000999\n",
            "COAD    14.480650\n",
            "KIRC     0.825130\n",
            "LUAD    14.267683\n",
            "PRAD     5.349038\n",
            "Name: gene_3541, dtype: float64\n",
            "Class\n",
            "BRCA     1.616576\n",
            "COAD     1.054822\n",
            "KIRC     0.363720\n",
            "LUAD     0.867502\n",
            "PRAD    16.752995\n",
            "Name: gene_9175, dtype: float64\n",
            "Class\n",
            "BRCA     1.259048\n",
            "COAD     2.781059\n",
            "KIRC     0.409529\n",
            "LUAD     0.188861\n",
            "PRAD    18.237407\n",
            "Name: gene_9176, dtype: float64\n"
          ]
        }
      ]
    },
    {
      "cell_type": "markdown",
      "source": [
        "These all seem to have some large ranging values"
      ],
      "metadata": {
        "id": "i7qOxVcQNcNE"
      }
    },
    {
      "cell_type": "markdown",
      "source": [
        "**Null Hypothesis:** There **is not** a statistically significant relationaship between the gene and the label variable.\n",
        "\n",
        "**Alternative Hypothesis:** There **is** a statistically significant relationaship between the gene and the label variable."
      ],
      "metadata": {
        "id": "SvwueIQIN_R-"
      }
    },
    {
      "cell_type": "code",
      "source": [
        "brca = df[df['Class']=='BRCA'][['gene_15898', 'gene_3540', 'gene_3541', 'gene_9175', 'gene_9176']]\n",
        "coad = df[df['Class']=='COAD'][['gene_15898', 'gene_3540', 'gene_3541', 'gene_9175', 'gene_9176']]\n",
        "kirc = df[df['Class']=='KIRC'][['gene_15898', 'gene_3540', 'gene_3541', 'gene_9175', 'gene_9176']]\n",
        "luad = df[df['Class']=='LUAD'][['gene_15898', 'gene_3540', 'gene_3541', 'gene_9175', 'gene_9176']]\n",
        "prad = df[df['Class']=='PRAD'][['gene_15898', 'gene_3540', 'gene_3541', 'gene_9175', 'gene_9176']]"
      ],
      "metadata": {
        "id": "T49uKcsmQLGB"
      },
      "execution_count": null,
      "outputs": []
    },
    {
      "cell_type": "code",
      "source": [
        "stats.f_oneway(brca, coad, kirc, luad, prad)"
      ],
      "metadata": {
        "colab": {
          "base_uri": "https://localhost:8080/"
        },
        "id": "6AaBPv_HWfTw",
        "outputId": "9fe98386-f3e0-45e5-c780-0789220f1d4e"
      },
      "execution_count": null,
      "outputs": [
        {
          "output_type": "execute_result",
          "data": {
            "text/plain": [
              "F_onewayResult(statistic=array([1905.19087886,  477.52870809,  634.0166968 , 4194.48933628,\n",
              "       3463.55032802]), pvalue=array([0.00000000e+000, 8.70450817e-210, 1.01416975e-245, 0.00000000e+000,\n",
              "       0.00000000e+000]))"
            ]
          },
          "metadata": {},
          "execution_count": 136
        }
      ]
    },
    {
      "cell_type": "markdown",
      "source": [
        "The p-value for each of these genese is below 0.05 meaning we can reject the null hypothesis for these five genes. "
      ],
      "metadata": {
        "id": "P63HYK1yXtF3"
      }
    },
    {
      "cell_type": "markdown",
      "source": [
        "## Week 2: Dimensionality Reduction\n",
        "\n",
        "Each sample has expression values for around 20K genes. However, it may not be necessary to include all 20K genes expression values to analyze each cancer type. Therefore, we will identify a smaller set of attributes which will then be used to fit multiclass classification models. So, the first task targets the dimensionality reduction using various techniques such as,\n",
        "PCA, LDA, and t-SNE.\n",
        "\n",
        "Input: Complete dataset including all genes (20531)\n",
        "\n",
        "Output: Selected Genes from each dimensionality reduction method"
      ],
      "metadata": {
        "id": "f5N6zvlQZBx0"
      }
    },
    {
      "cell_type": "code",
      "source": [
        "from sklearn.preprocessing import StandardScaler\n",
        "from sklearn.decomposition import PCA\n",
        "from sklearn.model_selection import train_test_split"
      ],
      "metadata": {
        "id": "2C0QFs6fXG1V"
      },
      "execution_count": null,
      "outputs": []
    },
    {
      "cell_type": "code",
      "source": [
        "sc = StandardScaler()"
      ],
      "metadata": {
        "id": "zFmK4su_iu36"
      },
      "execution_count": null,
      "outputs": []
    },
    {
      "cell_type": "code",
      "source": [
        "X = df.drop(['Class'], axis=1)\n",
        "y = df['Class'].values.reshape(-1,1)"
      ],
      "metadata": {
        "id": "A13KIGEoizYS"
      },
      "execution_count": null,
      "outputs": []
    },
    {
      "cell_type": "code",
      "source": [
        "X_train, X_test, y_train, y_test = train_test_split(X,y,test_size=0.25, random_state=0)"
      ],
      "metadata": {
        "id": "U5Rb_VJ5kPVa"
      },
      "execution_count": null,
      "outputs": []
    },
    {
      "cell_type": "code",
      "source": [
        "X_train.shape, X_test.shape, y_train.shape, y_test.shape"
      ],
      "metadata": {
        "colab": {
          "base_uri": "https://localhost:8080/"
        },
        "id": "S3hySQoJkr5i",
        "outputId": "105a9c91-d254-49f6-8a14-68d50af5fbce"
      },
      "execution_count": null,
      "outputs": [
        {
          "output_type": "execute_result",
          "data": {
            "text/plain": [
              "((600, 20531), (201, 20531), (600, 1), (201, 1))"
            ]
          },
          "metadata": {},
          "execution_count": 141
        }
      ]
    },
    {
      "cell_type": "code",
      "source": [
        "X_train_scaled = sc.fit_transform(X_train)"
      ],
      "metadata": {
        "id": "HPwsMrNFk1gE"
      },
      "execution_count": null,
      "outputs": []
    },
    {
      "cell_type": "code",
      "source": [
        "X_train_scaled"
      ],
      "metadata": {
        "colab": {
          "base_uri": "https://localhost:8080/"
        },
        "id": "MaIuH1A6lFcV",
        "outputId": "97159bdd-02d6-4db0-d499-c373ac84d3d7"
      },
      "execution_count": null,
      "outputs": [
        {
          "output_type": "execute_result",
          "data": {
            "text/plain": [
              "array([[-0.20534083,  0.78240123, -0.03427337, ..., -1.20925347,\n",
              "         1.18672905, -0.24570272],\n",
              "       [-0.20534083, -0.0361104 ,  1.61043146, ...,  0.09439164,\n",
              "         0.7866146 , -0.24570272],\n",
              "       [-0.20534083,  0.25295667, -0.07779959, ...,  2.79411593,\n",
              "         2.05263418, -0.24570272],\n",
              "       ...,\n",
              "       [-0.20534083, -0.34273235, -1.21520081, ...,  1.22184566,\n",
              "        -1.18431847,  4.40068154],\n",
              "       [-0.20534083, -0.23980551, -0.10950566, ..., -0.32056994,\n",
              "        -0.15082696, -0.24570272],\n",
              "       [-0.20534083, -0.5366763 ,  1.17890112, ..., -0.49099734,\n",
              "         0.15467683, -0.24570272]])"
            ]
          },
          "metadata": {},
          "execution_count": 143
        }
      ]
    },
    {
      "cell_type": "code",
      "source": [
        "pca = PCA(n_components=0.95)\n",
        "X_train_pca = pca.fit_transform(X_train_scaled)"
      ],
      "metadata": {
        "id": "iUjz6kQSoCIY"
      },
      "execution_count": null,
      "outputs": []
    },
    {
      "cell_type": "code",
      "source": [
        "X_train_pca.shape"
      ],
      "metadata": {
        "colab": {
          "base_uri": "https://localhost:8080/"
        },
        "id": "SRu7SLk-obyV",
        "outputId": "1a8bc761-55a9-43cb-c4bb-dccd9e128265"
      },
      "execution_count": null,
      "outputs": [
        {
          "output_type": "execute_result",
          "data": {
            "text/plain": [
              "(600, 409)"
            ]
          },
          "metadata": {},
          "execution_count": 145
        }
      ]
    },
    {
      "cell_type": "code",
      "source": [
        "y_train_df = pd.DataFrame(y_train, columns=['Class'])"
      ],
      "metadata": {
        "id": "71ae1j0v44PZ"
      },
      "execution_count": null,
      "outputs": []
    },
    {
      "cell_type": "code",
      "source": [
        "plt.scatter(X_train_pca[:,1],X_train_pca[:,2],c=y_train_df['Class'].astype('category').cat.codes)"
      ],
      "metadata": {
        "colab": {
          "base_uri": "https://localhost:8080/",
          "height": 272
        },
        "id": "0ihwEElLpW0B",
        "outputId": "4d61fc56-09ec-4fe7-c848-eca7d259bdd5"
      },
      "execution_count": null,
      "outputs": [
        {
          "output_type": "execute_result",
          "data": {
            "text/plain": [
              "<matplotlib.collections.PathCollection at 0x7f65f4235690>"
            ]
          },
          "metadata": {},
          "execution_count": 147
        },
        {
          "output_type": "display_data",
          "data": {
            "text/plain": [
              "<Figure size 432x288 with 1 Axes>"
            ],
            "image/png": "[encoded data removed]"
          },
          "metadata": {
            "needs_background": "light"
          }
        }
      ]
    },
    {
      "cell_type": "code",
      "source": [
        "# for i in range(X_train_pca.shape[1]):\n",
        "#   for j in range(i+1,X_train_pca.shape[1]):\n",
        "#     plt.figure(figsize=(3,3))\n",
        "\n",
        "#     plt.scatter(X_train_pca[:,i],\n",
        "#                 X_train_pca[:,j],\n",
        "#                 c=y_train_df['Class'].astype('category').cat.codes)\n",
        "    \n",
        "\n",
        "#     plt.xlabel(\"Component \"+str(i))\n",
        "#     plt.ylabel(\"Component \"+str(j))\n",
        "#     plt.show()"
      ],
      "metadata": {
        "id": "flGMIxxn5erA"
      },
      "execution_count": null,
      "outputs": []
    },
    {
      "cell_type": "markdown",
      "source": [
        "## Week 3: Clustering Genes and Samples\n",
        "Our next goal is to identify groups of genes that behave similarly across samples and identify the distribution of samples corresponding to each cancer type. Therefore, this task focuses on applying various clustering techniques, e.g., k-means, hierarchical, and mean-shift clustering, on genes and samples."
      ],
      "metadata": {
        "id": "m_EfY4b-IJAW"
      }
    },
    {
      "cell_type": "markdown",
      "source": [
        "### First, apply the given clustering technique on all genes to identify:"
      ],
      "metadata": {
        "id": "zfUNzzSVL5Uz"
      }
    },
    {
      "cell_type": "markdown",
      "source": [
        "#### 1. Genes whose expression values are similar across all samples"
      ],
      "metadata": {
        "id": "CUIWfLoANWrt"
      }
    },
    {
      "cell_type": "code",
      "source": [
        "from sklearn.cluster import KMeans"
      ],
      "metadata": {
        "id": "J3MeIoJaQA1U"
      },
      "execution_count": null,
      "outputs": []
    },
    {
      "cell_type": "code",
      "source": [
        "df_pca = pd.DataFrame(df.drop(['Class'], axis =1))"
      ],
      "metadata": {
        "id": "hlHvx0ucSCm1"
      },
      "execution_count": null,
      "outputs": []
    },
    {
      "cell_type": "code",
      "source": [
        "def plot_sse_vs_clusters(dataset, max_clusters, step=1):\n",
        "  sse = {}\n",
        "  \n",
        "  for k in range(1,max_clusters,step):\n",
        "    kmeans = KMeans(n_clusters=k, max_iter = 1000, random_state = 0).fit(dataset)\n",
        "    sse[k] = kmeans.inertia_\n",
        "\n",
        "  plt.figure()\n",
        "  plt.plot(list(sse.keys()), list(sse.values()), 'bx-')\n",
        "  plt.xlabel(\"Number of cluster\")\n",
        "  plt.ylabel(\"SSE\")\n",
        "  plt.show()\n"
      ],
      "metadata": {
        "id": "nQRFKb-WokiC"
      },
      "execution_count": null,
      "outputs": []
    },
    {
      "cell_type": "code",
      "source": [
        "plot_sse_vs_clusters(df_pca, 30, 5)"
      ],
      "metadata": {
        "colab": {
          "base_uri": "https://localhost:8080/",
          "height": 253
        },
        "id": "XNS4thYzS_65",
        "outputId": "4af88af1-3316-472b-930c-01d49130e9d8"
      },
      "execution_count": null,
      "outputs": [
        {
          "output_type": "display_data",
          "data": {
            "text/plain": [
              "<Figure size 432x288 with 1 Axes>"
            ],
            "image/png": "[encoded data removed]"
          },
          "metadata": {
            "needs_background": "light"
          }
        }
      ]
    },
    {
      "cell_type": "code",
      "source": [
        "plot_sse_vs_clusters(df_pca, 10, 1)\n"
      ],
      "metadata": {
        "colab": {
          "base_uri": "https://localhost:8080/",
          "height": 253
        },
        "id": "hyvY5mvlngjr",
        "outputId": "209fb9ba-a727-46e5-ad01-831c69a8edeb"
      },
      "execution_count": null,
      "outputs": [
        {
          "output_type": "display_data",
          "data": {
            "text/plain": [
              "<Figure size 432x288 with 1 Axes>"
            ],
            "image/png": "[encoded data removed]"
          },
          "metadata": {
            "needs_background": "light"
          }
        }
      ]
    },
    {
      "cell_type": "markdown",
      "source": [
        "There is no clear elbow in the plot. I think 5 clusters could be the optimal number.\n"
      ],
      "metadata": {
        "id": "dVV15X1YWkcY"
      }
    },
    {
      "cell_type": "code",
      "source": [
        "kmeans = KMeans(n_clusters=5, random_state=0)\n",
        "kmeans.fit(df_pca)\n",
        "df['KLabels'] = kmeans.predict(df_pca)"
      ],
      "metadata": {
        "id": "Pb4_Md3pogTR"
      },
      "execution_count": null,
      "outputs": []
    },
    {
      "cell_type": "code",
      "source": [
        "df['KLabels'].value_counts()"
      ],
      "metadata": {
        "colab": {
          "base_uri": "https://localhost:8080/"
        },
        "id": "iMHrm67VpVlZ",
        "outputId": "35b5360c-4784-4894-b69a-1c243e1196d1"
      },
      "execution_count": null,
      "outputs": [
        {
          "output_type": "execute_result",
          "data": {
            "text/plain": [
              "2    303\n",
              "3    145\n",
              "1    141\n",
              "0    136\n",
              "4     76\n",
              "Name: KLabels, dtype: int64"
            ]
          },
          "metadata": {},
          "execution_count": 155
        }
      ]
    },
    {
      "cell_type": "code",
      "source": [
        "# df_scaled = pd.DataFrame(min_max_scaler.fit_transform(df.groupby('KLabels').mean()),columns=X_train.columns)\n",
        "df_kl = df.groupby('KLabels').mean()"
      ],
      "metadata": {
        "id": "xyhetVNNkrN2"
      },
      "execution_count": null,
      "outputs": []
    },
    {
      "cell_type": "code",
      "source": [
        "df_kl.std().sort_values(ascending=True)"
      ],
      "metadata": {
        "colab": {
          "base_uri": "https://localhost:8080/"
        },
        "id": "-lGG6y6rmKXx",
        "outputId": "9f3065e9-55aa-46de-b895-3e6db16c662d"
      },
      "execution_count": null,
      "outputs": [
        {
          "output_type": "execute_result",
          "data": {
            "text/plain": [
              "gene_16739    0.000000\n",
              "gene_16804    0.000000\n",
              "gene_16805    0.000000\n",
              "gene_16806    0.000000\n",
              "gene_16807    0.000000\n",
              "                ...   \n",
              "gene_3541     5.895283\n",
              "gene_3540     6.248574\n",
              "gene_15898    6.502424\n",
              "gene_9175     7.075398\n",
              "gene_9176     7.704322\n",
              "Length: 20531, dtype: float64"
            ]
          },
          "metadata": {},
          "execution_count": 157
        }
      ]
    },
    {
      "cell_type": "code",
      "source": [
        "df_temp = pd.DataFrame(df_kl.std(), columns=['std'])"
      ],
      "metadata": {
        "id": "ciM9FDMVgMnQ"
      },
      "execution_count": null,
      "outputs": []
    },
    {
      "cell_type": "code",
      "source": [
        "sns.boxplot(x=df_temp['std'])\n"
      ],
      "metadata": {
        "colab": {
          "base_uri": "https://localhost:8080/",
          "height": 301
        },
        "id": "k-ugfATFffec",
        "outputId": "23421ddc-e164-443a-9321-a537356a039f"
      },
      "execution_count": null,
      "outputs": [
        {
          "output_type": "execute_result",
          "data": {
            "text/plain": [
              "<matplotlib.axes._subplots.AxesSubplot at 0x7f65f01a67d0>"
            ]
          },
          "metadata": {},
          "execution_count": 159
        },
        {
          "output_type": "display_data",
          "data": {
            "text/plain": [
              "<Figure size 432x288 with 1 Axes>"
            ],
            "image/png": "[encoded data removed]"
          },
          "metadata": {
            "needs_background": "light"
          }
        }
      ]
    },
    {
      "cell_type": "code",
      "source": [
        "print(df_kl.std().sort_values(ascending=True)[1000])\n",
        "print(df_kl.std().sort_values(ascending=True)[2500])\n",
        "print(df_kl.std().sort_values(ascending=True)[5000])\n",
        "print(df_kl.std().sort_values(ascending=True)[10000])\n",
        "print(df_kl.std().sort_values(ascending=True)[15000])\n",
        "print(df_kl.std().sort_values(ascending=True)[20000])"
      ],
      "metadata": {
        "colab": {
          "base_uri": "https://localhost:8080/"
        },
        "id": "vo-JElI3fIz3",
        "outputId": "22e90750-f7a4-4167-a01c-dc49d5ef277d"
      },
      "execution_count": null,
      "outputs": [
        {
          "output_type": "stream",
          "name": "stdout",
          "text": [
            "0.03414881616247402\n",
            "0.1483382974880354\n",
            "0.24774339508342694\n",
            "0.4590672798543773\n",
            "0.9122755274017963\n",
            "2.630200658422561\n"
          ]
        }
      ]
    },
    {
      "cell_type": "markdown",
      "source": [
        "75% of the genes have a standard deviation of less than one between the 5 different groups of cancer. There are also many outliers."
      ],
      "metadata": {
        "id": "ehv3HM7rnpb1"
      }
    },
    {
      "cell_type": "markdown",
      "source": [
        "###### Code not being used"
      ],
      "metadata": {
        "id": "DxLP84f_ig1D"
      }
    },
    {
      "cell_type": "code",
      "source": [
        "# for col in ['gene_9176', 'gene_9175', 'gene_15898', 'gene_3540', 'gene_3541']:\n",
        "#   print(df.groupby('KLabels')[col].mean())"
      ],
      "metadata": {
        "id": "JObrFm3c9z7l"
      },
      "execution_count": null,
      "outputs": []
    },
    {
      "cell_type": "code",
      "source": [
        "# df[['gene_9176', 'gene_9175', 'gene_15898', 'gene_3540', 'gene_3541','KLabels']].boxplot(by = 'KLabels', figsize = (20, 20))\n",
        "\n",
        "# plt.show()"
      ],
      "metadata": {
        "id": "v8knwrW354pt"
      },
      "execution_count": null,
      "outputs": []
    },
    {
      "cell_type": "markdown",
      "source": [
        "From these boxplots, we can see: \n",
        "* Genes 9175 and 9176 are both storngly correlated with Cluster 0.\n",
        "* Gene 15898 is strongly associated with Cluster 1\n",
        "* Genes 3540 and 3541 are strongly associated with Clusters 1 and 4\n"
      ],
      "metadata": {
        "id": "ld-B9lUHELDa"
      }
    },
    {
      "cell_type": "code",
      "source": [
        "# plt.scatter(df.iloc[:, 9177], \n",
        "#             df.iloc[:, 9176], \n",
        "#             c=df['KLabels'].astype('category').cat.codes)"
      ],
      "metadata": {
        "id": "nt5vA1rl0v_O"
      },
      "execution_count": null,
      "outputs": []
    },
    {
      "cell_type": "markdown",
      "source": [
        "It's kind of difficult to draw conclusion about which genes form the clusters from these style scatter plots. "
      ],
      "metadata": {
        "id": "qWZ2mFLP4C7E"
      }
    },
    {
      "cell_type": "markdown",
      "source": [
        "#### 2. Genes whose expression values are similar across samples of each cancer type "
      ],
      "metadata": {
        "id": "ZghbgU37Nbk_"
      }
    },
    {
      "cell_type": "markdown",
      "source": [
        "##### BRCA"
      ],
      "metadata": {
        "id": "0b3opVmBN_dd"
      }
    },
    {
      "cell_type": "code",
      "source": [
        "brca_km = df[df['Class']=='BRCA']\n",
        "brca_km = brca_km.drop(['Class'],axis=1)\n",
        "\n",
        "plot_sse_vs_clusters(brca_km, 10)"
      ],
      "metadata": {
        "colab": {
          "base_uri": "https://localhost:8080/",
          "height": 250
        },
        "id": "OAm690ISnpMO",
        "outputId": "77d290e4-5242-41de-c144-3b6abbcbb265"
      },
      "execution_count": null,
      "outputs": [
        {
          "output_type": "display_data",
          "data": {
            "text/plain": [
              "<Figure size 432x288 with 1 Axes>"
            ],
            "image/png": "[encoded data removed]"
          },
          "metadata": {
            "needs_background": "light"
          }
        }
      ]
    },
    {
      "cell_type": "code",
      "source": [
        "kmeans_brca = KMeans(n_clusters=4, random_state=0)\n",
        "kmeans_brca.fit(brca_km)\n",
        "brca_km['KLabels'] = kmeans_brca.predict(brca_km)\n",
        "brca_km['KLabels'].value_counts()"
      ],
      "metadata": {
        "colab": {
          "base_uri": "https://localhost:8080/"
        },
        "id": "bQkt2IZG4mPC",
        "outputId": "1ad83ce3-3be1-4729-f42d-b643662ec5da"
      },
      "execution_count": null,
      "outputs": [
        {
          "output_type": "execute_result",
          "data": {
            "text/plain": [
              "3    112\n",
              "0     99\n",
              "2     51\n",
              "1     38\n",
              "Name: KLabels, dtype: int64"
            ]
          },
          "metadata": {},
          "execution_count": 165
        }
      ]
    },
    {
      "cell_type": "code",
      "source": [
        "def cluster_box_plot(data):\n",
        "  # data = data.groupby('KLabels').mean()\n",
        "  data_temp = pd.DataFrame(data.std(), columns=['std'])\n",
        "  sns.boxplot(x=data_temp['std'])\n",
        "  plt.show()"
      ],
      "metadata": {
        "id": "eruuf2BsjApJ"
      },
      "execution_count": null,
      "outputs": []
    },
    {
      "cell_type": "code",
      "source": [
        "cluster_box_plot(brca_km)"
      ],
      "metadata": {
        "colab": {
          "base_uri": "https://localhost:8080/",
          "height": 266
        },
        "id": "VvGtsVCilx6R",
        "outputId": "d1862e43-495f-4ab2-a9b1-241f7afb2e00"
      },
      "execution_count": null,
      "outputs": [
        {
          "output_type": "display_data",
          "data": {
            "text/plain": [
              "<Figure size 432x288 with 1 Axes>"
            ],
            "image/png": "[encoded data removed]"
          },
          "metadata": {
            "needs_background": "light"
          }
        }
      ]
    },
    {
      "cell_type": "markdown",
      "source": [
        "The vast majority of gene expressions in the BRCA group have a standard deviation of less than 1.5. There are also many outliers. "
      ],
      "metadata": {
        "id": "hthvytKAkcfk"
      }
    },
    {
      "cell_type": "markdown",
      "source": [
        "##### COAD"
      ],
      "metadata": {
        "id": "7u-WKyw5Ud_h"
      }
    },
    {
      "cell_type": "code",
      "source": [
        "coad_km = df[df['Class']=='COAD']\n",
        "coad_km = coad_km.drop(['Class'],axis=1)\n",
        "plot_sse_vs_clusters(coad_km, 10)"
      ],
      "metadata": {
        "colab": {
          "base_uri": "https://localhost:8080/",
          "height": 253
        },
        "id": "qFgoevkXQuQy",
        "outputId": "315d6b09-0e5d-4fb3-b890-a87100c87f3e"
      },
      "execution_count": null,
      "outputs": [
        {
          "output_type": "display_data",
          "data": {
            "text/plain": [
              "<Figure size 432x288 with 1 Axes>"
            ],
            "image/png": "[encoded data removed]"
          },
          "metadata": {
            "needs_background": "light"
          }
        }
      ]
    },
    {
      "cell_type": "code",
      "source": [
        "# This function fits the KMeans data and makes boxplots groupes by the clustes\n",
        "def fit_and_get_vcs(data, nclu):\n",
        "  kmeans_coad = KMeans(n_clusters=nclu, random_state=0)\n",
        "  kmeans_coad.fit(data)\n",
        "  data['KLabels'] = kmeans_coad.predict(data)\n",
        "  print(data['KLabels'].value_counts())\n",
        "\n",
        "  data_kl = data.groupby('KLabels').mean()\n",
        "  std = data_kl.std().sort_values(ascending=False)\n",
        "  labels = ['KLabels']\n",
        "  for i in range(6):\n",
        "    labels.append(std.index[i])\n",
        "\n",
        "  data[labels].boxplot(by = 'KLabels', figsize = (20, 20))\n",
        "\n",
        "  plt.show()\n",
        "\n",
        "  return data\n"
      ],
      "metadata": {
        "id": "sfLqJkgeWzXA"
      },
      "execution_count": null,
      "outputs": []
    },
    {
      "cell_type": "code",
      "source": [
        "# coad_km = fit_and_get_vcs(coad_km, 4)"
      ],
      "metadata": {
        "id": "wLFoXb1UXLaK"
      },
      "execution_count": null,
      "outputs": []
    },
    {
      "cell_type": "code",
      "source": [
        "cluster_box_plot(coad_km)"
      ],
      "metadata": {
        "colab": {
          "base_uri": "https://localhost:8080/",
          "height": 266
        },
        "id": "7pYUY7iNm7Hu",
        "outputId": "c83d8522-2315-4185-b36a-5c73a22d7132"
      },
      "execution_count": null,
      "outputs": [
        {
          "output_type": "display_data",
          "data": {
            "text/plain": [
              "<Figure size 432x288 with 1 Axes>"
            ],
            "image/png": "[encoded data removed]"
          },
          "metadata": {
            "needs_background": "light"
          }
        }
      ]
    },
    {
      "cell_type": "markdown",
      "source": [
        "The vast majority of gene expressions in the COAD group have a standard deviation of less than 1.5. There are also many outliers. "
      ],
      "metadata": {
        "id": "X9-sJPivbSKp"
      }
    },
    {
      "cell_type": "markdown",
      "source": [
        "##### KIRC"
      ],
      "metadata": {
        "id": "AANhmGEQYgq-"
      }
    },
    {
      "cell_type": "code",
      "source": [
        "kirc_km = df[df['Class']=='KIRC']\n",
        "kirc_km = kirc_km.drop(['Class'],axis=1)\n",
        "plot_sse_vs_clusters(kirc_km,10)"
      ],
      "metadata": {
        "colab": {
          "base_uri": "https://localhost:8080/",
          "height": 253
        },
        "id": "igTymJ9FYgMj",
        "outputId": "a360a5a1-b1a2-45ea-f454-ffd4cdbc13ad"
      },
      "execution_count": null,
      "outputs": [
        {
          "output_type": "display_data",
          "data": {
            "text/plain": [
              "<Figure size 432x288 with 1 Axes>"
            ],
            "image/png": "[encoded data removed]"
          },
          "metadata": {
            "needs_background": "light"
          }
        }
      ]
    },
    {
      "cell_type": "code",
      "source": [
        "# kirc_km = fit_and_get_vcs(kirc_km, 5)"
      ],
      "metadata": {
        "id": "FxbWluAtYu0N"
      },
      "execution_count": null,
      "outputs": []
    },
    {
      "cell_type": "code",
      "source": [
        "cluster_box_plot(kirc_km)"
      ],
      "metadata": {
        "colab": {
          "base_uri": "https://localhost:8080/",
          "height": 266
        },
        "id": "_Szf2ygTnS1G",
        "outputId": "3bcf8595-2447-4c94-bda1-9c25bfdbcfb5"
      },
      "execution_count": null,
      "outputs": [
        {
          "output_type": "display_data",
          "data": {
            "text/plain": [
              "<Figure size 432x288 with 1 Axes>"
            ],
            "image/png": "[encoded data removed]"
          },
          "metadata": {
            "needs_background": "light"
          }
        }
      ]
    },
    {
      "cell_type": "markdown",
      "source": [
        "The vast majority of gene expressions in the KIRC group have a standard deviation of less than 1.5. There are also many outliers. "
      ],
      "metadata": {
        "id": "8bTZ9StpnWXz"
      }
    },
    {
      "cell_type": "markdown",
      "source": [
        "##### LUAD"
      ],
      "metadata": {
        "id": "rqotaM8LZHPf"
      }
    },
    {
      "cell_type": "code",
      "source": [
        "luad_km = df[df['Class']=='LUAD']\n",
        "luad_km = luad_km.drop(['Class'],axis=1)\n",
        "plot_sse_vs_clusters(luad_km, 10)"
      ],
      "metadata": {
        "colab": {
          "base_uri": "https://localhost:8080/",
          "height": 253
        },
        "id": "19JiOk7zZGuW",
        "outputId": "27db1c8a-4aa7-44ba-aff5-a824b1f0ed19"
      },
      "execution_count": null,
      "outputs": [
        {
          "output_type": "display_data",
          "data": {
            "text/plain": [
              "<Figure size 432x288 with 1 Axes>"
            ],
            "image/png": "[encoded data removed]"
          },
          "metadata": {
            "needs_background": "light"
          }
        }
      ]
    },
    {
      "cell_type": "code",
      "source": [
        "# luad_km = fit_and_get_vcs(luad_km, 7)"
      ],
      "metadata": {
        "id": "StS5fJe_ZXsy"
      },
      "execution_count": null,
      "outputs": []
    },
    {
      "cell_type": "code",
      "source": [
        "cluster_box_plot(luad_km)"
      ],
      "metadata": {
        "colab": {
          "base_uri": "https://localhost:8080/",
          "height": 266
        },
        "id": "QfWRAfDonjAP",
        "outputId": "ef5b1561-cead-43ac-c642-4ad50bd3702e"
      },
      "execution_count": null,
      "outputs": [
        {
          "output_type": "display_data",
          "data": {
            "text/plain": [
              "<Figure size 432x288 with 1 Axes>"
            ],
            "image/png": "[encoded data removed]"
          },
          "metadata": {
            "needs_background": "light"
          }
        }
      ]
    },
    {
      "cell_type": "markdown",
      "source": [
        "The vast majority of gene expressions in the LUAD group have a standard deviation of less than 1.5. There are also many outliers. "
      ],
      "metadata": {
        "id": "GckUQs60nkcx"
      }
    },
    {
      "cell_type": "markdown",
      "source": [
        "##### PRAD"
      ],
      "metadata": {
        "id": "ikqcFzm-ZPVG"
      }
    },
    {
      "cell_type": "code",
      "source": [
        "prad_km = df[df['Class']=='PRAD']\n",
        "prad_km = prad_km.drop(['Class'],axis=1)\n",
        "plot_sse_vs_clusters(prad_km, 10)"
      ],
      "metadata": {
        "colab": {
          "base_uri": "https://localhost:8080/",
          "height": 253
        },
        "id": "tuwaIn0vZTZO",
        "outputId": "a2ed664f-c6a0-49fc-9ece-87fdafab3889"
      },
      "execution_count": null,
      "outputs": [
        {
          "output_type": "display_data",
          "data": {
            "text/plain": [
              "<Figure size 432x288 with 1 Axes>"
            ],
            "image/png": "[encoded data removed]"
          },
          "metadata": {
            "needs_background": "light"
          }
        }
      ]
    },
    {
      "cell_type": "code",
      "source": [
        "# prad_km = fit_and_get_vcs(prad_km,5)"
      ],
      "metadata": {
        "id": "VthyTGONadmg"
      },
      "execution_count": null,
      "outputs": []
    },
    {
      "cell_type": "code",
      "source": [
        "cluster_box_plot(prad_km)"
      ],
      "metadata": {
        "colab": {
          "base_uri": "https://localhost:8080/",
          "height": 266
        },
        "id": "9k6Qw57ynrwJ",
        "outputId": "ee88cfc2-deec-4f23-a476-17a1f22e3f64"
      },
      "execution_count": null,
      "outputs": [
        {
          "output_type": "display_data",
          "data": {
            "text/plain": [
              "<Figure size 432x288 with 1 Axes>"
            ],
            "image/png": "[encoded data removed]"
          },
          "metadata": {
            "needs_background": "light"
          }
        }
      ]
    },
    {
      "cell_type": "markdown",
      "source": [
        "The vast majority of gene expressions in the PRAD group have a standard deviation of less than 1.5. There are also many outliers. "
      ],
      "metadata": {
        "id": "Q7HPr1nLnvPe"
      }
    },
    {
      "cell_type": "markdown",
      "source": [
        "### Next, apply the given clustering technique on all samples to identify:\n",
        "\n",
        "1. Samples of the same class (cancer type) which also correspond to the same cluster\n",
        "\n",
        "2. Samples identified to be belonging to another cluster but also to the same class (cancer type)"
      ],
      "metadata": {
        "id": "5Fhv-IJVMCyN"
      }
    },
    {
      "cell_type": "code",
      "source": [
        "df_class_and_klabels = df[['Class','KLabels']]"
      ],
      "metadata": {
        "id": "VAIS-VsY3pHE"
      },
      "execution_count": null,
      "outputs": []
    },
    {
      "cell_type": "code",
      "source": [
        "print(df_class_and_klabels[df_class_and_klabels['Class'] == 'BRCA'].value_counts())\n",
        "print(df_class_and_klabels[df_class_and_klabels['Class'] == 'COAD'].value_counts())\n",
        "print(df_class_and_klabels[df_class_and_klabels['Class'] == 'KIRC'].value_counts())\n",
        "print(df_class_and_klabels[df_class_and_klabels['Class'] == 'LUAD'].value_counts())\n",
        "print(df_class_and_klabels[df_class_and_klabels['Class'] == 'PRAD'].value_counts())"
      ],
      "metadata": {
        "colab": {
          "base_uri": "https://localhost:8080/"
        },
        "id": "-OcPIQtRpZ-R",
        "outputId": "7536d7ad-6283-4b6e-e3a2-9976f97ec891"
      },
      "execution_count": null,
      "outputs": [
        {
          "output_type": "stream",
          "name": "stdout",
          "text": [
            "Class  KLabels\n",
            "BRCA   2          300\n",
            "dtype: int64\n",
            "Class  KLabels\n",
            "COAD   4          76\n",
            "       1           2\n",
            "dtype: int64\n",
            "Class  KLabels\n",
            "KIRC   3          145\n",
            "       2            1\n",
            "dtype: int64\n",
            "Class  KLabels\n",
            "LUAD   1          139\n",
            "       2            2\n",
            "dtype: int64\n",
            "Class  KLabels\n",
            "PRAD   0          136\n",
            "dtype: int64\n"
          ]
        }
      ]
    },
    {
      "cell_type": "code",
      "source": [
        "from sklearn.metrics import confusion_matrix"
      ],
      "metadata": {
        "id": "Vk62Pk2Bq6Af"
      },
      "execution_count": null,
      "outputs": []
    },
    {
      "cell_type": "code",
      "source": [
        "df_class_and_klabels.loc[df_class_and_klabels['KLabels'] == 0, 'Pred_Class'] = 'PRAD'\n",
        "df_class_and_klabels.loc[df_class_and_klabels['KLabels'] == 1, 'Pred_Class'] = 'LUAD'\n",
        "df_class_and_klabels.loc[df_class_and_klabels['KLabels'] == 2, 'Pred_Class'] = 'BRCA'\n",
        "df_class_and_klabels.loc[df_class_and_klabels['KLabels'] == 3, 'Pred_Class'] = 'KIRC'\n",
        "df_class_and_klabels.loc[df_class_and_klabels['KLabels'] == 4, 'Pred_Class'] = 'COAD'"
      ],
      "metadata": {
        "colab": {
          "base_uri": "https://localhost:8080/"
        },
        "id": "yQJk_PzTqFVc",
        "outputId": "c0d0bcce-57b5-44dc-92c9-136d168c8ead"
      },
      "execution_count": null,
      "outputs": [
        {
          "output_type": "stream",
          "name": "stderr",
          "text": [
            "/usr/local/lib/python3.7/dist-packages/pandas/core/indexing.py:1684: SettingWithCopyWarning: \n",
            "A value is trying to be set on a copy of a slice from a DataFrame.\n",
            "Try using .loc[row_indexer,col_indexer] = value instead\n",
            "\n",
            "See the caveats in the documentation: https://pandas.pydata.org/pandas-docs/stable/user_guide/indexing.html#returning-a-view-versus-a-copy\n",
            "  self.obj[key] = infer_fill_value(value)\n",
            "/usr/local/lib/python3.7/dist-packages/pandas/core/indexing.py:1817: SettingWithCopyWarning: \n",
            "A value is trying to be set on a copy of a slice from a DataFrame.\n",
            "Try using .loc[row_indexer,col_indexer] = value instead\n",
            "\n",
            "See the caveats in the documentation: https://pandas.pydata.org/pandas-docs/stable/user_guide/indexing.html#returning-a-view-versus-a-copy\n",
            "  self._setitem_single_column(loc, value, pi)\n"
          ]
        }
      ]
    },
    {
      "cell_type": "code",
      "source": [
        "cm = confusion_matrix(y_true=df_class_and_klabels['Class'], y_pred=df_class_and_klabels['Pred_Class'])\n",
        "sns.heatmap(cm, annot = True,  fmt = '.0f')"
      ],
      "metadata": {
        "colab": {
          "base_uri": "https://localhost:8080/",
          "height": 292
        },
        "id": "CHCBdHPOsczg",
        "outputId": "85bbd3a9-29de-470e-cff3-9e96dcba4fbd"
      },
      "execution_count": null,
      "outputs": [
        {
          "output_type": "execute_result",
          "data": {
            "text/plain": [
              "<matplotlib.axes._subplots.AxesSubplot at 0x7f65f448cb10>"
            ]
          },
          "metadata": {},
          "execution_count": 185
        },
        {
          "output_type": "display_data",
          "data": {
            "text/plain": [
              "<Figure size 432x288 with 2 Axes>"
            ],
            "image/png": "[encoded data removed]"
          },
          "metadata": {
            "needs_background": "light"
          }
        }
      ]
    },
    {
      "cell_type": "markdown",
      "source": [
        "We can see in the confusion matrix that the Kmeans clusters strongly correspond to the different types of Cancer. There are only a few cases where a few samples were put into a cluster that didn't correspond to the cancer it had."
      ],
      "metadata": {
        "id": "MLkzqAkfujPd"
      }
    },
    {
      "cell_type": "markdown",
      "source": [
        "## Week 4: Building Classification Model(s) with Feature Selection\n",
        "\n",
        "Our final task is to build a robust classification model(s) for identifying each type of cancer."
      ],
      "metadata": {
        "id": "uFT3UOwLw-bA"
      }
    },
    {
      "cell_type": "markdown",
      "source": [
        "### 1. Build a classification model(s) using multiclass SVM, Random Forest, and Deep Neural Network to classify the input data into five cancer types"
      ],
      "metadata": {
        "id": "gebnXx2vyT_D"
      }
    },
    {
      "cell_type": "code",
      "source": [
        "from sklearn.ensemble import RandomForestClassifier"
      ],
      "metadata": {
        "id": "CdM6IL_CzkMm"
      },
      "execution_count": null,
      "outputs": []
    },
    {
      "cell_type": "code",
      "source": [
        "rf_estimator = RandomForestClassifier(criterion='entropy')"
      ],
      "metadata": {
        "id": "Iad-UXapzu2h"
      },
      "execution_count": null,
      "outputs": []
    },
    {
      "cell_type": "code",
      "source": [
        "rf_estimator.fit(X_train,y_train)"
      ],
      "metadata": {
        "colab": {
          "base_uri": "https://localhost:8080/"
        },
        "id": "7Zc-6oAu1FMX",
        "outputId": "3fcef69c-e518-44de-8563-d8bf5e717af6"
      },
      "execution_count": null,
      "outputs": [
        {
          "output_type": "stream",
          "name": "stderr",
          "text": [
            "/usr/local/lib/python3.7/dist-packages/ipykernel_launcher.py:1: DataConversionWarning: A column-vector y was passed when a 1d array was expected. Please change the shape of y to (n_samples,), for example using ravel().\n",
            "  \"\"\"Entry point for launching an IPython kernel.\n"
          ]
        },
        {
          "output_type": "execute_result",
          "data": {
            "text/plain": [
              "RandomForestClassifier(criterion='entropy')"
            ]
          },
          "metadata": {},
          "execution_count": 188
        }
      ]
    },
    {
      "cell_type": "code",
      "source": [
        "y_pred = rf_estimator.predict(X_test)"
      ],
      "metadata": {
        "id": "Gay7Hu5M2LHN"
      },
      "execution_count": null,
      "outputs": []
    },
    {
      "cell_type": "code",
      "source": [
        "from sklearn.metrics import classification_report\n",
        "\n",
        "def metrics_score(actual, predicted):\n",
        "    print(classification_report(actual, predicted))\n",
        "    \n",
        "    cm = confusion_matrix(actual, predicted)\n",
        "    \n",
        "    plt.figure(figsize = (8, 5))\n",
        "    \n",
        "    sns.heatmap(cm, annot = True,  fmt = '.0f')\n",
        "    \n",
        "    plt.ylabel('Actual')\n",
        "    \n",
        "    plt.xlabel('Predicted')\n",
        "    \n",
        "    plt.show()"
      ],
      "metadata": {
        "id": "wPpZl07l2Sar"
      },
      "execution_count": null,
      "outputs": []
    },
    {
      "cell_type": "code",
      "source": [
        "metrics_score(y_test, y_pred)"
      ],
      "metadata": {
        "colab": {
          "base_uri": "https://localhost:8080/",
          "height": 482
        },
        "id": "wKQS6nmu2e3F",
        "outputId": "0a3d4e09-a3b2-4319-8608-53af9a101de6"
      },
      "execution_count": null,
      "outputs": [
        {
          "output_type": "stream",
          "name": "stdout",
          "text": [
            "              precision    recall  f1-score   support\n",
            "\n",
            "        BRCA       1.00      1.00      1.00        85\n",
            "        COAD       1.00      1.00      1.00        17\n",
            "        KIRC       1.00      1.00      1.00        34\n",
            "        LUAD       1.00      1.00      1.00        33\n",
            "        PRAD       1.00      1.00      1.00        32\n",
            "\n",
            "    accuracy                           1.00       201\n",
            "   macro avg       1.00      1.00      1.00       201\n",
            "weighted avg       1.00      1.00      1.00       201\n",
            "\n"
          ]
        },
        {
          "output_type": "display_data",
          "data": {
            "text/plain": [
              "<Figure size 576x360 with 2 Axes>"
            ],
            "image/png": "[encoded data removed]"
          },
          "metadata": {
            "needs_background": "light"
          }
        }
      ]
    },
    {
      "cell_type": "markdown",
      "source": [
        "This random forest classifier was able to classify the cancers with perfect accuracy. "
      ],
      "metadata": {
        "id": "_CVW7-Gz492e"
      }
    },
    {
      "cell_type": "code",
      "source": [
        "from sklearn import svm"
      ],
      "metadata": {
        "id": "-L5fPi905YkO"
      },
      "execution_count": null,
      "outputs": []
    },
    {
      "cell_type": "markdown",
      "source": [
        "### 2. Apply the feature selection algorithms, forward selection, and backward elimination to refine selected attributes (selected in Task-2) using the classification model from the previous step\n",
        "\n"
      ],
      "metadata": {
        "id": "OB10DWi_ypq0"
      }
    },
    {
      "cell_type": "code",
      "source": [
        "from sklearn.feature_selection import SelectFromModel\n"
      ],
      "metadata": {
        "id": "tn9gU0kv57WC"
      },
      "execution_count": null,
      "outputs": []
    },
    {
      "cell_type": "code",
      "source": [
        "embeded_rf_selector = SelectFromModel(rf_estimator)\n",
        "embeded_rf_selector.fit(X_train, y_train)\n",
        "\n",
        "embeded_rf_support = embeded_rf_selector.get_support()\n",
        "embeded_rf_feature = X.loc[:,embeded_rf_support].columns.tolist()\n",
        "print(str(len(embeded_rf_feature)), 'selected features')"
      ],
      "metadata": {
        "colab": {
          "base_uri": "https://localhost:8080/"
        },
        "id": "Y5Sg2h9T6Bu2",
        "outputId": "73663bb7-5cc2-4b42-f70b-656999b6d10a"
      },
      "execution_count": null,
      "outputs": [
        {
          "output_type": "stream",
          "name": "stderr",
          "text": [
            "/usr/local/lib/python3.7/dist-packages/sklearn/feature_selection/_from_model.py:267: DataConversionWarning: A column-vector y was passed when a 1d array was expected. Please change the shape of y to (n_samples,), for example using ravel().\n",
            "  self.estimator_.fit(X, y, **fit_params)\n"
          ]
        },
        {
          "output_type": "stream",
          "name": "stdout",
          "text": [
            "1176 selected features\n"
          ]
        }
      ]
    },
    {
      "cell_type": "code",
      "source": [
        "# print(embeded_rf_feature)"
      ],
      "metadata": {
        "id": "6FQC2NI8xAJ3"
      },
      "execution_count": null,
      "outputs": []
    },
    {
      "cell_type": "code",
      "source": [
        "f_i = list(zip(X_train, rf_estimator.feature_importances_))\n",
        "f_i.sort(key = lambda x : x[1])\n",
        "plt.barh([x[0] for x in f_i[-20:-1]],[x[1] for x in f_i[-20:-1]])\n",
        "\n",
        "plt.show()"
      ],
      "metadata": {
        "colab": {
          "base_uri": "https://localhost:8080/",
          "height": 215
        },
        "id": "wXbzEwB8xYnZ",
        "outputId": "d60a6d0e-ab4a-40d6-9f2f-0c113e8d1a4e"
      },
      "execution_count": null,
      "outputs": [
        {
          "output_type": "display_data",
          "data": {
            "text/plain": [
              "<Figure size 432x288 with 1 Axes>"
            ],
            "image/png": "[encoded data removed]"
          },
          "metadata": {
            "needs_background": "light"
          }
        }
      ]
    },
    {
      "cell_type": "markdown",
      "source": [
        "I identified ['gene_15898', 'gene_3540', 'gene_3541', 'gene_9175', 'gene_9176'] as the important features but they do not seem to appear in the top 20 genes. "
      ],
      "metadata": {
        "id": "h1u5FTCf0cm6"
      }
    },
    {
      "cell_type": "code",
      "source": [
        "\n",
        "# import sys\n",
        "# import joblib\n",
        "\n",
        "# sys.modules['sklearn.externals.joblib'] = joblib\n",
        "\n",
        "# from mlxtend.feature_selection import SequentialFeatureSelector as sfs\n",
        "\n",
        "# sfs1 = sfs(rf_estimator,\n",
        "#            k_features=100,\n",
        "#            forward=True,\n",
        "#            floating=False,\n",
        "#            verbose=0,\n",
        "#            scoring='accuracy',\n",
        "#            cv=5)\n",
        "\n",
        "# sfs1 = sfs1.fit(X_train,y_train)\n"
      ],
      "metadata": {
        "id": "zb6Z9fUAnTPe"
      },
      "execution_count": null,
      "outputs": []
    },
    {
      "cell_type": "markdown",
      "source": [
        "The code above ran for 30 mins without finishing."
      ],
      "metadata": {
        "id": "EkPml5AVwwwl"
      }
    },
    {
      "cell_type": "markdown",
      "source": [
        "### 3. Validate the genes selected from the last step using statistical significance testing (t-test for one vs. all and F-test)"
      ],
      "metadata": {
        "id": "77h5oTq9yvaI"
      }
    },
    {
      "cell_type": "code",
      "source": [
        "brca = df[df['Class']=='BRCA'][['gene_7896', 'gene_13210', 'gene_3737', 'gene_6836', 'gene_223']]\n",
        "coad = df[df['Class']=='COAD'][['gene_7896', 'gene_13210', 'gene_3737', 'gene_6836', 'gene_223']]\n",
        "kirc = df[df['Class']=='KIRC'][['gene_7896', 'gene_13210', 'gene_3737', 'gene_6836', 'gene_223']]\n",
        "luad = df[df['Class']=='LUAD'][['gene_7896', 'gene_13210', 'gene_3737', 'gene_6836', 'gene_223']]\n",
        "prad = df[df['Class']=='PRAD'][['gene_7896', 'gene_13210', 'gene_3737', 'gene_6836', 'gene_223']]"
      ],
      "metadata": {
        "id": "kgVlciT-zgEu"
      },
      "execution_count": null,
      "outputs": []
    },
    {
      "cell_type": "code",
      "source": [
        "stats.f_oneway(brca, coad, kirc, luad, prad)"
      ],
      "metadata": {
        "colab": {
          "base_uri": "https://localhost:8080/"
        },
        "id": "DxsOwlRP1Flw",
        "outputId": "eaeb8a07-a1fa-4ab6-a959-1df2cf72a8df"
      },
      "execution_count": null,
      "outputs": [
        {
          "output_type": "execute_result",
          "data": {
            "text/plain": [
              "F_onewayResult(statistic=array([1753.18349299, 1127.29147591, 2046.82713742,  652.53289919,\n",
              "        725.52646516]), pvalue=array([0.00000000e+000, 0.00000000e+000, 0.00000000e+000, 1.61830466e-249,\n",
              "       1.00839180e-263]))"
            ]
          },
          "metadata": {},
          "execution_count": 215
        }
      ]
    },
    {
      "cell_type": "markdown",
      "source": [
        "All of the genes identified in the feature selection step appear to have very low p-values indicating that they are statistically significant."
      ],
      "metadata": {
        "id": "kzJ1kE-61M4S"
      }
    }
  ]
}