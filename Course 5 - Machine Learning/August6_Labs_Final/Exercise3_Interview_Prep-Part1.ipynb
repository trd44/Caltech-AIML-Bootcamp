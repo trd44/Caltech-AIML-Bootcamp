{
 "cells": [
  {
   "cell_type": "markdown",
   "id": "6820b32c",
   "metadata": {},
   "source": [
    "**1.Common Prefix**\n",
    "\n",
    "Given a list of strings, write a function that returns their longest common prefix. For example, if you were given the strings “flowers”, “flow”, and “flight”, your function should return the string “fl”."
   ]
  },
  {
   "cell_type": "code",
   "execution_count": 249,
   "id": "85e42cdd",
   "metadata": {},
   "outputs": [],
   "source": [
    "def common_prefix(strings):\n",
    "\n",
    "    return \"\""
   ]
  },
  {
   "cell_type": "code",
   "execution_count": 135,
   "id": "b9586413",
   "metadata": {},
   "outputs": [],
   "source": [
    "strings1 = [\"flowers\", \"flow\", \"flight\"] \n",
    "strings2 = [\"showboat\", \"showcase\", \"shower\"]\n",
    "strings3 = [\"fourteen\", \"four\", \"fourth\", \"foul\", \"fourths\", \"forgotten\"]"
   ]
  },
  {
   "cell_type": "code",
   "execution_count": 136,
   "id": "8eb2151b",
   "metadata": {},
   "outputs": [
    {
     "name": "stdout",
     "output_type": "stream",
     "text": [
      "fl\n",
      "show\n",
      "fo\n"
     ]
    }
   ],
   "source": [
    "print(common_prefix(strings1))\n",
    "print(common_prefix(strings2))\n",
    "print(common_prefix(strings3))"
   ]
  },
  {
   "cell_type": "markdown",
   "id": "3c50d949",
   "metadata": {},
   "source": [
    "**2.Maximum Values**\n",
    "Given a dictionary, return the key value(s) of the maximum values. "
   ]
  },
  {
   "cell_type": "code",
   "execution_count": 152,
   "id": "49e56ab4",
   "metadata": {},
   "outputs": [],
   "source": [
    "def maxKeys(dictionary):\n",
    "    \n",
    "    return \"\""
   ]
  },
  {
   "cell_type": "code",
   "execution_count": 154,
   "id": "50bea1f3",
   "metadata": {},
   "outputs": [
    {
     "name": "stdout",
     "output_type": "stream",
     "text": [
      "['Jill']\n"
     ]
    }
   ],
   "source": [
    "ages = {\n",
    "    'Matt': 30,\n",
    "    'Katie': 40,\n",
    "    'Nik': 31,\n",
    "    'Jack': 40,\n",
    "    'Jill': 43,\n",
    "    'Alison': 32,\n",
    "    'Kevin': 33\n",
    "}\n",
    "\n",
    "print(maxKeys(ages))"
   ]
  },
  {
   "cell_type": "markdown",
   "id": "af249abd",
   "metadata": {},
   "source": [
    "**3. Split Name into FirstName and LastName (two new columns) and delete the Name column**"
   ]
  },
  {
   "cell_type": "code",
   "execution_count": 160,
   "id": "edb33367",
   "metadata": {},
   "outputs": [],
   "source": [
    "import pandas as pd\n",
    "students = {\"name\" : [\"Tim Voss\", \"Nicole Johnson\", \"Elsa Williams\", \"John James\", \"Catherine Jones\"], \"age\" : [19, 20, 21, 20, 23], \"favorite_color\" : [\"red\", \"yellow\", \"green\", \"blue\", \"green\"], \"grade\" : [91, 95, 82, 75, 93]}\n",
    "\n",
    "students_df = pd.DataFrame(students)"
   ]
  },
  {
   "cell_type": "code",
   "execution_count": 161,
   "id": "9e423ba6",
   "metadata": {},
   "outputs": [
    {
     "data": {
      "text/html": [
       "<div>\n",
       "<style scoped>\n",
       "    .dataframe tbody tr th:only-of-type {\n",
       "        vertical-align: middle;\n",
       "    }\n",
       "\n",
       "    .dataframe tbody tr th {\n",
       "        vertical-align: top;\n",
       "    }\n",
       "\n",
       "    .dataframe thead th {\n",
       "        text-align: right;\n",
       "    }\n",
       "</style>\n",
       "<table border=\"1\" class=\"dataframe\">\n",
       "  <thead>\n",
       "    <tr style=\"text-align: right;\">\n",
       "      <th></th>\n",
       "      <th>name</th>\n",
       "      <th>age</th>\n",
       "      <th>favorite_color</th>\n",
       "      <th>grade</th>\n",
       "    </tr>\n",
       "  </thead>\n",
       "  <tbody>\n",
       "    <tr>\n",
       "      <th>0</th>\n",
       "      <td>Tim Voss</td>\n",
       "      <td>19</td>\n",
       "      <td>red</td>\n",
       "      <td>91</td>\n",
       "    </tr>\n",
       "    <tr>\n",
       "      <th>1</th>\n",
       "      <td>Nicole Johnson</td>\n",
       "      <td>20</td>\n",
       "      <td>yellow</td>\n",
       "      <td>95</td>\n",
       "    </tr>\n",
       "    <tr>\n",
       "      <th>2</th>\n",
       "      <td>Elsa Williams</td>\n",
       "      <td>21</td>\n",
       "      <td>green</td>\n",
       "      <td>82</td>\n",
       "    </tr>\n",
       "    <tr>\n",
       "      <th>3</th>\n",
       "      <td>John James</td>\n",
       "      <td>20</td>\n",
       "      <td>blue</td>\n",
       "      <td>75</td>\n",
       "    </tr>\n",
       "    <tr>\n",
       "      <th>4</th>\n",
       "      <td>Catherine Jones</td>\n",
       "      <td>23</td>\n",
       "      <td>green</td>\n",
       "      <td>93</td>\n",
       "    </tr>\n",
       "  </tbody>\n",
       "</table>\n",
       "</div>"
      ],
      "text/plain": [
       "              name  age favorite_color  grade\n",
       "0         Tim Voss   19            red     91\n",
       "1   Nicole Johnson   20         yellow     95\n",
       "2    Elsa Williams   21          green     82\n",
       "3       John James   20           blue     75\n",
       "4  Catherine Jones   23          green     93"
      ]
     },
     "execution_count": 161,
     "metadata": {},
     "output_type": "execute_result"
    }
   ],
   "source": [
    "students_df"
   ]
  },
  {
   "cell_type": "code",
   "execution_count": 316,
   "id": "aa5eb4eb",
   "metadata": {},
   "outputs": [
    {
     "data": {
      "text/html": [
       "<div>\n",
       "<style scoped>\n",
       "    .dataframe tbody tr th:only-of-type {\n",
       "        vertical-align: middle;\n",
       "    }\n",
       "\n",
       "    .dataframe tbody tr th {\n",
       "        vertical-align: top;\n",
       "    }\n",
       "\n",
       "    .dataframe thead th {\n",
       "        text-align: right;\n",
       "    }\n",
       "</style>\n",
       "<table border=\"1\" class=\"dataframe\">\n",
       "  <thead>\n",
       "    <tr style=\"text-align: right;\">\n",
       "      <th></th>\n",
       "      <th>age</th>\n",
       "      <th>favorite_color</th>\n",
       "      <th>grade</th>\n",
       "      <th>FirstName</th>\n",
       "      <th>LastName</th>\n",
       "    </tr>\n",
       "  </thead>\n",
       "  <tbody>\n",
       "    <tr>\n",
       "      <th>0</th>\n",
       "      <td>19</td>\n",
       "      <td>red</td>\n",
       "      <td>91</td>\n",
       "      <td>Tim</td>\n",
       "      <td>Voss</td>\n",
       "    </tr>\n",
       "    <tr>\n",
       "      <th>1</th>\n",
       "      <td>20</td>\n",
       "      <td>yellow</td>\n",
       "      <td>95</td>\n",
       "      <td>Nicole</td>\n",
       "      <td>Johnson</td>\n",
       "    </tr>\n",
       "    <tr>\n",
       "      <th>2</th>\n",
       "      <td>21</td>\n",
       "      <td>green</td>\n",
       "      <td>82</td>\n",
       "      <td>Elsa</td>\n",
       "      <td>Williams</td>\n",
       "    </tr>\n",
       "    <tr>\n",
       "      <th>3</th>\n",
       "      <td>20</td>\n",
       "      <td>blue</td>\n",
       "      <td>75</td>\n",
       "      <td>John</td>\n",
       "      <td>James</td>\n",
       "    </tr>\n",
       "    <tr>\n",
       "      <th>4</th>\n",
       "      <td>23</td>\n",
       "      <td>green</td>\n",
       "      <td>93</td>\n",
       "      <td>Catherine</td>\n",
       "      <td>Jones</td>\n",
       "    </tr>\n",
       "  </tbody>\n",
       "</table>\n",
       "</div>"
      ],
      "text/plain": [
       "   age favorite_color  grade  FirstName  LastName\n",
       "0   19            red     91        Tim      Voss\n",
       "1   20         yellow     95     Nicole   Johnson\n",
       "2   21          green     82       Elsa  Williams\n",
       "3   20           blue     75       John     James\n",
       "4   23          green     93  Catherine     Jones"
      ]
     },
     "execution_count": 316,
     "metadata": {},
     "output_type": "execute_result"
    }
   ],
   "source": [
    "#enter your code here\n"
   ]
  },
  {
   "cell_type": "markdown",
   "id": "a7a72d94",
   "metadata": {},
   "source": [
    "**4. Find Mismatched Words**\n",
    "\n",
    "You are given two sentences as strings. Create a function that returns a list of all words that are not in both sentences."
   ]
  },
  {
   "cell_type": "code",
   "execution_count": 251,
   "id": "71cb29bf",
   "metadata": {},
   "outputs": [],
   "source": [
    "string1 = \"I want to eat fish today with my friends game\"\n",
    "string2 = \"All I want is to eat fish today well with my friends game\""
   ]
  },
  {
   "cell_type": "code",
   "execution_count": 254,
   "id": "57ae6bc7",
   "metadata": {},
   "outputs": [],
   "source": [
    "def mismatched_words(string1, string2):\n",
    "    #write your function here\n",
    "    return \"\""
   ]
  },
  {
   "cell_type": "code",
   "execution_count": 253,
   "id": "9acb34d9",
   "metadata": {},
   "outputs": [
    {
     "data": {
      "text/plain": [
       "['All', 'is', 'well']"
      ]
     },
     "execution_count": 253,
     "metadata": {},
     "output_type": "execute_result"
    }
   ],
   "source": [
    "mismatched_words(string1,string2)"
   ]
  },
  {
   "cell_type": "markdown",
   "id": "5818dcdf",
   "metadata": {},
   "source": [
    "**5. Fill None Values**\n",
    "\n",
    "Given a sorted list of positive integers with some entries being None, create a function to return a new list where all None values are replaced with the most recent non-None value in the list.\n",
    "\n",
    "Note: If the first entry in the list is None, assume the previous entry was 0."
   ]
  },
  {
   "cell_type": "code",
   "execution_count": 256,
   "id": "e5b3fcc4",
   "metadata": {},
   "outputs": [],
   "source": [
    "def fill_none(input_list):\n",
    "    \n",
    "    return \"\""
   ]
  },
  {
   "cell_type": "code",
   "execution_count": 255,
   "id": "8a7b1251",
   "metadata": {},
   "outputs": [
    {
     "data": {
      "text/plain": [
       "[1, 2, 2, 2, 4, 5, 5]"
      ]
     },
     "execution_count": 255,
     "metadata": {},
     "output_type": "execute_result"
    }
   ],
   "source": [
    "input_list = [1,2,None,None,4,5,None]\n",
    "fill_none(input_list)"
   ]
  },
  {
   "cell_type": "markdown",
   "id": "1fcc2938",
   "metadata": {},
   "source": [
    "**6. Two Sum**\n",
    "\n",
    "Given an array of integers nums and an integer target, return indices of the two numbers such that they add up to target.\n",
    "\n",
    "You may assume that each input would have exactly one solution, and you may not use the same element twice.\n"
   ]
  },
  {
   "cell_type": "code",
   "execution_count": 257,
   "id": "3af4228c",
   "metadata": {},
   "outputs": [],
   "source": [
    "def twoSum(nums, target):\n",
    "    \n",
    "    return \"\""
   ]
  },
  {
   "cell_type": "code",
   "execution_count": 168,
   "id": "f624f448",
   "metadata": {},
   "outputs": [
    {
     "data": {
      "text/plain": [
       "[0, 4]"
      ]
     },
     "execution_count": 168,
     "metadata": {},
     "output_type": "execute_result"
    }
   ],
   "source": [
    "nums = [2,5,11,15,7]\n",
    "target = 9\n",
    "twoSum(nums, target)"
   ]
  },
  {
   "cell_type": "code",
   "execution_count": 169,
   "id": "9f1f41b5",
   "metadata": {},
   "outputs": [
    {
     "data": {
      "text/plain": [
       "[1, 2]"
      ]
     },
     "execution_count": 169,
     "metadata": {},
     "output_type": "execute_result"
    }
   ],
   "source": [
    "nums = [3,2,4]\n",
    "target = 6\n",
    "twoSum(nums, target)"
   ]
  },
  {
   "cell_type": "markdown",
   "id": "310cdde0",
   "metadata": {},
   "source": [
    "**7. New Resumes**\n",
    "\n",
    "You have a list of employee ids. Your web folder has a list of resumes some old (exisiting emoployees), some new (new applicants)"
   ]
  },
  {
   "cell_type": "code",
   "execution_count": 281,
   "id": "8a0d2215",
   "metadata": {},
   "outputs": [],
   "source": [
    "def new_resumes(ids,names,resumes):\n",
    "\n",
    "    return \"\""
   ]
  },
  {
   "cell_type": "code",
   "execution_count": 282,
   "id": "055eba4c",
   "metadata": {},
   "outputs": [],
   "source": [
    "employee_ids = [15234, 20485, 34536, 95342, 94857]\n",
    "\n",
    "names = ['Mark', 'Jackson', 'Suzan', 'Kelly']\n",
    "resumes = [\n",
    "    'employees/resume/15234', \n",
    "    'employees/resume/23645', \n",
    "    'employees/resume/64337', \n",
    "    'employees/resume/34536',\n",
    "]"
   ]
  },
  {
   "cell_type": "code",
   "execution_count": 267,
   "id": "efea8908",
   "metadata": {},
   "outputs": [
    {
     "data": {
      "text/plain": [
       "[('Jackson', 23645), ('Suzan', 64337)]"
      ]
     },
     "execution_count": 267,
     "metadata": {},
     "output_type": "execute_result"
    }
   ],
   "source": [
    "new_resumes(existing_ids,names,urls)"
   ]
  },
  {
   "cell_type": "markdown",
   "id": "021ffe94",
   "metadata": {},
   "source": [
    "**8. Most Tips**\n",
    "\n",
    "Given a list of ids of customers and list of tips of these customers, find the customer ID with highest tip"
   ]
  },
  {
   "cell_type": "code",
   "execution_count": 295,
   "id": "d6866055",
   "metadata": {},
   "outputs": [],
   "source": [
    "user_ids = [103, 105, 105, 107, 106, 103, 102, 108, 107, 103, 102]\n",
    "tips = [2, 5, 1, 0, 2, 1, 1, 0, 0, 20, 2]"
   ]
  },
  {
   "cell_type": "code",
   "execution_count": 297,
   "id": "282dd133",
   "metadata": {},
   "outputs": [],
   "source": [
    "import collections\n",
    "\n",
    "def most_tips(user_ids,tips):\n",
    "\n",
    "    return \"\""
   ]
  },
  {
   "cell_type": "code",
   "execution_count": 181,
   "id": "655a7d7f",
   "metadata": {},
   "outputs": [
    {
     "data": {
      "text/plain": [
       "103"
      ]
     },
     "execution_count": 181,
     "metadata": {},
     "output_type": "execute_result"
    }
   ],
   "source": [
    "most_tips(user_ids,tips)"
   ]
  },
  {
   "cell_type": "markdown",
   "id": "f0158665",
   "metadata": {},
   "source": [
    "**9. Encode a Message**\n",
    "\n",
    "Given a code made up of a reperated letters, encode it into each uniqe letter and num of times it is repeated (treat upper and lower case as different values)"
   ]
  },
  {
   "cell_type": "code",
   "execution_count": 300,
   "id": "08ceeda5",
   "metadata": {},
   "outputs": [],
   "source": [
    "import collections \n",
    "def compress2(text):\n",
    "    \n",
    "    return \"\""
   ]
  },
  {
   "cell_type": "code",
   "execution_count": 299,
   "id": "12480426",
   "metadata": {},
   "outputs": [
    {
     "data": {
      "text/plain": [
       "'A5B4C5D2E4a2'"
      ]
     },
     "execution_count": 299,
     "metadata": {},
     "output_type": "execute_result"
    }
   ],
   "source": [
    "compress2(\"AAAABBBBCCCCCDDEEEEaaA\")"
   ]
  }
 ],
 "metadata": {
  "kernelspec": {
   "display_name": "Python 3 (ipykernel)",
   "language": "python",
   "name": "python3"
  },
  "language_info": {
   "codemirror_mode": {
    "name": "ipython",
    "version": 3
   },
   "file_extension": ".py",
   "mimetype": "text/x-python",
   "name": "python",
   "nbconvert_exporter": "python",
   "pygments_lexer": "ipython3",
   "version": "3.8.5"
  }
 },
 "nbformat": 4,
 "nbformat_minor": 5
}
