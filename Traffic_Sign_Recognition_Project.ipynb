{
  "nbformat": 4,
  "nbformat_minor": 0,
  "metadata": {
    "colab": {
      "provenance": [],
      "mount_file_id": "1FxHfzDWd5Lk2rQtvamruun7vhBqExkUY",
      "authorship_tag": "ABX9TyNbxqpbHbgP99aAAjIOGEQT",
      "include_colab_link": true
    },
    "kernelspec": {
      "name": "python3",
      "display_name": "Python 3"
    },
    "language_info": {
      "name": "python"
    },
    "accelerator": "GPU",
    "gpuClass": "standard"
  },
  "cells": [
    {
      "cell_type": "markdown",
      "metadata": {
        "id": "view-in-github",
        "colab_type": "text"
      },
      "source": [
        "<a href=\"https://colab.research.google.com/github/trd44/Caltech-AIML-Bootcamp/blob/main/Traffic_Sign_Recognition_Project.ipynb\" target=\"_parent\"><img src=\"https://colab.research.google.com/assets/colab-badge.svg\" alt=\"Open In Colab\"/></a>"
      ]
    },
    {
      "cell_type": "markdown",
      "source": [
        "# Traffic Signs Recognition Project\n",
        "## Caltech AIML - Deep Learing with Tensorflow and Keras"
      ],
      "metadata": {
        "id": "kAB-P8dZWu1i"
      }
    },
    {
      "cell_type": "code",
      "execution_count": null,
      "metadata": {
        "id": "orABJveNLGcp"
      },
      "outputs": [],
      "source": [
        "# Mounting the drive\n",
        "from google.colab import drive\n",
        "\n",
        "drive.mount('/content/drive')"
      ]
    },
    {
      "cell_type": "markdown",
      "source": [
        "##Importing The Required Libraries"
      ],
      "metadata": {
        "id": "lWJhxZh7YHj5"
      }
    },
    {
      "cell_type": "code",
      "source": [
        "import numpy as np\n",
        "import os\n",
        "import pandas as pd\n",
        "from PIL import Image\n",
        "import tensorflow as tf\n",
        "import zipfile"
      ],
      "metadata": {
        "id": "-XTT1XW-Qdta"
      },
      "execution_count": null,
      "outputs": []
    },
    {
      "cell_type": "markdown",
      "source": [
        "## Finding the proper Directories"
      ],
      "metadata": {
        "id": "1x7LDIr3Ypuh"
      }
    },
    {
      "cell_type": "code",
      "source": [
        "path = '/content/drive/MyDrive/Dataset_Traffic_Signs_Recognition.zip'\n",
        "\n",
        "with zipfile.ZipFile(path, 'r') as zip:\n",
        "  zip.extractall()"
      ],
      "metadata": {
        "id": "QF05j_bUhFSE"
      },
      "execution_count": null,
      "outputs": []
    },
    {
      "cell_type": "code",
      "source": [
        "train_dir = '/content/data/Train/'\n",
        "test_dir = '/content/data/Test/'"
      ],
      "metadata": {
        "id": "YSR_7ZEfhmo1"
      },
      "execution_count": null,
      "outputs": []
    },
    {
      "cell_type": "markdown",
      "source": [
        "## Read the images in the train folder and resize them to 30x30. Also, creating NumPy Arrays from the resized images and making grayscale versions of the images."
      ],
      "metadata": {
        "id": "5BdczC1LYwWN"
      }
    },
    {
      "cell_type": "code",
      "source": [
        "color_img_arr = []\n",
        "grayscale_img_arr = []\n",
        "train_labels = []"
      ],
      "metadata": {
        "id": "yS1b5qwfm0At"
      },
      "execution_count": null,
      "outputs": []
    },
    {
      "cell_type": "code",
      "source": [
        "IMAGE_SIZE = 30"
      ],
      "metadata": {
        "id": "tmXH86Ugon2i"
      },
      "execution_count": null,
      "outputs": []
    },
    {
      "cell_type": "code",
      "source": [
        "folders = os.listdir(train_dir)\n",
        "for folder_name in folders:\n",
        "  images_path = os.listdir(train_dir + folder_name +\"/\")\n",
        "  for i, image_name in enumerate(images_path):\n",
        "    image = Image.open(train_dir + folder_name +\"/\" + image_name)\n",
        "    image = image.resize((IMAGE_SIZE,IMAGE_SIZE))\n",
        "    color_img_arr.append(np.array(image))\n",
        "    grey_image = image.convert('L')\n",
        "    grayscale_img_arr.append(np.array(grey_image))\n",
        "    train_labels.append(folder_name)\n",
        "\n",
        "\n",
        "color_img_arr = np.array(color_img_arr)\n",
        "grayscale_img_arr = np.array(grayscale_img_arr)\n",
        "train_labels = np.array(train_labels)"
      ],
      "metadata": {
        "id": "BsVuxUkYnSVn"
      },
      "execution_count": null,
      "outputs": []
    },
    {
      "cell_type": "code",
      "source": [
        "print(color_img_arr.shape)\n",
        "print(grayscale_img_arr.shape)\n",
        "print(train_labels.shape)"
      ],
      "metadata": {
        "colab": {
          "base_uri": "https://localhost:8080/"
        },
        "id": "19piIO0woxrc",
        "outputId": "2ee76b56-085d-466d-9ac0-93978c58bba2"
      },
      "execution_count": null,
      "outputs": [
        {
          "output_type": "stream",
          "name": "stdout",
          "text": [
            "(39209, 30, 30, 3)\n",
            "(39209, 30, 30)\n",
            "(39209,)\n"
          ]
        }
      ]
    },
    {
      "cell_type": "markdown",
      "source": [
        "## Reading in the test images, resizing them, and adding them to a new numpy array"
      ],
      "metadata": {
        "id": "fzevp2AqaJXV"
      }
    },
    {
      "cell_type": "code",
      "source": [
        "test_labels_raw = pd.read_excel(\"/content/drive/MyDrive/Test_data_label.xlsx\")"
      ],
      "metadata": {
        "id": "q-5cy4T0RYvf"
      },
      "execution_count": null,
      "outputs": []
    },
    {
      "cell_type": "code",
      "source": [
        "test_labels_raw.head()"
      ],
      "metadata": {
        "colab": {
          "base_uri": "https://localhost:8080/",
          "height": 206
        },
        "id": "GBCubYDvUBdh",
        "outputId": "3dc50b68-263b-4dbd-df03-df6171b144b5"
      },
      "execution_count": null,
      "outputs": [
        {
          "output_type": "execute_result",
          "data": {
            "text/plain": [
              "   ClassId            Path\n",
              "0       16  Test/00000.png\n",
              "1        1  Test/00001.png\n",
              "2       38  Test/00002.png\n",
              "3       33  Test/00003.png\n",
              "4       11  Test/00004.png"
            ],
            "text/html": [
              "\n",
              "  <div id=\"df-8f3f636a-a486-4e35-8187-5eecb9476a4b\">\n",
              "    <div class=\"colab-df-container\">\n",
              "      <div>\n",
              "<style scoped>\n",
              "    .dataframe tbody tr th:only-of-type {\n",
              "        vertical-align: middle;\n",
              "    }\n",
              "\n",
              "    .dataframe tbody tr th {\n",
              "        vertical-align: top;\n",
              "    }\n",
              "\n",
              "    .dataframe thead th {\n",
              "        text-align: right;\n",
              "    }\n",
              "</style>\n",
              "<table border=\"1\" class=\"dataframe\">\n",
              "  <thead>\n",
              "    <tr style=\"text-align: right;\">\n",
              "      <th></th>\n",
              "      <th>ClassId</th>\n",
              "      <th>Path</th>\n",
              "    </tr>\n",
              "  </thead>\n",
              "  <tbody>\n",
              "    <tr>\n",
              "      <th>0</th>\n",
              "      <td>16</td>\n",
              "      <td>Test/00000.png</td>\n",
              "    </tr>\n",
              "    <tr>\n",
              "      <th>1</th>\n",
              "      <td>1</td>\n",
              "      <td>Test/00001.png</td>\n",
              "    </tr>\n",
              "    <tr>\n",
              "      <th>2</th>\n",
              "      <td>38</td>\n",
              "      <td>Test/00002.png</td>\n",
              "    </tr>\n",
              "    <tr>\n",
              "      <th>3</th>\n",
              "      <td>33</td>\n",
              "      <td>Test/00003.png</td>\n",
              "    </tr>\n",
              "    <tr>\n",
              "      <th>4</th>\n",
              "      <td>11</td>\n",
              "      <td>Test/00004.png</td>\n",
              "    </tr>\n",
              "  </tbody>\n",
              "</table>\n",
              "</div>\n",
              "      <button class=\"colab-df-convert\" onclick=\"convertToInteractive('df-8f3f636a-a486-4e35-8187-5eecb9476a4b')\"\n",
              "              title=\"Convert this dataframe to an interactive table.\"\n",
              "              style=\"display:none;\">\n",
              "        \n",
              "  <svg xmlns=\"http://www.w3.org/2000/svg\" height=\"24px\"viewBox=\"0 0 24 24\"\n",
              "       width=\"24px\">\n",
              "    <path d=\"M0 0h24v24H0V0z\" fill=\"none\"/>\n",
              "    <path d=\"M18.56 5.44l.94 2.06.94-2.06 2.06-.94-2.06-.94-.94-2.06-.94 2.06-2.06.94zm-11 1L8.5 8.5l.94-2.06 2.06-.94-2.06-.94L8.5 2.5l-.94 2.06-2.06.94zm10 10l.94 2.06.94-2.06 2.06-.94-2.06-.94-.94-2.06-.94 2.06-2.06.94z\"/><path d=\"M17.41 7.96l-1.37-1.37c-.4-.4-.92-.59-1.43-.59-.52 0-1.04.2-1.43.59L10.3 9.45l-7.72 7.72c-.78.78-.78 2.05 0 2.83L4 21.41c.39.39.9.59 1.41.59.51 0 1.02-.2 1.41-.59l7.78-7.78 2.81-2.81c.8-.78.8-2.07 0-2.86zM5.41 20L4 18.59l7.72-7.72 1.47 1.35L5.41 20z\"/>\n",
              "  </svg>\n",
              "      </button>\n",
              "      \n",
              "  <style>\n",
              "    .colab-df-container {\n",
              "      display:flex;\n",
              "      flex-wrap:wrap;\n",
              "      gap: 12px;\n",
              "    }\n",
              "\n",
              "    .colab-df-convert {\n",
              "      background-color: #E8F0FE;\n",
              "      border: none;\n",
              "      border-radius: 50%;\n",
              "      cursor: pointer;\n",
              "      display: none;\n",
              "      fill: #1967D2;\n",
              "      height: 32px;\n",
              "      padding: 0 0 0 0;\n",
              "      width: 32px;\n",
              "    }\n",
              "\n",
              "    .colab-df-convert:hover {\n",
              "      background-color: #E2EBFA;\n",
              "      box-shadow: 0px 1px 2px rgba(60, 64, 67, 0.3), 0px 1px 3px 1px rgba(60, 64, 67, 0.15);\n",
              "      fill: #174EA6;\n",
              "    }\n",
              "\n",
              "    [theme=dark] .colab-df-convert {\n",
              "      background-color: #3B4455;\n",
              "      fill: #D2E3FC;\n",
              "    }\n",
              "\n",
              "    [theme=dark] .colab-df-convert:hover {\n",
              "      background-color: #434B5C;\n",
              "      box-shadow: 0px 1px 3px 1px rgba(0, 0, 0, 0.15);\n",
              "      filter: drop-shadow(0px 1px 2px rgba(0, 0, 0, 0.3));\n",
              "      fill: #FFFFFF;\n",
              "    }\n",
              "  </style>\n",
              "\n",
              "      <script>\n",
              "        const buttonEl =\n",
              "          document.querySelector('#df-8f3f636a-a486-4e35-8187-5eecb9476a4b button.colab-df-convert');\n",
              "        buttonEl.style.display =\n",
              "          google.colab.kernel.accessAllowed ? 'block' : 'none';\n",
              "\n",
              "        async function convertToInteractive(key) {\n",
              "          const element = document.querySelector('#df-8f3f636a-a486-4e35-8187-5eecb9476a4b');\n",
              "          const dataTable =\n",
              "            await google.colab.kernel.invokeFunction('convertToInteractive',\n",
              "                                                     [key], {});\n",
              "          if (!dataTable) return;\n",
              "\n",
              "          const docLinkHtml = 'Like what you see? Visit the ' +\n",
              "            '<a target=\"_blank\" href=https://colab.research.google.com/notebooks/data_table.ipynb>data table notebook</a>'\n",
              "            + ' to learn more about interactive tables.';\n",
              "          element.innerHTML = '';\n",
              "          dataTable['output_type'] = 'display_data';\n",
              "          await google.colab.output.renderOutput(dataTable, element);\n",
              "          const docLink = document.createElement('div');\n",
              "          docLink.innerHTML = docLinkHtml;\n",
              "          element.appendChild(docLink);\n",
              "        }\n",
              "      </script>\n",
              "    </div>\n",
              "  </div>\n",
              "  "
            ]
          },
          "metadata": {},
          "execution_count": 10
        }
      ]
    },
    {
      "cell_type": "code",
      "source": [
        "test_images = []\n",
        "gray_test_images = []\n",
        "test_labels = []"
      ],
      "metadata": {
        "id": "z-M9Rr_-SeEr"
      },
      "execution_count": null,
      "outputs": []
    },
    {
      "cell_type": "code",
      "source": [
        "for i, image_name in enumerate(os.listdir(test_dir)):\n",
        "  try: \n",
        "    image = Image.open(test_dir + image_name)\n",
        "    image = image.resize((IMAGE_SIZE,IMAGE_SIZE))\n",
        "    test_images.append(np.array(image))\n",
        "    label = test_labels_raw.loc[test_labels_raw['Path'] == \"Test/\"+image_name]\n",
        "    gray_image = image.convert('L')\n",
        "    gray_test_images.append(np.array(gray_image))\n",
        "    test_labels.append(label.iloc[0]['ClassId'])\n",
        "\n",
        "  except Exception:\n",
        "    print(Exception)\n",
        "\n",
        "test_images = np.array(test_images)\n",
        "gray_test_images = np.array(gray_test_images)\n",
        "test_labels = np.array(test_labels)"
      ],
      "metadata": {
        "colab": {
          "base_uri": "https://localhost:8080/"
        },
        "id": "-T-uUzUQSUY8",
        "outputId": "ebd3453d-40db-4caa-9de6-ded0e79de1c0"
      },
      "execution_count": null,
      "outputs": [
        {
          "output_type": "stream",
          "name": "stdout",
          "text": [
            "<class 'Exception'>\n"
          ]
        }
      ]
    },
    {
      "cell_type": "code",
      "source": [
        "test_labels.shape"
      ],
      "metadata": {
        "colab": {
          "base_uri": "https://localhost:8080/"
        },
        "id": "xD3oqrCCUieb",
        "outputId": "7da8dae7-6945-4aa6-bcc7-81230ffec4af"
      },
      "execution_count": null,
      "outputs": [
        {
          "output_type": "execute_result",
          "data": {
            "text/plain": [
              "(12630,)"
            ]
          },
          "metadata": {},
          "execution_count": 13
        }
      ]
    },
    {
      "cell_type": "markdown",
      "source": [
        "## Plot the bar chart of classes from the train and test data by replacing the numbers with actual class names in the graph"
      ],
      "metadata": {
        "id": "ilDIvXLQCfVd"
      }
    },
    {
      "cell_type": "code",
      "source": [
        "train_labels_df = pd.DataFrame({'Labels': train_labels})\n",
        "train_labels_df['Labels'] = train_labels_df['Labels'].astype(str).astype(int)\n",
        "train_labels_df.info()"
      ],
      "metadata": {
        "colab": {
          "base_uri": "https://localhost:8080/"
        },
        "id": "4udXTME0Vdvz",
        "outputId": "8ce3ad38-ed53-4862-9628-adfddc7178e3"
      },
      "execution_count": null,
      "outputs": [
        {
          "output_type": "stream",
          "name": "stdout",
          "text": [
            "<class 'pandas.core.frame.DataFrame'>\n",
            "RangeIndex: 39209 entries, 0 to 39208\n",
            "Data columns (total 1 columns):\n",
            " #   Column  Non-Null Count  Dtype\n",
            "---  ------  --------------  -----\n",
            " 0   Labels  39209 non-null  int64\n",
            "dtypes: int64(1)\n",
            "memory usage: 306.4 KB\n"
          ]
        }
      ]
    },
    {
      "cell_type": "code",
      "source": [
        "def label_text (row):\n",
        "  if row['Labels'] == 0:\n",
        "    return \"Speed limit (20km/h)\"\n",
        "  elif row['Labels'] == 1:\n",
        "    return \"Speed limit (30km/h)\"\n",
        "  elif row['Labels'] == 2:\n",
        "    return \"Speed limit (50km/h)\"\n",
        "  elif row['Labels'] == 3:\n",
        "    return \"Speed limit (60km/h)\"\n",
        "  elif row['Labels'] == 4:\n",
        "    return \"Speed limit (70km/h)\"\n",
        "  elif row['Labels'] == 5:\n",
        "    return \"Speed limit (80km/h)\"\n",
        "  elif row['Labels'] == 6:\n",
        "    return \"End of speed limit (80km/h)\"\n",
        "  elif row['Labels'] == 7:\n",
        "    return \"Speed limit (100km/h)\"\n",
        "  elif row['Labels'] == 8:\n",
        "    return \"Speed limit (120km/h)\"\n",
        "  elif row['Labels'] == 9:\n",
        "    return \"No Passing\"\n",
        "  elif row['Labels'] == 10:\n",
        "    return \"No passing vehicle over 3.5 tons\"\n",
        "  elif row['Labels'] == 11:\n",
        "    return \"Right-of-way at the intersection\"\n",
        "  elif row['Labels'] == 12:\n",
        "    return \"Priority road\"\n",
        "  elif row['Labels'] == 13:\n",
        "    return \"Yield\"\n",
        "  elif row['Labels'] == 14:\n",
        "    return \"Stop\"\n",
        "  elif row['Labels'] == 15:\n",
        "    return \"No vehicles\"\n",
        "  elif row['Labels'] == 16:\n",
        "    return \"Vehicle > 3.5 tons prohibited\"\n",
        "  elif row['Labels'] == 17:\n",
        "    return \"No entry\"\n",
        "  elif row['Labels'] == 18:\n",
        "    return \"General caution\"\n",
        "  elif row['Labels'] == 19:\n",
        "    return \"Dangerous curve left\"\n",
        "  elif row['Labels'] == 20:\n",
        "    return \"Dangerous curve right\"\n",
        "  elif row['Labels'] == 21:\n",
        "    return \"Double curve\"\n",
        "  elif row['Labels'] == 22:\n",
        "    return \"Bumpy road\"\n",
        "  elif row['Labels'] == 23:\n",
        "    return \"Slippery road\"\n",
        "  elif row['Labels'] == 24:\n",
        "    return \"Road narrows on the right\"\n",
        "  elif row['Labels'] == 25:\n",
        "    return \"Road work\"\n",
        "  elif row['Labels'] == 26:\n",
        "    return \"Traffic signals\"\n",
        "  elif row['Labels'] == 27:\n",
        "    return \"Pedestrians\"\n",
        "  elif row['Labels'] == 28:\n",
        "    return \"Children crossing\"\n",
        "  elif row['Labels'] == 29:\n",
        "    return \"Bicycles crossing\"\n",
        "  elif row['Labels'] == 30:\n",
        "    return \"Beware of ice/snow\"\n",
        "  elif row['Labels'] == 31:\n",
        "    return \"Wild animals crossing\"\n",
        "  elif row['Labels'] == 32:\n",
        "    return \"End speed + passing limits\"\n",
        "  elif row['Labels'] == 33:\n",
        "    return \"Turn right ahead\"\n",
        "  elif row['Labels'] == 34:\n",
        "    return \"Turn left ahead\"\n",
        "  elif row['Labels'] == 35:\n",
        "    return \"Ahead only\"\n",
        "  elif row['Labels'] == 36:\n",
        "    return \"Go straight or right\"\n",
        "  elif row['Labels'] == 37:\n",
        "    return \"Go straight or left\"\n",
        "  elif row['Labels'] == 38:\n",
        "    return \"Keep right\"\n",
        "  elif row['Labels'] == 39:\n",
        "    return \"Keep left\"\n",
        "  elif row['Labels'] == 40:\n",
        "    return \"Roundabout mandatory\"\n",
        "  elif row['Labels'] == 41:\n",
        "    return \"End of now passing\"\n",
        "  elif row['Labels'] == 42:\n",
        "    return \"End no passing vehicle > 3.5 tons\"\n",
        "  "
      ],
      "metadata": {
        "id": "mCTc8-l13WxI"
      },
      "execution_count": null,
      "outputs": []
    },
    {
      "cell_type": "code",
      "source": [
        "train_labels_df[\"Category\"] = train_labels_df.apply (lambda row: label_text(row) , axis =1)"
      ],
      "metadata": {
        "id": "kFdEALy-32R4"
      },
      "execution_count": null,
      "outputs": []
    },
    {
      "cell_type": "code",
      "source": [
        "train_labels_df.head"
      ],
      "metadata": {
        "colab": {
          "base_uri": "https://localhost:8080/"
        },
        "id": "12pYO6wWyt2O",
        "outputId": "e701c96e-56a7-421e-b95f-9c46a90e3f99"
      },
      "execution_count": null,
      "outputs": [
        {
          "output_type": "execute_result",
          "data": {
            "text/plain": [
              "<bound method NDFrame.head of        Labels                     Category\n",
              "0           6  End of speed limit (80km/h)\n",
              "1           6  End of speed limit (80km/h)\n",
              "2           6  End of speed limit (80km/h)\n",
              "3           6  End of speed limit (80km/h)\n",
              "4           6  End of speed limit (80km/h)\n",
              "...       ...                          ...\n",
              "39204      32   End speed + passing limits\n",
              "39205      32   End speed + passing limits\n",
              "39206      32   End speed + passing limits\n",
              "39207      32   End speed + passing limits\n",
              "39208      32   End speed + passing limits\n",
              "\n",
              "[39209 rows x 2 columns]>"
            ]
          },
          "metadata": {},
          "execution_count": 17
        }
      ]
    },
    {
      "cell_type": "code",
      "source": [
        "train_labels_df['Category'].value_counts().plot(kind='bar',figsize=(12,10))"
      ],
      "metadata": {
        "colab": {
          "base_uri": "https://localhost:8080/",
          "height": 770
        },
        "id": "LsgD953B0EqQ",
        "outputId": "25a55a15-e41d-4601-f280-b67bc3cffad9"
      },
      "execution_count": null,
      "outputs": [
        {
          "output_type": "execute_result",
          "data": {
            "text/plain": [
              "<matplotlib.axes._subplots.AxesSubplot at 0x7f9e0eb14210>"
            ]
          },
          "metadata": {},
          "execution_count": 18
        },
        {
          "output_type": "display_data",
          "data": {
            "text/plain": [
              "<Figure size 864x720 with 1 Axes>"
            ],
            "image/png": "[encoded data removed]"
          },
          "metadata": {
            "needs_background": "light"
          }
        }
      ]
    },
    {
      "cell_type": "code",
      "source": [
        "test_labels_df = pd.DataFrame({'Labels': test_labels})\n",
        "test_labels_df['Labels'] = test_labels_df['Labels'].astype(str).astype(int)\n",
        "test_labels_df[\"Category\"] = test_labels_df.apply (lambda row: label_text(row) , axis =1)\n",
        "test_labels_df.info()"
      ],
      "metadata": {
        "colab": {
          "base_uri": "https://localhost:8080/"
        },
        "id": "PvKHmGy5Axdp",
        "outputId": "708e6294-3c60-4a76-91ab-634c6a4952fb"
      },
      "execution_count": null,
      "outputs": [
        {
          "output_type": "stream",
          "name": "stdout",
          "text": [
            "<class 'pandas.core.frame.DataFrame'>\n",
            "RangeIndex: 12630 entries, 0 to 12629\n",
            "Data columns (total 2 columns):\n",
            " #   Column    Non-Null Count  Dtype \n",
            "---  ------    --------------  ----- \n",
            " 0   Labels    12630 non-null  int64 \n",
            " 1   Category  12630 non-null  object\n",
            "dtypes: int64(1), object(1)\n",
            "memory usage: 197.5+ KB\n"
          ]
        }
      ]
    },
    {
      "cell_type": "code",
      "source": [
        "test_labels_df['Category'].value_counts().plot(kind='bar',figsize=(12,10))"
      ],
      "metadata": {
        "colab": {
          "base_uri": "https://localhost:8080/",
          "height": 770
        },
        "id": "_KGs944_CNJJ",
        "outputId": "f460bab0-4ba6-48e6-afb5-44cb2943f0e4"
      },
      "execution_count": null,
      "outputs": [
        {
          "output_type": "execute_result",
          "data": {
            "text/plain": [
              "<matplotlib.axes._subplots.AxesSubplot at 0x7f9e0e953850>"
            ]
          },
          "metadata": {},
          "execution_count": 20
        },
        {
          "output_type": "display_data",
          "data": {
            "text/plain": [
              "<Figure size 864x720 with 1 Axes>"
            ],
            "image/png": "[encoded data removed]"
          },
          "metadata": {
            "needs_background": "light"
          }
        }
      ]
    },
    {
      "cell_type": "markdown",
      "source": [
        "## Prepare the model's training and testing data, as well as convert the labels and data to the format or shape required by the model"
      ],
      "metadata": {
        "id": "NtVayffKGIpf"
      }
    },
    {
      "cell_type": "code",
      "source": [
        "color_img_arr = (color_img_arr/255.0).astype('float32')\n",
        "grayscale_img_arr = (grayscale_img_arr/255.0).astype('float32')\n",
        "test_images = (test_images/255.0).astype('float32')\n",
        "gray_test_images = (gray_test_images/255.0).astype('float32')"
      ],
      "metadata": {
        "id": "LPRI5mukCT0J"
      },
      "execution_count": null,
      "outputs": []
    },
    {
      "cell_type": "code",
      "source": [
        "from tensorflow.keras.utils import to_categorical"
      ],
      "metadata": {
        "id": "UJ_G8yOII6PQ"
      },
      "execution_count": null,
      "outputs": []
    },
    {
      "cell_type": "code",
      "source": [
        "train_labels_oh = to_categorical(train_labels)\n",
        "test_labels_oh = to_categorical(test_labels)"
      ],
      "metadata": {
        "id": "5mowJGZnICBS"
      },
      "execution_count": null,
      "outputs": []
    },
    {
      "cell_type": "markdown",
      "source": [
        "# Create two CNN models, one with color images and the other with greyscale images, using the following steps:   "
      ],
      "metadata": {
        "id": "UatuXLjBJa2G"
      }
    },
    {
      "cell_type": "code",
      "source": [
        "from tensorflow.keras.models import Sequential\n",
        "\n",
        "from tensorflow.keras.layers import Conv2D, MaxPooling2D, Dense, Flatten, Dropout\n",
        "\n",
        "from tensorflow.keras.callbacks import EarlyStopping, ModelCheckpoint\n",
        "\n",
        "import random"
      ],
      "metadata": {
        "id": "-JlTWRl4I2Sb"
      },
      "execution_count": null,
      "outputs": []
    },
    {
      "cell_type": "code",
      "source": [
        "random.seed(42)\n",
        "tf.random.set_seed(42)"
      ],
      "metadata": {
        "id": "xTU3IO2GJM48"
      },
      "execution_count": null,
      "outputs": []
    },
    {
      "cell_type": "markdown",
      "source": [
        "## Color Model"
      ],
      "metadata": {
        "id": "Shp-l4K7a4cc"
      }
    },
    {
      "cell_type": "code",
      "source": [
        "color_model = Sequential()\n",
        "\n",
        "color_model.add(Conv2D(filters=32, kernel_size = 5, padding =\"same\", activation=\"relu\", input_shape=(30,30,3)))\n",
        "color_model.add(MaxPooling2D(pool_size=(2,2)))\n",
        "color_model.add(Dropout(0.2))\n",
        "\n",
        "color_model.add(Conv2D(filters=16, kernel_size = 3, padding =\"same\", activation=\"relu\"))\n",
        "color_model.add(MaxPooling2D(pool_size=(2,2)))\n",
        "color_model.add(Dropout(0.2))\n",
        "\n",
        "color_model.add(Flatten())\n",
        "color_model.add(Dense(units=512, activation=\"relu\"))\n",
        "color_model.add(Dropout(0.2))\n",
        "\n",
        "color_model.add(Dense(units=43, activation=\"softmax\"))\n",
        "\n",
        "color_model.summary()"
      ],
      "metadata": {
        "colab": {
          "base_uri": "https://localhost:8080/"
        },
        "id": "URbqOK6xJPV1",
        "outputId": "c959553f-2821-4c11-d17c-36b6b0726288"
      },
      "execution_count": null,
      "outputs": [
        {
          "output_type": "stream",
          "name": "stdout",
          "text": [
            "Model: \"sequential_12\"\n",
            "_________________________________________________________________\n",
            " Layer (type)                Output Shape              Param #   \n",
            "=================================================================\n",
            " conv2d_28 (Conv2D)          (None, 30, 30, 32)        2432      \n",
            "                                                                 \n",
            " max_pooling2d_21 (MaxPoolin  (None, 15, 15, 32)       0         \n",
            " g2D)                                                            \n",
            "                                                                 \n",
            " dropout_31 (Dropout)        (None, 15, 15, 32)        0         \n",
            "                                                                 \n",
            " conv2d_29 (Conv2D)          (None, 15, 15, 16)        4624      \n",
            "                                                                 \n",
            " max_pooling2d_22 (MaxPoolin  (None, 7, 7, 16)         0         \n",
            " g2D)                                                            \n",
            "                                                                 \n",
            " dropout_32 (Dropout)        (None, 7, 7, 16)          0         \n",
            "                                                                 \n",
            " flatten_11 (Flatten)        (None, 784)               0         \n",
            "                                                                 \n",
            " dense_24 (Dense)            (None, 512)               401920    \n",
            "                                                                 \n",
            " dropout_33 (Dropout)        (None, 512)               0         \n",
            "                                                                 \n",
            " dense_25 (Dense)            (None, 43)                22059     \n",
            "                                                                 \n",
            "=================================================================\n",
            "Total params: 431,035\n",
            "Trainable params: 431,035\n",
            "Non-trainable params: 0\n",
            "_________________________________________________________________\n"
          ]
        }
      ]
    },
    {
      "cell_type": "code",
      "source": [
        "color_model.compile(optimizer=\"Adam\", loss=\"categorical_crossentropy\",\n",
        "                    metrics=['accuracy'])"
      ],
      "metadata": {
        "id": "Jerlh1CP5N6U"
      },
      "execution_count": null,
      "outputs": []
    },
    {
      "cell_type": "code",
      "source": [
        "callbacks = [EarlyStopping(monitor = 'val_loss', patience = 2),\n",
        "             ModelCheckpoint('.mdl_wts.hdf5', monitor = 'val_loss', save_best_only = True)]"
      ],
      "metadata": {
        "id": "cUIaPc4JAjUY"
      },
      "execution_count": null,
      "outputs": []
    },
    {
      "cell_type": "code",
      "source": [
        "from sklearn.utils import shuffle"
      ],
      "metadata": {
        "id": "7gjVEW_UYE72"
      },
      "execution_count": null,
      "outputs": []
    },
    {
      "cell_type": "code",
      "source": [
        "X_col, y_col = shuffle(color_img_arr, train_labels_oh)"
      ],
      "metadata": {
        "id": "mUseMc0cYJ3g"
      },
      "execution_count": null,
      "outputs": []
    },
    {
      "cell_type": "code",
      "source": [
        "history_color = color_model.fit(X_col, y_col,\n",
        "                                batch_size=32,\n",
        "                                validation_split=0.2,\n",
        "                                epochs=20,\n",
        "                                verbose=1,\n",
        "                                callbacks=callbacks)"
      ],
      "metadata": {
        "colab": {
          "base_uri": "https://localhost:8080/"
        },
        "id": "Ndx9gVZk5yfD",
        "outputId": "bd731cd0-45bc-4643-e4ed-c4080f58f49d"
      },
      "execution_count": null,
      "outputs": [
        {
          "output_type": "stream",
          "name": "stdout",
          "text": [
            "Epoch 1/20\n",
            "981/981 [==============================] - 5s 5ms/step - loss: 0.5495 - accuracy: 0.8370 - val_loss: 0.1791 - val_accuracy: 0.9568\n",
            "Epoch 2/20\n",
            "981/981 [==============================] - 5s 5ms/step - loss: 0.2346 - accuracy: 0.9285 - val_loss: 0.1111 - val_accuracy: 0.9741\n",
            "Epoch 3/20\n",
            "981/981 [==============================] - 5s 5ms/step - loss: 0.1612 - accuracy: 0.9519 - val_loss: 0.0686 - val_accuracy: 0.9844\n",
            "Epoch 4/20\n",
            "981/981 [==============================] - 5s 5ms/step - loss: 0.1226 - accuracy: 0.9619 - val_loss: 0.0520 - val_accuracy: 0.9889\n",
            "Epoch 5/20\n",
            "981/981 [==============================] - 5s 5ms/step - loss: 0.1051 - accuracy: 0.9670 - val_loss: 0.0506 - val_accuracy: 0.9889\n",
            "Epoch 6/20\n",
            "981/981 [==============================] - 5s 5ms/step - loss: 0.0933 - accuracy: 0.9697 - val_loss: 0.0437 - val_accuracy: 0.9894\n",
            "Epoch 7/20\n",
            "981/981 [==============================] - 5s 5ms/step - loss: 0.0812 - accuracy: 0.9748 - val_loss: 0.0442 - val_accuracy: 0.9884\n",
            "Epoch 8/20\n",
            "981/981 [==============================] - 5s 5ms/step - loss: 0.0767 - accuracy: 0.9751 - val_loss: 0.0382 - val_accuracy: 0.9908\n",
            "Epoch 9/20\n",
            "981/981 [==============================] - 5s 5ms/step - loss: 0.0616 - accuracy: 0.9797 - val_loss: 0.0361 - val_accuracy: 0.9911\n",
            "Epoch 10/20\n",
            "981/981 [==============================] - 5s 5ms/step - loss: 0.0676 - accuracy: 0.9796 - val_loss: 0.0409 - val_accuracy: 0.9906\n",
            "Epoch 11/20\n",
            "981/981 [==============================] - 5s 5ms/step - loss: 0.0638 - accuracy: 0.9805 - val_loss: 0.0385 - val_accuracy: 0.9898\n"
          ]
        }
      ]
    },
    {
      "cell_type": "markdown",
      "source": [
        "## Grayscale Model"
      ],
      "metadata": {
        "id": "e4hGPtlJbCBX"
      }
    },
    {
      "cell_type": "code",
      "source": [
        "gray_model = Sequential()\n",
        "\n",
        "gray_model.add(Conv2D(filters=32, kernel_size = 5, padding =\"same\", activation=\"relu\", input_shape=(30,30,1)))\n",
        "gray_model.add(MaxPooling2D(pool_size=(2,2)))\n",
        "gray_model.add(Dropout(0.2))\n",
        "\n",
        "gray_model.add(Conv2D(filters=16, kernel_size = 3, padding =\"same\", activation=\"relu\"))\n",
        "gray_model.add(MaxPooling2D(pool_size=(2,2)))\n",
        "gray_model.add(Dropout(0.2))\n",
        "\n",
        "gray_model.add(Flatten())\n",
        "gray_model.add(Dense(units=512, activation=\"relu\"))\n",
        "gray_model.add(Dropout(0.2))\n",
        "\n",
        "gray_model.add(Dense(units=43, activation=\"softmax\"))\n",
        "\n",
        "gray_model.summary()"
      ],
      "metadata": {
        "colab": {
          "base_uri": "https://localhost:8080/"
        },
        "id": "v6-pazXhbEu7",
        "outputId": "a9b35562-9d6c-458c-d550-536a9bd8c048"
      },
      "execution_count": null,
      "outputs": [
        {
          "output_type": "stream",
          "name": "stdout",
          "text": [
            "Model: \"sequential_15\"\n",
            "_________________________________________________________________\n",
            " Layer (type)                Output Shape              Param #   \n",
            "=================================================================\n",
            " conv2d_33 (Conv2D)          (None, 30, 30, 32)        832       \n",
            "                                                                 \n",
            " max_pooling2d_25 (MaxPoolin  (None, 15, 15, 32)       0         \n",
            " g2D)                                                            \n",
            "                                                                 \n",
            " dropout_37 (Dropout)        (None, 15, 15, 32)        0         \n",
            "                                                                 \n",
            " conv2d_34 (Conv2D)          (None, 15, 15, 16)        4624      \n",
            "                                                                 \n",
            " max_pooling2d_26 (MaxPoolin  (None, 7, 7, 16)         0         \n",
            " g2D)                                                            \n",
            "                                                                 \n",
            " dropout_38 (Dropout)        (None, 7, 7, 16)          0         \n",
            "                                                                 \n",
            " flatten_13 (Flatten)        (None, 784)               0         \n",
            "                                                                 \n",
            " dense_28 (Dense)            (None, 512)               401920    \n",
            "                                                                 \n",
            " dropout_39 (Dropout)        (None, 512)               0         \n",
            "                                                                 \n",
            " dense_29 (Dense)            (None, 43)                22059     \n",
            "                                                                 \n",
            "=================================================================\n",
            "Total params: 429,435\n",
            "Trainable params: 429,435\n",
            "Non-trainable params: 0\n",
            "_________________________________________________________________\n"
          ]
        }
      ]
    },
    {
      "cell_type": "code",
      "source": [
        "gray_model.compile(optimizer=\"Adam\", loss=\"categorical_crossentropy\",\n",
        "                    metrics=['accuracy'])"
      ],
      "metadata": {
        "id": "ql3p7jhpcb4d"
      },
      "execution_count": null,
      "outputs": []
    },
    {
      "cell_type": "code",
      "source": [
        "X_gray, y_gray = shuffle(grayscale_img_arr, train_labels_oh)"
      ],
      "metadata": {
        "id": "lp7DhAKecmu-"
      },
      "execution_count": null,
      "outputs": []
    },
    {
      "cell_type": "code",
      "source": [
        "history_gray = gray_model.fit(X_gray, y_gray,\n",
        "                              batch_size=32,\n",
        "                              validation_split=0.2,\n",
        "                              epochs=20,\n",
        "                              verbose=1,\n",
        "                              callbacks=callbacks)"
      ],
      "metadata": {
        "colab": {
          "base_uri": "https://localhost:8080/"
        },
        "id": "mOSgJBAZcuVS",
        "outputId": "68d117f5-61f8-4b15-ddfc-5b105ad0b4ec"
      },
      "execution_count": null,
      "outputs": [
        {
          "output_type": "stream",
          "name": "stdout",
          "text": [
            "Epoch 1/20\n",
            "981/981 [==============================] - 5s 5ms/step - loss: 1.4594 - accuracy: 0.5936 - val_loss: 0.3821 - val_accuracy: 0.9028\n",
            "Epoch 2/20\n",
            "981/981 [==============================] - 4s 4ms/step - loss: 0.3773 - accuracy: 0.8885 - val_loss: 0.1730 - val_accuracy: 0.9591\n",
            "Epoch 3/20\n",
            "981/981 [==============================] - 4s 4ms/step - loss: 0.2294 - accuracy: 0.9311 - val_loss: 0.1037 - val_accuracy: 0.9774\n",
            "Epoch 4/20\n",
            "981/981 [==============================] - 4s 4ms/step - loss: 0.1661 - accuracy: 0.9504 - val_loss: 0.0808 - val_accuracy: 0.9815\n",
            "Epoch 5/20\n",
            "981/981 [==============================] - 4s 4ms/step - loss: 0.1349 - accuracy: 0.9607 - val_loss: 0.0726 - val_accuracy: 0.9829\n",
            "Epoch 6/20\n",
            "981/981 [==============================] - 4s 4ms/step - loss: 0.1044 - accuracy: 0.9674 - val_loss: 0.0570 - val_accuracy: 0.9880\n",
            "Epoch 7/20\n",
            "981/981 [==============================] - 4s 4ms/step - loss: 0.0919 - accuracy: 0.9709 - val_loss: 0.0643 - val_accuracy: 0.9855\n",
            "Epoch 8/20\n",
            "981/981 [==============================] - 4s 4ms/step - loss: 0.0789 - accuracy: 0.9753 - val_loss: 0.0472 - val_accuracy: 0.9895\n",
            "Epoch 9/20\n",
            "981/981 [==============================] - 4s 4ms/step - loss: 0.0736 - accuracy: 0.9773 - val_loss: 0.0506 - val_accuracy: 0.9892\n",
            "Epoch 10/20\n",
            "981/981 [==============================] - 4s 4ms/step - loss: 0.0650 - accuracy: 0.9789 - val_loss: 0.0469 - val_accuracy: 0.9894\n",
            "Epoch 11/20\n",
            "981/981 [==============================] - 4s 4ms/step - loss: 0.0651 - accuracy: 0.9783 - val_loss: 0.0401 - val_accuracy: 0.9899\n",
            "Epoch 12/20\n",
            "981/981 [==============================] - 4s 4ms/step - loss: 0.0493 - accuracy: 0.9846 - val_loss: 0.0476 - val_accuracy: 0.9883\n",
            "Epoch 13/20\n",
            "981/981 [==============================] - 5s 5ms/step - loss: 0.0537 - accuracy: 0.9835 - val_loss: 0.0441 - val_accuracy: 0.9901\n"
          ]
        }
      ]
    },
    {
      "cell_type": "markdown",
      "source": [
        "##Plot the training and validation accuracy for color and grayscale models"
      ],
      "metadata": {
        "id": "TurHraxpcNMe"
      }
    },
    {
      "cell_type": "code",
      "source": [
        "import matplotlib.pyplot as plt"
      ],
      "metadata": {
        "id": "zowvhN7G_mTt"
      },
      "execution_count": null,
      "outputs": []
    },
    {
      "cell_type": "code",
      "source": [
        "# Function to plot train and validation accuracy \n",
        "def plot_accuracy(history):\n",
        "\n",
        "    N = len(history.history[\"accuracy\"])\n",
        "\n",
        "    plt.figure(figsize = (7, 7))\n",
        "\n",
        "    plt.plot(np.arange(0, N), history.history[\"accuracy\"], label = \"train_accuracy\", ls = '--')\n",
        "\n",
        "    plt.plot(np.arange(0, N), history.history[\"val_accuracy\"], label = \"val_accuracy\", ls = '--')\n",
        "\n",
        "    plt.title(\"Accuracy vs Epoch\")\n",
        "    \n",
        "    plt.xlabel(\"Epochs\")\n",
        "    \n",
        "    plt.ylabel(\"Accuracy\")\n",
        "    \n",
        "    plt.legend(loc=\"upper left\")"
      ],
      "metadata": {
        "id": "iIk-SmIi6TCg"
      },
      "execution_count": null,
      "outputs": []
    },
    {
      "cell_type": "code",
      "source": [
        "plot_accuracy(history_color)"
      ],
      "metadata": {
        "colab": {
          "base_uri": "https://localhost:8080/",
          "height": 458
        },
        "id": "vGsiWgWG_ftZ",
        "outputId": "fdceb992-163d-4a39-e145-be9ae5b733f3"
      },
      "execution_count": null,
      "outputs": [
        {
          "output_type": "display_data",
          "data": {
            "text/plain": [
              "<Figure size 504x504 with 1 Axes>"
            ],
            "image/png": "[encoded data removed]"
          },
          "metadata": {
            "needs_background": "light"
          }
        }
      ]
    },
    {
      "cell_type": "code",
      "source": [
        "plot_accuracy(history_gray)"
      ],
      "metadata": {
        "colab": {
          "base_uri": "https://localhost:8080/",
          "height": 458
        },
        "id": "e8mKy6uW_q9_",
        "outputId": "e6e526a3-c33f-4531-f091-9af9fd225478"
      },
      "execution_count": null,
      "outputs": [
        {
          "output_type": "display_data",
          "data": {
            "text/plain": [
              "<Figure size 504x504 with 1 Axes>"
            ],
            "image/png": "[encoded data removed]"
          },
          "metadata": {
            "needs_background": "light"
          }
        }
      ]
    },
    {
      "cell_type": "markdown",
      "source": [
        "## Observe the precision, recall the F1-score for all classes for both grayscale and color models, and determine if the model's classes are good \n",
        "\n"
      ],
      "metadata": {
        "id": "ouBIZ2kKebkX"
      }
    },
    {
      "cell_type": "code",
      "source": [
        "from sklearn.metrics import classification_report\n",
        "\n",
        "from sklearn.metrics import confusion_matrix"
      ],
      "metadata": {
        "id": "55VSc6YxeCIU"
      },
      "execution_count": null,
      "outputs": []
    },
    {
      "cell_type": "markdown",
      "source": [
        "### Color"
      ],
      "metadata": {
        "id": "WatNjvxzexNX"
      }
    },
    {
      "cell_type": "code",
      "source": [
        "def evaluate_model(model, images, labels_oh):\n",
        "  accuracy = model.evaluate(images, labels_oh)\n",
        "  print('\\n', 'Test_Accuracy: ', accuracy[1],'\\n')\n",
        "  \n",
        "  pred = model.predict(images)\n",
        "  pred = np.argmax(pred, axis=1)\n",
        "  y_true = np.argmax(labels_oh, axis=1)\n",
        "  \n",
        "  print(classification_report(y_true, pred))"
      ],
      "metadata": {
        "id": "280SYmBSewxL"
      },
      "execution_count": null,
      "outputs": []
    },
    {
      "cell_type": "code",
      "source": [
        "evaluate_model(color_model, test_images, test_labels_oh)"
      ],
      "metadata": {
        "colab": {
          "base_uri": "https://localhost:8080/"
        },
        "id": "YZNyXdpTerci",
        "outputId": "950b938f-a989-4b93-c311-da66ed056630"
      },
      "execution_count": null,
      "outputs": [
        {
          "output_type": "stream",
          "name": "stdout",
          "text": [
            "395/395 [==============================] - 2s 4ms/step - loss: 0.3127 - accuracy: 0.9348\n",
            "\n",
            " Test_Accuracy:  0.9348376989364624 \n",
            "\n",
            "              precision    recall  f1-score   support\n",
            "\n",
            "           0       0.87      0.68      0.77        60\n",
            "           1       0.89      0.93      0.91       720\n",
            "           2       0.89      0.97      0.93       750\n",
            "           3       0.93      0.92      0.92       450\n",
            "           4       0.92      0.93      0.93       660\n",
            "           5       0.89      0.85      0.87       630\n",
            "           6       0.96      0.82      0.88       150\n",
            "           7       0.97      0.87      0.92       450\n",
            "           8       0.96      0.89      0.92       450\n",
            "           9       0.95      1.00      0.97       480\n",
            "          10       0.98      0.98      0.98       660\n",
            "          11       0.96      0.96      0.96       420\n",
            "          12       0.92      0.98      0.95       690\n",
            "          13       0.97      0.99      0.98       720\n",
            "          14       1.00      1.00      1.00       270\n",
            "          15       0.96      1.00      0.98       210\n",
            "          16       0.94      0.99      0.97       150\n",
            "          17       1.00      0.94      0.97       360\n",
            "          18       0.94      0.85      0.89       390\n",
            "          19       0.79      0.98      0.87        60\n",
            "          20       0.61      1.00      0.76        90\n",
            "          21       0.96      0.57      0.71        90\n",
            "          22       0.97      0.97      0.97       120\n",
            "          23       0.96      0.89      0.92       150\n",
            "          24       0.93      0.86      0.89        90\n",
            "          25       0.94      0.94      0.94       480\n",
            "          26       0.81      0.93      0.87       180\n",
            "          27       0.64      0.50      0.56        60\n",
            "          28       0.95      0.96      0.95       150\n",
            "          29       0.82      0.93      0.87        90\n",
            "          30       0.88      0.56      0.69       150\n",
            "          31       0.95      0.97      0.96       270\n",
            "          32       0.86      1.00      0.92        60\n",
            "          33       0.97      1.00      0.98       210\n",
            "          34       1.00      0.97      0.99       120\n",
            "          35       0.97      1.00      0.98       390\n",
            "          36       0.98      0.98      0.98       120\n",
            "          37       0.95      1.00      0.98        60\n",
            "          38       0.99      0.97      0.98       690\n",
            "          39       0.99      0.92      0.95        90\n",
            "          40       0.93      0.87      0.90        90\n",
            "          41       1.00      0.83      0.91        60\n",
            "          42       1.00      0.98      0.99        90\n",
            "\n",
            "    accuracy                           0.93     12630\n",
            "   macro avg       0.92      0.91      0.91     12630\n",
            "weighted avg       0.94      0.93      0.93     12630\n",
            "\n"
          ]
        }
      ]
    },
    {
      "cell_type": "code",
      "source": [
        "evaluate_model(gray_model, gray_test_images, test_labels_oh)"
      ],
      "metadata": {
        "colab": {
          "base_uri": "https://localhost:8080/"
        },
        "id": "StfoFBOTgni8",
        "outputId": "3e34e2a0-fa13-4bdd-c0f0-30b950601848"
      },
      "execution_count": null,
      "outputs": [
        {
          "output_type": "stream",
          "name": "stdout",
          "text": [
            "395/395 [==============================] - 1s 4ms/step - loss: 0.3068 - accuracy: 0.9407\n",
            "\n",
            " Test_Accuracy:  0.9406967759132385 \n",
            "\n",
            "              precision    recall  f1-score   support\n",
            "\n",
            "           0       1.00      0.83      0.91        60\n",
            "           1       0.92      0.98      0.95       720\n",
            "           2       0.99      0.95      0.97       750\n",
            "           3       0.86      0.97      0.91       450\n",
            "           4       0.95      0.97      0.96       660\n",
            "           5       0.94      0.93      0.93       630\n",
            "           6       1.00      0.82      0.90       150\n",
            "           7       0.96      0.87      0.91       450\n",
            "           8       0.91      0.94      0.93       450\n",
            "           9       0.98      0.95      0.97       480\n",
            "          10       0.96      0.99      0.97       660\n",
            "          11       0.87      0.97      0.92       420\n",
            "          12       0.98      0.97      0.97       690\n",
            "          13       0.97      1.00      0.98       720\n",
            "          14       0.95      0.98      0.97       270\n",
            "          15       0.98      1.00      0.99       210\n",
            "          16       1.00      0.99      0.99       150\n",
            "          17       1.00      0.99      1.00       360\n",
            "          18       0.92      0.90      0.91       390\n",
            "          19       0.60      1.00      0.75        60\n",
            "          20       0.90      0.91      0.91        90\n",
            "          21       1.00      0.59      0.74        90\n",
            "          22       0.98      0.87      0.92       120\n",
            "          23       0.77      0.80      0.78       150\n",
            "          24       0.86      0.67      0.75        90\n",
            "          25       0.97      0.94      0.95       480\n",
            "          26       0.78      0.96      0.86       180\n",
            "          27       0.79      0.50      0.61        60\n",
            "          28       0.99      0.89      0.94       150\n",
            "          29       0.91      0.89      0.90        90\n",
            "          30       0.86      0.63      0.73       150\n",
            "          31       0.97      0.97      0.97       270\n",
            "          32       0.87      1.00      0.93        60\n",
            "          33       0.97      0.97      0.97       210\n",
            "          34       0.95      0.97      0.96       120\n",
            "          35       0.98      0.97      0.98       390\n",
            "          36       0.98      0.97      0.97       120\n",
            "          37       0.87      0.97      0.91        60\n",
            "          38       0.96      0.95      0.95       690\n",
            "          39       0.88      0.94      0.91        90\n",
            "          40       0.99      0.76      0.86        90\n",
            "          41       0.97      0.95      0.96        60\n",
            "          42       0.97      0.97      0.97        90\n",
            "\n",
            "    accuracy                           0.94     12630\n",
            "   macro avg       0.93      0.91      0.91     12630\n",
            "weighted avg       0.94      0.94      0.94     12630\n",
            "\n"
          ]
        }
      ]
    },
    {
      "cell_type": "markdown",
      "source": [
        "## Compare the color and grayscale CNN models and analyze which model is better\n",
        "\n",
        "The color and grayscale model have very similar perfromance. \n",
        "\n",
        "Test Accuracy:\n",
        "* Color - 93.48%\n",
        "* Grayscale - 94.07%\n",
        "\n",
        "Weighted Average Presicion\n",
        "* Color - 0.94\n",
        "* Grayscale - 0.94\n",
        "\n",
        "Weighted Average Recall\n",
        "* Color - 0.93\n",
        "* Grayscale - 0.94\n",
        "\n",
        "Weighted Average F1-score\n",
        "* Color - 0.93\n",
        "* Grayscale - 0.94\n",
        "\n",
        "The greyscale model performs slightly better than the color model. My guess is that some of the colors may confuse the model slightly and that the shapes are more important overall."
      ],
      "metadata": {
        "id": "5GAgd4UKh4yw"
      }
    }
  ]
}